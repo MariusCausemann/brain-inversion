{
 "cells": [
  {
   "cell_type": "code",
   "execution_count": null,
   "metadata": {},
   "outputs": [],
   "source": [
    "%load_ext autoreload\n",
    "%autoreload\n",
    "from fenics import *\n",
    "import matplotlib.pyplot as plt\n",
    "import numpy as np\n",
    "from fenics_adjoint import *\n",
    "from DarcySolver import solve_darcy\n",
    "import sympy as sym\n",
    "\n",
    "T = 2           # final time\n",
    "num_steps = 10    # number of time steps\n",
    "dt = T / num_steps\n",
    "resolutions = [5,10,20,40]\n",
    "\n",
    "K_value = 1e-10\n",
    "boundary_all = CompiledSubDomain(\"on_boundary\")\n",
    "boundary_right = CompiledSubDomain(\"on_boundary && near(x[0], 1)\")\n",
    "boundary_left = CompiledSubDomain(\"on_boundary && near(x[0], 0)\")\n",
    "boundary_top = CompiledSubDomain(\"on_boundary && near(x[1], 1)\")\n",
    "boundary_bottom = CompiledSubDomain(\"on_boundary && near(x[1], 0)\")\n",
    "x, y = sym.symbols('x[0], x[1]')\n",
    "t, K = sym.symbols('t, K')\n",
    "\n",
    "#p_e = (1 + x**2 + 2*y**2)\n",
    "p_e = (sym.sin(2*x)*sym.sin(5*y)*4)*t\n",
    "#p_e = sym.exp(1+t**2 + x**2 + y**2)\n",
    "\n",
    "f = - K* (sym.diff(sym.diff(p_e, x), x) + sym.diff( sym.diff(p_e, y), y) ) + sym.diff(p_e, t)\n",
    "f = sym.simplify(f)\n",
    "p_N_right = - sym.diff( p_e, x).subs(x, 1)\n",
    "p_N_left = sym.diff(p_e, x).subs(x, 0)\n",
    "p_N_bottom = sym.diff(p_e, y).subs(y, 0)\n",
    "p_N_top = - sym.diff(p_e, y).subs(y, 1)\n",
    "\n",
    "variables = [p_e, f, p_N_right, p_N_left, p_N_bottom, p_N_top]\n",
    "variables_code = [sym.printing.ccode(var) for var in variables]\n",
    "variables = [Expression(var,t=0,K=K_value, degree=3) for var in variables_code]\n",
    "p_e, f, p_N_right, p_N_left, p_N_bottom, p_N_top = variables\n",
    "\n",
    "def compute_order(error, h):\n",
    "    h = np.array(h)\n",
    "    err_ratio = np.array(error[:-1]) / np.array(error[1:])\n",
    "    return np.log(err_ratio)/np.log(h[:-1] / h[1:])"
   ]
  },
  {
   "cell_type": "code",
   "execution_count": null,
   "metadata": {},
   "outputs": [],
   "source": [
    "def darcy_convergence(resolutions, boundaries, boundary_conditions):\n",
    "    L2_errors = []\n",
    "    h = []\n",
    "    for N in resolutions:\n",
    "        p_e.t = 0\n",
    "        mesh = UnitSquareMesh(N, N)\n",
    "        h.append(mesh.hmax())\n",
    "        boundary_marker = MeshFunction(\"size_t\", mesh, mesh.topology().dim()-1, value=0)\n",
    "        \n",
    "        for b, marker_id in boundaries.items():\n",
    "            b.mark(boundary_marker, marker_id)\n",
    "\n",
    "        solution = solve_darcy(mesh, f, T, num_steps, K_value,\n",
    "                               boundary_marker, boundary_conditions,\n",
    "                               p_initial=p_e, degree=1, theta=0.5)\n",
    "        solution = [s.copy() for s in solution]\n",
    "        J = 0\n",
    "        for i,p in enumerate(solution):\n",
    "            p_e.t = (i +1)*dt\n",
    "            J += errornorm(p_e, p, \"L2\")\n",
    "        L2_errors.append(J/num_steps)\n",
    "    return L2_errors, h, solution"
   ]
  },
  {
   "cell_type": "code",
   "execution_count": null,
   "metadata": {},
   "outputs": [],
   "source": [
    "# Dirichlet boundary conditions\n",
    "boundaries = {boundary_all:1}\n",
    "boundary_conditions = {1:{\"Dirichlet\":p_e}}\n",
    "L2_errors, h, solution = darcy_convergence(resolutions, boundaries, boundary_conditions)\n",
    "compute_order(L2_errors, h)"
   ]
  },
  {
   "cell_type": "code",
   "execution_count": null,
   "metadata": {},
   "outputs": [],
   "source": [
    "# Neumann boundary conditions\n",
    "boundaries = {boundary_top: 1,\n",
    "              boundary_bottom: 1,\n",
    "              boundary_left: 2,\n",
    "              boundary_right: 3}\n",
    "\n",
    "boundary_conditions = {1:{\"Dirichlet\": p_e},\n",
    "                       2:{\"Neumann\": p_N_left},\n",
    "                       3:{\"Neumann\": p_N_right},\n",
    "                       }\n",
    "L2_errors, h, solution = darcy_convergence(resolutions, boundaries, boundary_conditions)\n",
    "compute_order(L2_errors, h)"
   ]
  },
  {
   "cell_type": "code",
   "execution_count": null,
   "metadata": {},
   "outputs": [],
   "source": [
    "# Robin boundary conditions\n",
    "boundaries = {boundary_top: 1,\n",
    "              boundary_bottom: 1,\n",
    "              boundary_left: 2,\n",
    "              boundary_right: 3}\n",
    "beta = 0.5\n",
    "boundary_conditions = {1:{\"Dirichlet\":p_e},\n",
    "                       2:{\"Robin\": (beta, beta*p_e + p_N_left) },\n",
    "                       3:{\"Robin\": (beta, beta*p_e + p_N_right) },\n",
    "                       }\n",
    "\n",
    "L2_errors, h, solution = darcy_convergence(resolutions, boundaries, boundary_conditions)\n",
    "compute_order(L2_errors, h)"
   ]
  },
  {
   "cell_type": "code",
   "execution_count": null,
   "metadata": {},
   "outputs": [],
   "source": []
  }
 ],
 "metadata": {
  "kernelspec": {
   "display_name": "Python 3",
   "language": "python",
   "name": "python3"
  },
  "language_info": {
   "codemirror_mode": {
    "name": "ipython",
    "version": 3
   },
   "file_extension": ".py",
   "mimetype": "text/x-python",
   "name": "python",
   "nbconvert_exporter": "python",
   "pygments_lexer": "ipython3",
   "version": "3.6.9"
  }
 },
 "nbformat": 4,
 "nbformat_minor": 2
}
