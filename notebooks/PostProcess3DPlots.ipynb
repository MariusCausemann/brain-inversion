{
 "cells": [
  {
   "cell_type": "code",
   "execution_count": null,
   "metadata": {},
   "outputs": [],
   "source": [
    "%load_ext autoreload\n",
    "%autoreload 2\n",
    "import matplotlib\n",
    "#matplotlib.use('agg')\n",
    "import matplotlib.pyplot as plt\n",
    "from fenics import *\n",
    "from multiphenics import *\n",
    "import numpy as np\n",
    "import yaml\n",
    "import pyvista as pv\n",
    "from pathlib import Path\n",
    "import imageio\n",
    "from braininversion.PostProcessing import (extract_data,\n",
    "                                           plot_partial_3D,\n",
    "                                           load_results_and_mesh)\n",
    "import warnings\n",
    "warnings.filterwarnings(\"ignore\")\n",
    "#pv.set_plot_theme(\"document\")\n"
   ]
  },
  {
   "cell_type": "code",
   "execution_count": null,
   "metadata": {},
   "outputs": [],
   "source": [
    "cd ~/Documents/brain-force-inversion/brain-inversion/"
   ]
  },
  {
   "cell_type": "code",
   "execution_count": null,
   "metadata": {},
   "outputs": [],
   "source": [
    "try:\n",
    "    mesh_file = snakemake.input[\"subdomain_file\"]\n",
    "    sim_file = snakemake.input[\"sim_results\"]\n",
    "    sim_config_file = snakemake.input[\"sim_config_file\"]\n",
    "except NameError:\n",
    "    mesh_name = \"MRIExampleSegmentation_Nvcoarse\"\n",
    "    sim_name = \"standard\"\n",
    "\n",
    "mesh_grid, sim_config, mesh_config, sim_file, source_expr =  load_results_and_mesh(mesh_name, sim_name)\n",
    "cpos_close = [ [0.2, 0.15, -0.01], [0, 0, 0], [0.0, 0.0, 1.0] ]\n",
    "ventricular_system = [dom[\"name\"] for dom in mesh_config[\"domains\"] if dom[\"name\"] not in [\"csf\",\"parenchyma\"]]\n",
    "probes = mesh_config[\"probes\"]\n",
    "flatprobes = dict(**probes[\"sas\"],**probes[\"parenchyma\"],**probes[\"ventricular_system\"])\n",
    "domains = mesh_config[\"domains\"]\n",
    "name_to_label = {dom[\"name\"]:dom[\"id\"] for dom in domains}"
   ]
  },
  {
   "cell_type": "code",
   "execution_count": null,
   "metadata": {},
   "outputs": [],
   "source": [
    "vent = extract_data(mesh_grid, \"subdomains\", ventricular_system, 5, sim_file, mesh_config)\n",
    "csf = extract_data(mesh_grid, \"subdomains\", [\"csf\"], 5, sim_file, mesh_config)\n",
    "par = extract_data(mesh_grid, \"subdomains\", [\"parenchyma\"], 5, sim_file, mesh_config)\n",
    "\n",
    "\n",
    "csf_par_probes = flatprobes = dict(**probes[\"sas\"],**probes[\"parenchyma\"])\n",
    "\n",
    "cpos_far = [(0.3, 0.2, -0.00), (-0.00, 0.000, -0.01), (0.0, 0.0, 1.0)]\n",
    "\n",
    "p = pv.Plotter(notebook=True, polygon_smoothing=True)\n",
    "#p.set_background(\"grey\")\n",
    "p.add_mesh(par, opacity=0.2, color=\"red\",)\n",
    "p.add_mesh(csf, opacity=0.2, color=\"white\")\n",
    "p.add_mesh(vent, opacity=0.6, color=\"blue\")\n",
    "\n",
    "p.add_point_labels(list(csf_par_probes.values()), csf_par_probes.keys(),\n",
    "                   point_color=\"red\", point_size=20,\n",
    "                   render_points_as_spheres=False)\n",
    "p.camera_position = cpos_far\n",
    "p.screenshot(transparent_background=False, filename=\"results/par_points.png\")\n",
    "p.show()"
   ]
  },
  {
   "cell_type": "code",
   "execution_count": null,
   "metadata": {},
   "outputs": [],
   "source": [
    "vent = extract_data(mesh_grid, \"subdomains\", ventricular_system, 5, sim_file, mesh_config)\n",
    "\n",
    "cpos_close = [(0.2, 0.1, -0.00), (-0.00, 0.000, -0.01), (0.0, 0.0, 1.0)]\n",
    "\n",
    "p = pv.Plotter(notebook=True, line_smoothing=True)\n",
    "#p.set_background(\"grey\")\n",
    "p.add_mesh(vent, opacity=0.8, cmap=\"coolwarm\", show_scalar_bar=False)\n",
    "\n",
    "p.add_point_labels(list(probes[\"ventricular_system\"].values()), probes[\"ventricular_system\"].keys(),\n",
    "                   point_color=\"red\", point_size=20,\n",
    "                   render_points_as_spheres=False)\n",
    "p.camera_position = cpos_close\n",
    "p.screenshot(transparent_background=False, return_img=False, window_size=None, filename=\"results/ventricle_points.png\")\n",
    "p.show()"
   ]
  },
  {
   "cell_type": "code",
   "execution_count": null,
   "metadata": {},
   "outputs": [],
   "source": [
    "scenes = [{\"var\":\"d\", \"mesh_parts\": [\"parenchyma\"], \"vec_scale\":20, \"clip\":[(1,0,0)],\n",
    "                                 \"interactive\" : {\"color\":\"red\", \"opacity\":1},\n",
    "                                 \"static\" : {\"color\":\"red\", \"opacity\":1} },\n",
    "                               {\"var\":\"pF\", \"mesh_parts\": ventricular_system,\n",
    "                                 \"interactive\" : { \"opacity\":0.3},\n",
    "                                 \"static\" : {\"color\":\"red\", \"opacity\":1} }]\n",
    "\n",
    "p,_ = plot_partial_3D(mesh_grid, idx, scenes, sim_file, mesh_config, cpos_close, interactive=True)\n",
    "p.show()"
   ]
  },
  {
   "cell_type": "code",
   "execution_count": null,
   "metadata": {},
   "outputs": [],
   "source": [
    "cpos_far = [(0.3, 0.2, -0.05), (-0.00, 0.000, -0.02), (0.0, 0.0, 1.0)]\n",
    "sargs = dict(title_font_size=20,label_font_size=16,shadow=True,n_labels=3,\n",
    "             italic=True,font_family=\"arial\", height=0.4, vertical=True, position_y=0.05)\n",
    "sargs_u = None\n",
    "sargs_pF = None\n",
    "\n",
    "p_clim = [-20,20]\n",
    "\n",
    "scenes = [{\"var\":\"u\", \"mesh_parts\": [\"csf\"], \"vec_scale\":1, \"clip\":[(1,0,0)],\"arrow\":True,\n",
    "            \"interactive\" : {\"color\":\"blue\", \"opacity\":1},\n",
    "            \"static\" : {\"cmap\":\"speed\", \"opacity\":1, \"stitle\":\" mag(u)\", \"scalar_bar_args\":sargs_u}},\n",
    "           {\"var\":\"pF\", \"mesh_parts\": ventricular_system,\n",
    "             \"interactive\" : {\"color\":\"white\", \"opacity\":0.5},\n",
    "             \"static\" : {\"cmap\":\"coolwarm\", \"opacity\":0.8,\n",
    "                        \"scalar_bar_args\":sargs_pF, \"clim\":p_clim}}]\n",
    "\n",
    "p,_ = plot_partial_3D(mesh_grid, idx, scenes, sim_file, mesh_config, cpos_close, interactive=True)\n",
    "p.show()"
   ]
  },
  {
   "cell_type": "code",
   "execution_count": null,
   "metadata": {},
   "outputs": [],
   "source": [
    "scenes = [{\"var\":\"d\", \"mesh_parts\": [\"parenchyma\"], \"warp\":True, \"clip\":[(1,0,0)],\n",
    "                                      \"warp_fac\":1e1, \"vec_scale\":1e1,\n",
    "                                     \"interactive\" : {\"color\":\"blue\", \"opacity\":1},\n",
    "                                     \"static\" : {\"cmap\":cm.speed, \"opacity\":1, \"stitle\":\" mag(d)\",\n",
    "                                     \"scalar_bar_args\":sargs_u}}],"
   ]
  },
  {
   "cell_type": "code",
   "execution_count": null,
   "metadata": {},
   "outputs": [],
   "source": [
    "sargs_u = None\n",
    "sargs_pF = None\n",
    "sargs_phi = None\n",
    "func = lambda idx, clip, cpos, clim: plot_partial_3D(mesh_grid, idx,\n",
    "                        [{\"var\":\"phi\", \"mesh_parts\": [\"parenchyma\"], \"clip\":clip,\n",
    "                         \"static\" : {\"cmap\":\"coolwarm\",\"scalar_bar_args\":sargs_phi, \"clim\":clim}},\n",
    "                         {\"var\":\"d\", \"mesh_parts\": [\"parenchyma\"], \"clip\":clip, \"arrow\":True,\"vec_scale\":20,\n",
    "                         \"static\" : {\"color\":\"green\",\"scalar_bar_args\":sargs_phi}},\n",
    "                        {\"var\":\"pF\", \"mesh_parts\": ventricular_system + [\"csf\"], \"clip\":clip,\n",
    "                         \"static\" : {\"cmap\":\"coolwarm\", \"scalar_bar_args\":sargs_pF, \"clim\":clim}},\n",
    "                        {\"var\":\"u\", \"mesh_parts\": ventricular_system + [\"csf\"], \"clip\":clip,\n",
    "                         \"arrow\":True,\"vec_scale\":2,\n",
    "                         \"static\" : {\"color\":\"red\", \"scalar_bar_args\":sargs_pF}}],\n",
    "                         sim_file, mesh_config, cpos_close, interactive=False)"
   ]
  },
  {
   "cell_type": "code",
   "execution_count": null,
   "metadata": {},
   "outputs": [],
   "source": [
    "i = 1\n",
    "#indices = [2,4,6,8,10,12,14,16,18]\n",
    "indices = [5,10]\n",
    "\n",
    "origin = (0,0,0.001)\n",
    "clips = [\"y\",\"x\",\"z\"]\n",
    "dist = 0.4\n",
    "cpos = [[(0, dist, 0), (0, 0, 0), (0, 0, 1)],\n",
    "        [(dist,0, 0), (0, 0, 0), (0, 0, 1)],\n",
    "        [(0, 0, dist*1.3), (0, 0, 0), (0, 1, 0)]\n",
    "        ]\n",
    "nind = len(indices)\n",
    "size = 20\n",
    "idx = 10\n",
    "clim = None\n",
    "p,_ = func(idx, {\"normal\":clips[i], \"origin\":origin}, cpos[i], clim)\n",
    "p.show()"
   ]
  },
  {
   "cell_type": "code",
   "execution_count": null,
   "metadata": {},
   "outputs": [],
   "source": [
    "%%capture\n",
    "\n",
    "#max_phi = compute_glob_stat(max, mesh_grid, \"phi\", [\"parenchyma\"], range(num_steps))\n",
    "##max_pF = compute_glob_stat(max, mesh_grid,\"pF\", ventricular_system + [\"csf\"], range(num_steps))\n",
    "#min_phi = compute_glob_stat(max, mesh_grid, \"phi\", [\"parenchyma\"], range(num_steps))\n",
    "#min_pF = compute_glob_stat(max, mesh_grid,\"pF\", ventricular_system + [\"csf\"], range(num_steps))\n",
    "\n",
    "\n",
    "fig, axes = plt.subplots(nind, 3, figsize=(3*size, size*nind))\n",
    "for j, idx in enumerate(indices):\n",
    "    clim=None\n",
    "    for i,c in enumerate(clips):\n",
    "        #max_pF = compute_stat(max, mesh_grid, \"pF\", ventricular_system + [\"csf\"], idx)\n",
    "        #min_pF = compute_stat(min, mesh_grid, \"pF\", ventricular_system + [\"csf\"], idx)\n",
    "        #max_phi = compute_stat(max, mesh_grid, \"phi\", [\"parenchyma\"], idx)\n",
    "        #min_phi = compute_stat(min, mesh_grid, \"phi\", [\"parenchyma\"], idx)\n",
    "        #clim = (min(min_pF, min_phi), max(max_pF, max_phi))\n",
    "        #clim=(-20,20)\n",
    "        p, clim1 = func(idx, {\"normal\":c, \"origin\":origin}, cpos[i], clim)\n",
    "        if i==0:\n",
    "            clim=clim1\n",
    "        p.show()\n",
    "        img = p.screenshot(transparent_background=True, return_img=True, window_size=None)\n",
    "        axes[j,i].imshow(img)\n",
    "        axes[j,i].set_title(f\"t = {times[idx]}\")\n",
    "plt.savefig(\"plots/pressure_evolution.pdf\")"
   ]
  },
  {
   "cell_type": "code",
   "execution_count": null,
   "metadata": {},
   "outputs": [],
   "source": []
  },
  {
   "cell_type": "code",
   "execution_count": null,
   "metadata": {},
   "outputs": [],
   "source": [
    "vent = extract_data(mesh_grid, \"u\", ventricular_system + [\"csf\"], 5, sim_file, mesh_config)\n"
   ]
  },
  {
   "cell_type": "code",
   "execution_count": null,
   "metadata": {},
   "outputs": [],
   "source": [
    "vent = extract_data(mesh_grid, \"u\", ventricular_system + [\"csf\"], 100, sim_file, mesh_config)\n",
    "p = pv.Plotter()\n",
    "vent[\"logu\"] = np.log10(np.linalg.norm(vent[\"u\"], axis=1) +1 )\n",
    "arrow = vent.glyph(orient=\"logu\", scale=\"logu\", factor=4)\n",
    "#arrow = vent.glyph(orient=\"u\", scale=\"u\", factor=2)\n",
    "p.add_mesh(arrow)\n",
    "p.show()"
   ]
  },
  {
   "cell_type": "code",
   "execution_count": null,
   "metadata": {},
   "outputs": [],
   "source": [
    "np.log10(np.abs(vent[\"u\"]))\n"
   ]
  },
  {
   "cell_type": "code",
   "execution_count": null,
   "metadata": {},
   "outputs": [],
   "source": [
    "a = np.linspace(0,10,100)\n",
    "np.log(a + 1)"
   ]
  },
  {
   "cell_type": "code",
   "execution_count": null,
   "metadata": {},
   "outputs": [],
   "source": []
  }
 ],
 "metadata": {
  "kernelspec": {
   "display_name": "Python 3.8.5 64-bit ('fenics': conda)",
   "metadata": {
    "interpreter": {
     "hash": "4ea188f4ed274ba68e002563edc74e31039b7346a40554665b345169a58785bc"
    }
   },
   "name": "Python 3.8.5 64-bit ('fenics': conda)"
  },
  "language_info": {
   "codemirror_mode": {
    "name": "ipython",
    "version": 3
   },
   "file_extension": ".py",
   "mimetype": "text/x-python",
   "name": "python",
   "nbconvert_exporter": "python",
   "pygments_lexer": "ipython3",
   "version": "3.8.5-final"
  }
 },
 "nbformat": 4,
 "nbformat_minor": 4
}
