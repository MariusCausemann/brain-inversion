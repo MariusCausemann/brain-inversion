{
 "cells": [
  {
   "cell_type": "code",
   "execution_count": null,
   "metadata": {},
   "outputs": [],
   "source": [
    "%load_ext autoreload\n",
    "%autoreload 2\n",
    "from fenics import *\n",
    "import matplotlib.pyplot as plt\n",
    "import numpy as np\n",
    "from fenics_adjoint import *\n",
    "from braininversion.BiotSolver import solve_biot\n",
    "from braininversion.Optimization import optimize_biot_force\n",
    "from braininversion.Optimization import optimize_darcy_source, compute_minimization_target, update_expression_time\n",
    "from braininversion.PlottingHelper import (plot_pressures_and_forces_timeslice, \n",
    "                            plot_pressures_and_forces_cross_section,\n",
    "                            extract_cross_section, style_dict)\n",
    "\n",
    "\n",
    "T = 1.0           # final time\n",
    "num_steps = 20    # number of time steps\n",
    "dt = T / num_steps\n",
    "times = np.linspace(dt, T, num_steps)\n",
    "\n",
    "# material parameter\n",
    "kappa = 1e-17       # permeability 15*(1e-9)**2\n",
    "visc = 0.8*1e-3     # viscocity \n",
    "K = kappa/visc      # hydraulic conductivity\n",
    "c = 2*1e-8         # storage coefficent\n",
    "alpha = 1.0         # Biot-Willis coefficient\n",
    "\n",
    "# Biot material parameters\n",
    "E = 1500.0          # Young modulus\n",
    "nu = 0.479         # Poisson ratio\n",
    "\n",
    "material_parameter = dict()\n",
    "material_parameter[\"c\"] = c\n",
    "material_parameter[\"K\"] = K\n",
    "material_parameter[\"lmbda\"] = nu*E/((1.0-2.0*nu)*(1.0+nu)) \n",
    "material_parameter[\"mu\"] = E/(2.0*(1.0+nu))\n",
    "material_parameter[\"alpha\"] = alpha\n",
    "\n",
    "mesh = Mesh(IntervalMesh(100,0.0,0.1))\n",
    "bm = MeshFunction(\"size_t\", mesh, 0)\n",
    "left = CompiledSubDomain(\"near(x[0], 0.0)\")\n",
    "right = CompiledSubDomain(\"near(x[0], 0.1)\")\n",
    "left.mark(bm, 1)\n",
    "right.mark(bm, 2)\n",
    "\n",
    "\n",
    "mmHg2Pa = 132.32\n",
    "freq = 1.0 \n",
    "A = 2*mmHg2Pa\n",
    "p_skull = Expression(\"A*sin(2*pi*f*t)*(0.8 + 2*x[0])\", A=A,f=freq,t=0,degree=2)\n",
    "\n",
    "n = FacetNormal(mesh)\n",
    "boundary_conditions_u = {1:{\"Neumann\":n*p_skull},\n",
    "                         2:{\"Neumann\":n*p_skull},\n",
    "                         #1:{\"Dirichlet\":OneDimZeroVec(),\n",
    "                         #2:{\"Dirichlet\":Constant([0.0])}\n",
    "                        } \n",
    "                         \n",
    "boundary_conditions_p = {#1:{\"Dirichlet\":p_skull},\n",
    "                         1:{\"Neumann\":Constant(0.0)},\n",
    "                         #2:{\"Dirichlet\":p_skull},\n",
    "                         2:{\"Neumann\":Constant(0.0)},\n",
    "                         }\n",
    "u_nullspace = True\n",
    "\n",
    "time_dep_expr = [p_skull]\n",
    "\n",
    "minimization_target = {#\"ds\": { 1: lambda x: (x - p_ventricle)**2,\n",
    "                       #       2: lambda x: (x - p_skull)**2},\n",
    "                       #\"dS\":{\"everywhere\":laplace}\n",
    "                        \"dx\":{\"everywhere\": lambda x: (x - p_skull)**2}\n",
    "                      }\n",
    "\n"
   ]
  },
  {
   "cell_type": "code",
   "execution_count": null,
   "metadata": {},
   "outputs": [],
   "source": [
    "solution = optimize_biot_force(mesh, material_parameter, times, minimization_target,\n",
    "                              bm, boundary_conditions_p,\n",
    "                              bm, boundary_conditions_u,\n",
    "                              time_dep_expr=time_dep_expr,\n",
    "                              optimization_parameters={\"maxiter\":1, \"jtol\":1e-12},\n",
    "                              u_nullspace=u_nullspace, theta=1.0)"
   ]
  },
  {
   "cell_type": "code",
   "execution_count": null,
   "metadata": {},
   "outputs": [],
   "source": [
    "opt_ctrl, opt_solution, initial_solution = solution\n",
    "displ = [s.split()[0] for s in opt_solution]\n",
    "total_pressure = [s.split()[1] for s in opt_solution]\n",
    "pressure = [s.split()[2] for s in opt_solution]\n",
    "initial_pressure = [s.split()[2] for s in initial_solution]\n",
    "\n",
    "V = FunctionSpace(mesh, \"CG\", 1)\n",
    "lmbda_div_u = [project(material_parameter[\"lmbda\"]*div(u), V) for u in displ]\n",
    "\n",
    "x_coords = np.linspace(0.0, 0.1, 100)\n",
    "slice_points = [Point(x, 0.0) for x in x_coords]\n"
   ]
  },
  {
   "cell_type": "code",
   "execution_count": null,
   "metadata": {},
   "outputs": [],
   "source": [
    "pressures = {\"negative_total_pressure\" : extract_cross_section(total_pressure, slice_points)/mmHg2Pa,\n",
    "             \"fluid_pressure\" : extract_cross_section(pressure, slice_points)/mmHg2Pa,\n",
    "             \"initial_fluid_pressure\" : extract_cross_section(initial_pressure, slice_points)/mmHg2Pa,\n",
    "             \"lambda_div_u\"   : extract_cross_section(lmbda_div_u, slice_points)/mmHg2Pa,\n",
    "             #\"prescribed outer pressure\"   : extract_cross_section(p_skull, slice_points, times)/mmHg2Pa,\n",
    "            }\n",
    "\n",
    "\n",
    "forces = {\"displacement [m]\": extract_cross_section(displ, slice_points),\n",
    "          \"f_opt [N]\": extract_cross_section(opt_ctrl, slice_points)}\n",
    "\n",
    "style_dict[\"negative_total_pressure\"] = {\"ls\":\":\", \"lw\":3, \"color\":\"firebrick\"}\n",
    "style_dict[\"initial_fluid_pressure\"] = {\"ls\":\":\", \"lw\":3, \"color\":\"orange\"}\n",
    "style_dict[\"fluid_pressure\"] = {\"ls\":\"-.\", \"lw\":3, \"color\":\"green\"}\n",
    "style_dict[\"displacement [m]\"] = {\"ls\":\"-.\", \"lw\":3, \"color\":\"green\"}\n",
    "style_dict[\"f_opt [N]\"] = {\"ls\":\"-.\", \"lw\":3, \"color\":\"blue\"}\n",
    "style_dict[\"prescribed outer pressure\"] = {\"ls\":\"-.\", \"lw\":1, \"color\":\"navy\"}\n"
   ]
  },
  {
   "cell_type": "code",
   "execution_count": null,
   "metadata": {},
   "outputs": [],
   "source": [
    "for i in [2,4,6,8]: \n",
    "    plot_pressures_and_forces_cross_section(pressures, forces, i, x_coords)\n",
    "    plt.suptitle(f\"t = {times[i]:.3f} s\")"
   ]
  },
  {
   "cell_type": "code",
   "execution_count": null,
   "metadata": {},
   "outputs": [],
   "source": [
    "for i in [20, 40 ,60, 80]:\n",
    "    plot_pressures_and_forces_timeslice(pressures, forces, i, times)\n",
    "    plt.suptitle(f\"Point: ({slice_points[i].x():.3f}, {slice_points[i].y():.3f})\")"
   ]
  },
  {
   "cell_type": "code",
   "execution_count": null,
   "metadata": {},
   "outputs": [],
   "source": []
  },
  {
   "cell_type": "code",
   "execution_count": null,
   "metadata": {},
   "outputs": [],
   "source": []
  }
 ],
 "metadata": {
  "kernelspec": {
   "display_name": "Python 3",
   "language": "python",
   "name": "python3"
  },
  "language_info": {
   "codemirror_mode": {
    "name": "ipython",
    "version": 3
   },
   "file_extension": ".py",
   "mimetype": "text/x-python",
   "name": "python",
   "nbconvert_exporter": "python",
   "pygments_lexer": "ipython3",
   "version": "3.8.2"
  }
 },
 "nbformat": 4,
 "nbformat_minor": 4
}
