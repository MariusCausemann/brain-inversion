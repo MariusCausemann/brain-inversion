{
 "cells": [
  {
   "cell_type": "code",
   "execution_count": null,
   "metadata": {},
   "outputs": [],
   "source": [
    "from dolfin import *\n",
    "from mshr import *\n",
    "import matplotlib.pyplot as plt\n",
    "import numpy as np\n"
   ]
  },
  {
   "cell_type": "code",
   "execution_count": null,
   "metadata": {},
   "outputs": [],
   "source": [
    "N = 20 # resolution\n",
    "R = 0.1  # brain circle Radius\n",
    "ventricle_radius = R/3\n",
    "aqueduct_width = R/5\n",
    "\n",
    "brain = Circle(Point(0,0), R)\n",
    "ventricle = Circle(Point(0,0), ventricle_radius)\n",
    "aqueduct = Rectangle(Point(-aqueduct_width/2, -R), Point(aqueduct_width/2, 0))\n",
    "\n",
    "brain = brain - ventricle - aqueduct\n",
    "mesh = generate_mesh(brain, N)\n"
   ]
  },
  {
   "cell_type": "code",
   "execution_count": null,
   "metadata": {},
   "outputs": [],
   "source": [
    "def solve_darcy(mesh, K):\n",
    "    V = FunctionSpace(mesh, \"CG\", 1)\n",
    "\n",
    "    u = Function(V)\n",
    "    K = Constant(K)\n",
    "    f = Constant(0.0)\n",
    "    v = TestFunction(V)\n",
    "    mmHg2Pa = 133.32\n",
    "    a_cardiac = 1.5 * 7\n",
    "    L = R - ventricle_radius\n",
    "\n",
    "    F = ( inner(K*grad(u), grad(v)) - f * v) * dx\n",
    "    \n",
    "    ventricle = CompiledSubDomain(\"on_boundary && (x[0]*x[0] + x[1]*x[1] < R*R)\", R = R)\n",
    "    skull = CompiledSubDomain(\"on_boundary && (x[0]*x[0] + x[1]*x[1] >= R*R*0.99 )\", R = R)\n",
    "\n",
    "    bc_ventricle = DirichletBC(V, 0.0, ventricle, check_midpoint=False)\n",
    "    bc_skull = DirichletBC(V, mmHg2Pa*a_cardiac*L, skull, check_midpoint=False)\n",
    "\n",
    "    bcs = [bc_ventricle, bc_skull]\n",
    "\n",
    "    solve(F==0, u, bcs)\n",
    "    return u\n"
   ]
  },
  {
   "cell_type": "code",
   "execution_count": null,
   "metadata": {},
   "outputs": [],
   "source": [
    "k_values = [1e-2, 1e-3, 1e-4]\n",
    "x_vals = np.linspace(0, R, 100)\n",
    "y = 0\n",
    "y_vals = np.repeat(y, 100)\n",
    "in_domain = x_vals**2 + y_vals**2 > ventricle_radius**2\n",
    "\n",
    "x_in_domain = x_vals[in_domain]\n",
    "plt.figure(figsize=(15,8))\n",
    "\n",
    "\n",
    "for i, k in enumerate(k_values):\n",
    "    plt.subplot(2, len(k_values), i + 1)\n",
    "    u = solve_darcy(mesh, k)\n",
    "    plot(u)\n",
    "    plt.title(\"$K=${0}\".format(k))\n",
    "    plt.subplot(2, len(k_values), i + len(k_values) + 1)\n",
    "    p_vals = [u(Point(x,y)) for x in x_in_domain]\n",
    "    plt.plot(x_in_domain, p_vals, \"*\")\n",
    "    plt.grid()\n",
    "    plt.ylabel(\"p in Pa\")\n",
    "    plt.xlabel(\"x in m\")\n",
    "    plt.title(\"$K=${0}\".format(k))"
   ]
  },
  {
   "cell_type": "code",
   "execution_count": null,
   "metadata": {},
   "outputs": [],
   "source": []
  },
  {
   "cell_type": "code",
   "execution_count": null,
   "metadata": {},
   "outputs": [],
   "source": []
  }
 ],
 "metadata": {
  "kernelspec": {
   "display_name": "Python 3",
   "language": "python",
   "name": "python3"
  },
  "language_info": {
   "codemirror_mode": {
    "name": "ipython",
    "version": 3
   },
   "file_extension": ".py",
   "mimetype": "text/x-python",
   "name": "python",
   "nbconvert_exporter": "python",
   "pygments_lexer": "ipython3",
   "version": "3.6.9"
  }
 },
 "nbformat": 4,
 "nbformat_minor": 4
}
