{
 "cells": [
  {
   "cell_type": "code",
   "execution_count": null,
   "metadata": {},
   "outputs": [],
   "source": [
    "from fenics import *\n",
    "import numpy as np\n",
    "from braininversion.IOHandling import (read_mesh_from_h5, write_to_xdmf, \n",
    "                                       xdmf_to_unstructuredGrid, read_xdmf_timeseries)\n",
    "from braininversion.PlottingHelper import (plot_pressures_and_forces_timeslice, \n",
    "                                           plot_pressures_and_forces_cross_section,\n",
    "                                           extract_cross_section, style_dict)\n",
    "import matplotlib.pyplot as plt"
   ]
  },
  {
   "cell_type": "code",
   "execution_count": null,
   "metadata": {},
   "outputs": [],
   "source": [
    "filename_mesh = \"../meshes/ideal_brain_subdomains.xdmf\" \n",
    "filename_results = \"../results/ideal_brain_biot_NS_checkp.xdmf\"\n",
    "T = 3.0\n",
    "num_steps = 100\n",
    "mmHg2Pa = 132.32\n",
    "\n",
    "dt = T/num_steps\n",
    "times = np.linspace(dt, T, num_steps)\n",
    "infile_mesh = XDMFFile(filename_mesh)\n",
    "mesh = Mesh()\n",
    "infile_mesh.read(mesh)"
   ]
  },
  {
   "cell_type": "code",
   "execution_count": null,
   "metadata": {},
   "outputs": [],
   "source": [
    "V = VectorFunctionSpace(mesh, \"CG\", 2)\n",
    "W = FunctionSpace(mesh, \"CG\", 1)\n",
    "names = {\"pF\":W, \"pP\":W, \"phi\":W,\n",
    "         #\"d\":V, , \"u\":V\n",
    "        }\n",
    "infile_results = XDMFFile(filename_results)\n",
    "results = {n:[] for n in names}\n",
    "for n, space in names.items():\n",
    "    for i in range(num_steps):\n",
    "        f = Function(space)\n",
    "        infile_results.read_checkpoint(f, n, i)\n",
    "        results[n].append(f)"
   ]
  },
  {
   "cell_type": "code",
   "execution_count": null,
   "metadata": {},
   "outputs": [],
   "source": [
    "pP_series = results[\"pP\"]\n",
    "pF_series = results[\"pF\"]\n",
    "phi_series = results[\"phi\"]\n",
    "\n",
    "\n",
    "ventricle_probe = [Point(0.0, 0.0)]\n",
    "sas_probe = [Point(0.0, 0.11)]\n",
    "parenchyma_probe = [Point(0.0, 0.05)]\n",
    "\n",
    "\n",
    "pF_sas = extract_cross_section(pF_series, sas_probe).flatten()/mmHg2Pa\n",
    "pF_ventricle = extract_cross_section(pF_series, ventricle_probe).flatten()/mmHg2Pa\n",
    "pP_parenchyma = extract_cross_section(pP_series, parenchyma_probe).flatten()/mmHg2Pa\n",
    "phi_parenchyma = extract_cross_section(phi_series, parenchyma_probe).flatten()/mmHg2Pa\n",
    "\n",
    "\n",
    "plt.figure(figsize=(10,8))\n",
    "plt.plot(times, pF_ventricle, label=\"ventricle\")\n",
    "plt.plot(times, pF_sas, label=\"SAS\")\n",
    "#plt.plot(times, pP_parenchyma, label=\"parenchyma fluid\")\n",
    "plt.plot(times, phi_parenchyma, label=\"parenchyma tot\")\n",
    "\n",
    "plt.legend()\n",
    "plt.grid()\n",
    "plt.xlabel(\"t [s]\")\n",
    "plt.ylabel(\"p in mmHg\")"
   ]
  },
  {
   "cell_type": "code",
   "execution_count": null,
   "metadata": {},
   "outputs": [],
   "source": []
  },
  {
   "cell_type": "code",
   "execution_count": null,
   "metadata": {},
   "outputs": [],
   "source": []
  }
 ],
 "metadata": {
  "kernelspec": {
   "display_name": "Python 3",
   "language": "python",
   "name": "python3"
  },
  "language_info": {
   "codemirror_mode": {
    "name": "ipython",
    "version": 3
   },
   "file_extension": ".py",
   "mimetype": "text/x-python",
   "name": "python",
   "nbconvert_exporter": "python",
   "pygments_lexer": "ipython3",
   "version": "3.8.2"
  }
 },
 "nbformat": 4,
 "nbformat_minor": 4
}
