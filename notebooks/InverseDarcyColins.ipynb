{
 "cells": [
  {
   "cell_type": "code",
   "execution_count": null,
   "metadata": {},
   "outputs": [],
   "source": [
    "from fenics import *\n",
    "import numpy as np\n",
    "from braininversion.IOHandling import read_mesh_from_h5, write_to_xdmf, xdmf_to_unstructuredGrid, read_xdmf_timeseries\n",
    "from fenics_adjoint import *\n",
    "import moola\n",
    "from braininversion.DarcySolver import solve_darcy\n",
    "from dolfin.cpp.log import info\n",
    "from braininversion.Optimization import optimize_darcy_source, compute_minimization_target\n",
    "from braininversion.reconstructByLaplaceSolve import(solve_laplace_for_all_timesteps,\n",
    "                                     compute_sources_from_pressures)\n",
    "import pyvista as pv\n",
    "\n",
    "set_log_level(40)\n",
    "parameters['ghost_mode'] = 'shared_facet' \n",
    "\n",
    "# Form compiler options\n",
    "parameters[\"form_compiler\"][\"cpp_optimize\"] = True\n",
    "parameters[\"form_compiler\"][\"optimize\"] = True\n",
    "\n",
    "h5_filename = \"../meshes/colin27_coarse_boundaries.h5\"\n",
    "outfile = \"../results/laplace_opt_darcy_colins27_coarse.xdmf\"\n",
    "\n",
    "# time stepping\n",
    "T = 2.0           # final time\n",
    "num_steps = 50    # number of time steps\n",
    "dt = T/ num_steps\n",
    "times = np.linspace(dt, T, num_steps)\n",
    "\n",
    "# material parameter\n",
    "kappa = 1e-17       # permeability 15*(1e-9)**2\n",
    "visc = 0.8*1e-3     # viscocity \n",
    "K = kappa/visc      # hydraulic conductivity\n",
    "c = 2*1e-4          # storage coefficient\n",
    "mmHg2Pa = 132.32\n",
    "material_parameter = {\"K\":K, \"c\":c}\n",
    "\n",
    "mesh, boundary_marker = read_mesh_from_h5(h5_filename) #skull: 1, ventricle:2\n",
    "\n",
    "f = 1\n",
    "A = 0.2*mmHg2Pa\n",
    "p_skull = Expression(\"A*sin(2*pi*f*t)\", A=A,f=f,t=0,degree=2)\n",
    "p_ventricle = Expression(\"A*sin(2*pi*f*t)\", A=A*0.5,f=f,t=0,degree=2)\n",
    "#p_ventricle = Constant(0.0)\n",
    "\n",
    "\n",
    "boundary_conditions = {1:{\"Neumann\":Constant(0.0)},\n",
    "                       2:{\"Neumann\":Constant(0.0)}}\n",
    "\n",
    "                        \n",
    "time_dep_expr = [p_skull, p_ventricle]\n",
    "\n",
    "laplace_bc = {2:{\"Dirichlet\":p_ventricle}, 1:{\"Dirichlet\":p_skull}}"
   ]
  },
  {
   "cell_type": "code",
   "execution_count": null,
   "metadata": {},
   "outputs": [],
   "source": [
    "laplace_pressures = solve_laplace_for_all_timesteps(mesh, boundary_marker, laplace_bc, \n",
    "                                                   times, time_dep_expr)\n",
    "\n",
    "laplace_sources = compute_sources_from_pressures(laplace_pressures, c, dt)\n",
    "\n",
    "laplace_solution = solve_darcy(mesh, laplace_sources, T, num_steps, K,\n",
    "                              boundary_marker, boundary_conditions,\n",
    "                              c=c)\n",
    "laplace_solution = [s.copy() for s in laplace_solution]\n",
    "[p.rename(\"pressure\",\"pressure\") for p in laplace_solution]\n",
    "[g.rename(\"source\",\"source\") for g in laplace_sources]\n",
    "\n",
    "write_to_xdmf([laplace_solution, laplace_sources],\n",
    "              outfile, times)"
   ]
  },
  {
   "cell_type": "code",
   "execution_count": null,
   "metadata": {},
   "outputs": [],
   "source": [
    "grid = xdmf_to_unstructuredGrid(outfile, idx=[0,1])\n"
   ]
  },
  {
   "cell_type": "code",
   "execution_count": null,
   "metadata": {},
   "outputs": [],
   "source": [
    "slices = grid.slice_orthogonal()\n",
    "p = pv.Plotter()\n",
    "p.add_mesh(slices,cmap=\"coolwarm\")\n",
    "p.show()"
   ]
  },
  {
   "cell_type": "code",
   "execution_count": null,
   "metadata": {},
   "outputs": [],
   "source": [
    "clipped_data = grid.clip(normal=[0,0,1], value=0.0)\n",
    "p = pv.PlotterITK()\n",
    "p.add_mesh(clipped_data)\n",
    "p.show()"
   ]
  }
 ],
 "metadata": {
  "kernelspec": {
   "display_name": "Python 3",
   "language": "python",
   "name": "python3"
  },
  "language_info": {
   "codemirror_mode": {
    "name": "ipython",
    "version": 3
   },
   "file_extension": ".py",
   "mimetype": "text/x-python",
   "name": "python",
   "nbconvert_exporter": "python",
   "pygments_lexer": "ipython3",
   "version": "3.8.2"
  }
 },
 "nbformat": 4,
 "nbformat_minor": 4
}
