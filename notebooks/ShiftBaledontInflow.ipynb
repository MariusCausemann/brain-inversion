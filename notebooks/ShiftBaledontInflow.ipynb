{
 "cells": [
  {
   "cell_type": "code",
   "execution_count": null,
   "metadata": {},
   "outputs": [],
   "source": [
    "import numpy as np\n",
    "import matplotlib.pyplot as plt"
   ]
  },
  {
   "cell_type": "code",
   "execution_count": null,
   "metadata": {},
   "outputs": [],
   "source": [
    "data = np.loadtxt(\"../data/baladont_tot_inflow_series.csv\", delimiter=\",\")\n",
    "t = data[:,0]\n",
    "inflow = data[:,1]\n",
    "#values = np.interp(times, t, inflow, period = t[-1])\n",
    "times = np.concatenate([t, t + t[-1]])\n",
    "inflow2 = np.concatenate([inflow, inflow])"
   ]
  },
  {
   "cell_type": "code",
   "execution_count": null,
   "metadata": {},
   "outputs": [],
   "source": [
    "start = 0.8\n",
    "end = start + 1\n",
    "plt.plot(times, inflow2, \"*\")"
   ]
  },
  {
   "cell_type": "code",
   "execution_count": null,
   "metadata": {},
   "outputs": [],
   "source": [
    "start_idx = np.argwhere(times > start)[0][0]\n",
    "end_idx = np.argwhere(times > end)[0][0]\n",
    "\n",
    "shifted_time = times[start_idx:end_idx] - times[start_idx - 1]\n",
    "shifted_inflow = inflow2[start_idx:end_idx]\n",
    "shifted_inflow[12] = 4200\n",
    "shifted_inflow[13] = 2600\n",
    "\n",
    "plt.plot(shifted_time, shifted_inflow, \"*\")"
   ]
  },
  {
   "cell_type": "code",
   "execution_count": null,
   "metadata": {},
   "outputs": [],
   "source": [
    "plt.plot(np.concatenate([shifted_time,shifted_time + shifted_time[-1] ]),\n",
    "                        np.concatenate([shifted_inflow, shifted_inflow]), \"*\")"
   ]
  },
  {
   "cell_type": "code",
   "execution_count": null,
   "metadata": {},
   "outputs": [],
   "source": [
    "shifted_data = np.array([shifted_time, shifted_inflow]).T"
   ]
  },
  {
   "cell_type": "code",
   "execution_count": null,
   "metadata": {},
   "outputs": [],
   "source": [
    "np.savetxt(\"../data/baladont_tot_inflow_series_shifted.csv\", shifted_data, delimiter=\",\")"
   ]
  },
  {
   "cell_type": "code",
   "execution_count": null,
   "metadata": {},
   "outputs": [],
   "source": [
    "shifted_inflow.mean()"
   ]
  },
  {
   "cell_type": "code",
   "execution_count": null,
   "metadata": {},
   "outputs": [],
   "source": []
  }
 ],
 "metadata": {
  "kernelspec": {
   "display_name": "Python 3",
   "language": "python",
   "name": "python3"
  },
  "language_info": {
   "codemirror_mode": {
    "name": "ipython",
    "version": 3
   },
   "file_extension": ".py",
   "mimetype": "text/x-python",
   "name": "python",
   "nbconvert_exporter": "python",
   "pygments_lexer": "ipython3",
   "version": "3.8.5"
  }
 },
 "nbformat": 4,
 "nbformat_minor": 4
}
