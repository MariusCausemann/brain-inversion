{
 "cells": [
  {
   "cell_type": "markdown",
   "metadata": {},
   "source": [
    "## Manufactured Solutions for the Stokes-Biot system\n",
    "\n",
    "A manufactured solution for the couple problem has to fullfill the interface conditions:\n",
    "\n",
    "\\begin{align}\n",
    "        \\mathbf{u} \\cdot \\mathbf{n} &= \\left( \\partial_t \\mathbf{d} - \\frac{\\kappa}{\\mu_f} \\nabla p_p \\right) \\cdot \\mathbf{n} &\\text{(continuity of normal flux)} \\\\\n",
    "        \\left( 2 \\mu_f \\epsilon (\\mathbf{u}) - p_F \\mathbf{I}  \\right) \\mathbf{n}  &= \\left( 2 \\mu_s \\epsilon(\\mathbf{d}) - \\phi \\mathbf{I}  \\right) \\mathbf{n}  &\\text{(momentum conservation)} \\\\\n",
    "       -\\mathbf{n} \\cdot \\left( 2 \\mu_f \\epsilon (\\mathbf{u}) - p_F \\mathbf{I}  \\right) \\mathbf{n}  &= p_p   &\\text{(balance of fluid normal stress)} \\\\\n",
    "       -\\mathbf{n} \\cdot \\left( 2 \\mu_f \\epsilon (\\mathbf{u}) - p_F \\mathbf{I}  \\right) \\mathbf{t}  &= \\frac{\\gamma \\mu_f}{\\sqrt{\\kappa}} \\left( \\mathbf{u} - \\partial_t \\mathbf{d} \\right) \\cdot \\mathbf{t}   &\\text{(Beavers-Joseph-Saffman condition)} \n",
    "    \\end{align}   \n",
    "    \n",
    "Since a solution, that fullfills these conditions is hard to manufacture, we split the problem in a stationary problem for testing the spatial discretization and a spatially uniform problem to test the temporal discretization.\n",
    "\n",
    "For further simplification, we assume a 2D geometry with straight vertical interface:\n",
    "$$ \\mathbf{n} = (1,0)^T$$\n",
    "and\n",
    "$$\\mathbf{t} = (0,1)^T$$"
   ]
  },
  {
   "cell_type": "markdown",
   "metadata": {},
   "source": [
    "## spatially uniform case\n",
    "\n",
    "\\begin{align}\n",
    "u \\cdot n = \\partial_t d \\cdot n \\\\\n",
    "p_F = \\phi = p_P \\\\\n",
    "0 = \\frac{\\gamma \\mu_f}{\\sqrt{\\kappa}} u- \\partial_t d ) \\cdot n \\\\\n",
    "\\Rightarrow u  = \\partial_t d\n",
    "\\end{align}"
   ]
  },
  {
   "cell_type": "markdown",
   "metadata": {},
   "source": [
    "### Stationary Case\n",
    "If we remove all time derivatives in the equations above, we end up with the following system:\n",
    "\\begin{align}\n",
    "        \\mathbf{u} \\cdot \\mathbf{n} &= \\left( - \\frac{\\kappa}{\\mu_f} \\nabla p_p \\right) \\cdot \\mathbf{n} &\\text{(continuity of normal flux)} \\\\\n",
    "        \\left( 2 \\mu_f \\epsilon (\\mathbf{u}) - p_F \\mathbf{I}  \\right) \\mathbf{n}  &= \\left( 2 \\mu_s \\epsilon(\\mathbf{d}) - \\phi \\mathbf{I}  \\right) \\mathbf{n}  &\\text{(momentum conservation)} \\\\\n",
    "       -\\mathbf{n} \\cdot \\left( 2 \\mu_f \\epsilon (\\mathbf{u}) - p_F \\mathbf{I}  \\right) \\mathbf{n}  &= p_p   &\\text{(balance of fluid normal stress)} \\\\\n",
    "       -\\mathbf{n} \\cdot \\left( 2 \\mu_f \\epsilon (\\mathbf{u}) - p_F \\mathbf{I}  \\right) \\mathbf{t}  &= \\frac{\\gamma \\mu_f}{\\sqrt{\\kappa}} \\left( \\mathbf{u} \\right) \\cdot \\mathbf{t}   &\\text{(Beavers-Joseph-Saffman condition)} \n",
    "    \\end{align}   "
   ]
  },
  {
   "cell_type": "code",
   "execution_count": null,
   "metadata": {},
   "outputs": [],
   "source": [
    "%load_ext autoreload\n",
    "%autoreload 2\n",
    "import sympy as sym\n",
    "from sympy import pi\n",
    "import numpy as np\n",
    "from sympy import init_printing\n",
    "import matplotlib.pyplot as plt\n",
    "import yaml\n",
    "\n",
    "import json2latex\n",
    "from contextlib import redirect_stdout\n",
    "from braininversion.BiotStokesConvergence import (compute_spatial_mm,generate_expression,\n",
    "                                                  compute_forcing_terms,check_interface_conditions,\n",
    "                                                  boundary_id, compute_spatial_convergence, names,\n",
    "                                                  compute_order, generate_mesh)\n",
    "plt.style.use('bmh')\n",
    "\n",
    "T = 0.8\n",
    "num_steps = 4\n",
    "dt = T/num_steps\n",
    "times = np.linspace(0, T, num_steps + 1)\n",
    "figsize = (6,6)\n",
    "resolutions = [4,8,16,32,64, 128]\n",
    "\n",
    "material_parameter = dict()\n",
    "##E = 1\n",
    "nu = 0.4999\n",
    "\n",
    "u_degree = 2\n",
    "p_degree = 1\n",
    "\n",
    "material_parameter[\"c\"] = 1.1\n",
    "material_parameter[\"kappa\"] = 1.3\n",
    "material_parameter[\"lambda\"] =  11 # nu*E/((1.0-2.0*nu)*(1.0+nu))\n",
    "material_parameter[\"mu_s\"] =   5.3# E/(2.0*(1.0+nu))\n",
    "material_parameter[\"rho_s\"] = 1.2\n",
    "material_parameter[\"mu_f\"] = 0.9\n",
    "material_parameter[\"rho_f\"] = 1.5\n",
    "material_parameter[\"alpha\"] = 1.0\n",
    "material_parameter[\"gamma\"] = 0.9\n",
    "material_parameter[\"lmbda\"] = material_parameter[\"lambda\"]\n",
    "\n",
    "x,y,z = sym.symbols(\"x, y, z\")\n",
    "t = sym.symbols(\"t\")\n",
    "\n",
    "interf_x = 0.0\n",
    "\n",
    "a = 2\n",
    "u_1 = +sym.sin(a*pi*x)*sym.cos(a*pi*y)# + sym.cos(2*pi*y)\n",
    "u_2 = -sym.cos(a*pi*x)*sym.sin(a*pi*y)# + sym.cos(4*pi*x)\n",
    "\n",
    "\n",
    "u = sym.Matrix([u_1, u_2])#*t\n",
    "\n",
    "d, p_p, p_f, phi = compute_spatial_mm(u, interf_x)\n",
    "\n",
    "check_interface_conditions(u, p_f, d, p_p, interf_x)\n",
    "f_fluid, f_porous, g_source = compute_forcing_terms(u, p_f, d, p_p)\n",
    "expressions = {\"pF\":p_f, \"pP\":p_p, \"d\":d, \"u\":u, \"phi\":phi,\n",
    "              \"f_fluid\":f_fluid, \"f_porous\":f_porous, \"g_source\":g_source}\n",
    "\n",
    "for name, exp in expressions.items():\n",
    "    with open(f'../results/MMS/spatial_expressions/{name}.tex', 'w') as f:\n",
    "        with redirect_stdout(f):\n",
    "            print(sym.latex(exp, long_frac_ratio=5.0))"
   ]
  },
  {
   "cell_type": "code",
   "execution_count": null,
   "metadata": {},
   "outputs": [],
   "source": [
    "L2_error, H1_error, num_results, h, exact_sols = compute_spatial_convergence(resolutions, T, num_steps, \n",
    "                                                   u, p_f, d, p_p, phi, material_parameter,\n",
    "                                                   f_fluid, f_porous, g_source,\n",
    "                                                   u_degree, p_degree)"
   ]
  },
  {
   "cell_type": "code",
   "execution_count": null,
   "metadata": {},
   "outputs": [],
   "source": [
    "L2_rates = {}\n",
    "H1_rates = {}\n",
    "for n in names:\n",
    "    L2_rates[n] = compute_order(L2_error[n], h).tolist()\n",
    "    H1_rates[n] = compute_order(H1_error[n], h).tolist()"
   ]
  },
  {
   "cell_type": "code",
   "execution_count": null,
   "metadata": {},
   "outputs": [],
   "source": [
    "h = np.array(h)\n",
    "plt.figure(figsize=figsize)\n",
    "for n in names:\n",
    "    plt.loglog(1/h, L2_error[n], \"*-\", label=n)\n",
    "plt.loglog(1/np.array(h), 0.5e1*h**2 , \"-\", label=\"$O(h^2)$\")\n",
    "plt.loglog(1/np.array(h), 1e0*h**3 , \"-\", label=\"$O(h^3)$\")\n",
    "\n",
    "ticks = [5,10,20,50]\n",
    "plt.legend()\n",
    "plt.grid(which=\"both\")\n",
    "plt.xlabel(\"1/h\")\n",
    "plt.ylabel(\"L2 error\")\n",
    "plt.xticks( ticks, ticks)\n",
    "plt.tight_layout()\n",
    "plt.savefig(\"../results/MMS/spatial_L2.pdf\")\n",
    "#plt.savefig(\"../results/MMS/spatial_L2.pgf\")"
   ]
  },
  {
   "cell_type": "code",
   "execution_count": null,
   "metadata": {},
   "outputs": [],
   "source": [
    "plt.figure(figsize=figsize)\n",
    "for n in names:\n",
    "    plt.loglog(1/h, H1_error[n], \"*-\", label=n)\n",
    "plt.loglog(1/np.array(h), 1e1*h**1 , \"-\", label=\"$O(h^1)$\")\n",
    "plt.loglog(1/np.array(h), 1e0*h**2 , \"-\", label=\"$O(h^2)$\")\n",
    "\n",
    "ticks = [5,10,20,50]\n",
    "plt.legend()\n",
    "plt.grid(which=\"both\")\n",
    "plt.xlabel(\"1/h\")\n",
    "plt.ylabel(\"H1 error\")\n",
    "plt.xticks( ticks, ticks)\n",
    "plt.tight_layout()\n",
    "plt.savefig(\"../results/MMS/spatial_H1.pdf\")\n",
    "#plt.savefig(\"../results/MMS/spatial_H1.pgf\")"
   ]
  },
  {
   "cell_type": "code",
   "execution_count": null,
   "metadata": {},
   "outputs": [],
   "source": [
    "conv_results = {\"L2rates\":L2_rates,\n",
    "                \"H1rates\":H1_rates,\n",
    "                \"T\":T,\n",
    "                \"dt\":dt,\n",
    "                \"L2error\":L2_error,\n",
    "                \"H1error\":H1_error,\n",
    "                \"resolutions\":resolutions,\n",
    "                \"material_parameter\":material_parameter}\n",
    "\n",
    "\n",
    "with open('../results/MMS/spatial_conv.yml', 'w') as f:\n",
    "    yaml.dump(conv_results, f)"
   ]
  },
  {
   "cell_type": "code",
   "execution_count": null,
   "metadata": {},
   "outputs": [],
   "source": [
    "from fenics import *\n",
    "\n",
    "mesh, boundaries, subdomains = generate_mesh(resolutions[-1])\n",
    "\n",
    "W = FunctionSpace(mesh, \"CG\", p_degree)\n",
    "V = VectorFunctionSpace(mesh, \"CG\", u_degree)\n",
    "\n",
    "\n",
    "#plt.figure(figsize=fig_size)\n",
    "#cb = plot(sqrt(inner(diff, diff)), mesh=mesh)\n",
    "#cb = plot(diff, mesh=mesh)\n",
    "#plot(mesh)\n",
    "#plt.colorbar(cb)\n",
    "#plt.xlim(xlims)\n",
    "#assemble(sqrt(inner(diff,diff))*ds(domain=mesh))"
   ]
  },
  {
   "cell_type": "code",
   "execution_count": null,
   "metadata": {},
   "outputs": [],
   "source": []
  },
  {
   "cell_type": "code",
   "execution_count": null,
   "metadata": {},
   "outputs": [],
   "source": [
    "\n",
    "L2_error, H1_error, num_results, h, exact_sols = compute_spatial_convergence([12], T, num_steps, \n",
    "                                                   u, p_f, d, p_p, phi, material_parameter,\n",
    "                                                   f_fluid, f_porous, g_source,\n",
    "                                                   u_degree, p_degree)"
   ]
  },
  {
   "cell_type": "code",
   "execution_count": null,
   "metadata": {},
   "outputs": [],
   "source": [
    "W = FunctionSpace(mesh, \"DG\", p_degree)\n",
    "i = -1\n",
    "\n",
    "def plot_comparison(i, name_f, name_p, W, abs_diff=True, figsize=(5,3)):\n",
    "    xlims = (-1,1)\n",
    "\n",
    "    exact_sol_f = exact_sols[name_f]\n",
    "    exact_sol_f.t = times[i]\n",
    "    exact_sol_p = exact_sols[name_p]\n",
    "    exact_sol_p.t = times[i]\n",
    "    fluid_filter = Expression(\"(x[0] <= 0) ? 1 : 0\",degree=2)\n",
    "    exact_sol = project(exact_sol_f*fluid_filter + (1-fluid_filter)*exact_sol_p , W)\n",
    "\n",
    "    num_sol = project(num_results[name_f][i]*fluid_filter + (1-fluid_filter)*num_results[name_p][i] , W)\n",
    "    diff = num_sol - exact_sol\n",
    "\n",
    "    plt.figure(figsize=figsize)\n",
    "    cb = plot(exact_sol, mesh=mesh)\n",
    "    plt.colorbar(cb, shrink=0.75)\n",
    "    plt.xlim(xlims)\n",
    "    #plt.title(\"exact\")\n",
    "    plt.title(\"$\\Omega_F $                            $ \\Omega_P$\")\n",
    "    plt.tight_layout()\n",
    "    plt.savefig(f\"../results/MMS/{name_f}_{name_p}_exact.pdf\")\n",
    "\n",
    "    plt.figure(figsize=figsize)\n",
    "    cb = plot(num_sol, mesh=mesh)\n",
    "    plt.colorbar(cb, shrink=0.75)\n",
    "    plt.xlim(xlims)\n",
    "    #plt.title(\"numerical\")\n",
    "    plt.title(\"$\\Omega_F $                            $ \\Omega_P$\")\n",
    "    plt.tight_layout()\n",
    "    plt.savefig(f\"../results/MMS/{name_f}_{name_p}_num.pdf\")\n",
    "\n",
    "    plt.figure(figsize=figsize)\n",
    "    if abs_diff:\n",
    "        cb = plot(abs(diff), mesh=mesh)\n",
    "    else:\n",
    "        cb = plot(diff, mesh=mesh)\n",
    "    plt.colorbar(cb, shrink=0.75)\n",
    "    plt.xlim(xlims)\n",
    "    #plt.title(\"diff\")\n",
    "    plt.title(\"$\\Omega_F $                            $ \\Omega_P$\")\n",
    "    plt.tight_layout()\n",
    "    plt.savefig(f\"../results/MMS/{name_f}_{name_p}_diff.pdf\")\n"
   ]
  },
  {
   "cell_type": "code",
   "execution_count": null,
   "metadata": {},
   "outputs": [],
   "source": [
    "plot_comparison(-1, \"pF\", \"phi\", W)"
   ]
  },
  {
   "cell_type": "code",
   "execution_count": null,
   "metadata": {},
   "outputs": [],
   "source": [
    "plot_comparison(-1, \"u\", \"d\", V, abs_diff=False)"
   ]
  },
  {
   "cell_type": "code",
   "execution_count": null,
   "metadata": {},
   "outputs": [],
   "source": [
    "times"
   ]
  },
  {
   "cell_type": "code",
   "execution_count": null,
   "metadata": {},
   "outputs": [],
   "source": []
  }
 ],
 "metadata": {
  "kernelspec": {
   "display_name": "Python 3.8.5 64-bit ('fenics': conda)",
   "metadata": {
    "interpreter": {
     "hash": "4ea188f4ed274ba68e002563edc74e31039b7346a40554665b345169a58785bc"
    }
   },
   "name": "Python 3.8.5 64-bit ('fenics': conda)"
  },
  "language_info": {
   "codemirror_mode": {
    "name": "ipython",
    "version": 3
   },
   "file_extension": ".py",
   "mimetype": "text/x-python",
   "name": "python",
   "nbconvert_exporter": "python",
   "pygments_lexer": "ipython3",
   "version": "3.8.5-final"
  }
 },
 "nbformat": 4,
 "nbformat_minor": 4
}
