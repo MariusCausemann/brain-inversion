{
 "cells": [
  {
   "cell_type": "markdown",
   "metadata": {},
   "source": [
    "## Biot's equation\n",
    "\n",
    "This notebooks aims at testing the effect of different boundary conditions for Biot's equation on a 2D doughnut mesh. \n",
    "Since large pressure gradients withn the brain are very unlikely, we are especially interested in physically meaningiful combinations of boundary conditions, that lead to smooth pressure results. Additionally, it is interesting to see why certain BCs result in large pressure gradients and improve the physical understanding of the underlying mechanism.\n",
    "\n",
    "The quasi-static equations for Biot's model are:\n",
    "\n",
    "$$\n",
    "- \\nabla \\cdot 2 \\mu \\epsilon (u) - \\nabla \\lambda \\nabla u I + \\alpha \\nabla p = f \\quad \\text{in $\\Omega \\times (0,T]$ (momentum equation)}\n",
    "$$\n",
    "$$\n",
    "c \\frac{\\partial p}{\\partial t} + \\alpha \\frac{\\nabla \\cdot u}{\\partial t} - \\nabla \\cdot (K \\nabla p) = g \\quad \\text{ in $\\Omega \\times (0,T]$ (continuity equation)}\n",
    "$$\n",
    "\n",
    "Suitable boundary conditions might be either No-flux (Neumann) or Dirichlet BCs for the pressure and a total stress BC for the displacement:\n",
    "\n",
    "$$\n",
    "(2 \\mu \\epsilon (u) + \\lambda \\nabla \\cdot u I - \\alpha p I) \\cdot n = - p_{obs} n \\quad \\text{on $\\Gamma \\times (0,T]$}\n",
    "$$\n",
    "\n",
    "$$\n",
    "\\nabla p \\cdot n = 0 \\quad \\text{on $\\Gamma_N \\times (0,T]$} \\\\\n",
    "p = p_{obs} \\quad \\text{on $\\Gamma_D \\times (0,T]$}\n",
    "$$\n",
    "\n",
    "As inital conditions, we assume the system to be at rest:\n",
    "\n",
    "$$\n",
    "u(x, 0) = 0 \\text{ in $\\Omega$}\\\\\n",
    "p(x, 0) = 0 \\text{ in $\\Omega$}\n",
    "$$\n"
   ]
  },
  {
   "cell_type": "code",
   "execution_count": null,
   "metadata": {},
   "outputs": [],
   "source": [
    "%load_ext autoreload\n",
    "%autoreload 2\n",
    "from fenics import *\n",
    "import matplotlib.pyplot as plt\n",
    "import numpy as np\n",
    "#from fenics_adjoint import *\n",
    "from braininversion.BiotSolver import solve_biot\n",
    "from braininversion.meshes import generate_doughnut_mesh\n",
    "from braininversion.PlottingHelper import (plot_pressures_and_forces_timeslice, \n",
    "                            plot_pressures_and_forces_cross_section,\n",
    "                            extract_cross_section, style_dict)\n",
    "set_log_level(13)\n",
    "\n",
    "\n",
    "T = 1.0           # final time\n",
    "num_steps = 20    # number of time steps\n",
    "nx = 100\n",
    "dt = T / num_steps\n",
    "times = np.linspace(dt, T, num_steps)\n",
    "\n",
    "# material parameter\n",
    "kappa = 1e-17       # permeability 15*(1e-9)**2\n",
    "visc = 0.8*1e-3     # viscocity \n",
    "K = kappa/visc      # hydraulic conductivity\n",
    "c = 2*1e-8         # storage coefficent\n",
    "alpha = 1.0         # Biot-Willis coefficient\n",
    "\n",
    "# Biot material parameters\n",
    "E = 1500.0          # Young modulus\n",
    "nu = 0.479         # Poisson ratio\n",
    "\n",
    "material_parameter = dict()\n",
    "material_parameter[\"c\"] = c\n",
    "material_parameter[\"K\"] = K\n",
    "material_parameter[\"lmbda\"] = nu*E/((1.0-2.0*nu)*(1.0+nu)) \n",
    "material_parameter[\"mu\"] = E/(2.0*(1.0+nu))\n",
    "material_parameter[\"alpha\"] = alpha\n",
    "\n",
    "brain_radius = 0.1\n",
    "ventricle_radius = 0.03\n",
    "N = 10\n",
    "\n",
    "mesh, bm = generate_doughnut_mesh(brain_radius, ventricle_radius, N)\n",
    "\n",
    "mmHg2Pa = 132.32\n",
    "freq = 1.0 \n",
    "A = 2*mmHg2Pa\n",
    "p_obs = Expression(\"A*sin(2*pi*f*t)\", A=A,f=freq,t=0,degree=2)\n",
    "p_obs_lin = Expression(\"A*sin(2*pi*f*t)*(0.8 + 2*sqrt(x[0]*x[0] + x[1]*x[1]))\", A=A,f=freq,t=0,degree=2)\n",
    "#p_obs_lin = p_obs\n",
    "n = FacetNormal(mesh)\n",
    "\n",
    "g = Constant(0.0)\n",
    "f = Constant([0.0, 0.0])"
   ]
  },
  {
   "cell_type": "code",
   "execution_count": null,
   "metadata": {},
   "outputs": [],
   "source": [
    "# total stress at both boundaries, no flux BC for pressure\n",
    "\n",
    "boundary_conditions_u = {2:{\"Neumann\":n*p_obs_lin},\n",
    "                         1:{\"Neumann\":n*Constant(0.0)},\n",
    "                         #2:{\"Neumann\":n*p_obs_lin},\n",
    "                        } \n",
    "                         \n",
    "boundary_conditions_p = { 2:{\"Neumann\":Constant(0.0)},\n",
    "                          1:{\"Neumann\":Constant(0.0)},\n",
    "                         #1:{\"Dirichlet\":p_obs_lin},\n",
    "                         }\n",
    "u_nullspace = True\n",
    "\n",
    "solution = solve_biot(mesh, f, g, T, num_steps, material_parameter,\n",
    "                      bm, boundary_conditions_p,\n",
    "                      bm, boundary_conditions_u,\n",
    "                      u_nullspace=u_nullspace, theta=1.0,\n",
    "                      solver_type=\"krylov\")\n",
    "solution = [s.copy() for s in solution]"
   ]
  },
  {
   "cell_type": "code",
   "execution_count": null,
   "metadata": {},
   "outputs": [],
   "source": [
    "V = FunctionSpace(mesh, \"CG\", 1)\n",
    "displ = [s.split()[0] for s in solution]\n",
    "total_pressure = [s.split()[1] for s in solution]\n",
    "pressure = [s.split()[2] for s in solution]\n",
    "lmbda_div_u = [project(material_parameter[\"lmbda\"]*div(u), V) for u in displ]\n",
    "\n",
    "x_coords = np.linspace(ventricle_radius, brain_radius, 100)\n",
    "slice_points = [Point(x, 0.0) for x in x_coords]\n",
    "\n",
    "pressures = {\"negative_total_pressure\" : extract_cross_section(total_pressure, slice_points)/mmHg2Pa,\n",
    "             \"fluid_pressure\" : extract_cross_section(pressure, slice_points)/mmHg2Pa,\n",
    "             \"lambda_div_u\"   : extract_cross_section(lmbda_div_u, slice_points)/mmHg2Pa,\n",
    "             \"prescribed outer pressure\"   : extract_cross_section(p_obs_lin, slice_points, times)/mmHg2Pa,}\n",
    "\n",
    "displacement = {\"displacement [m]\": extract_cross_section(displ, slice_points),}\n",
    "style_dict[\"negative_total_pressure\"] = {\"ls\":\":\", \"lw\":3, \"color\":\"firebrick\"}\n",
    "style_dict[\"fluid_pressure\"] = {\"ls\":\":\", \"lw\":3, \"color\":\"orange\"}\n",
    "style_dict[\"displacement [m]\"] = {\"ls\":\"-.\", \"lw\":3, \"color\":\"green\"}\n",
    "style_dict[\"p_opt\"] = {\"ls\":\"-.\", \"lw\":3, \"color\":\"blue\"}\n",
    "style_dict[\"prescribed outer pressure\"] = {\"ls\":\"-.\", \"lw\":1, \"color\":\"navy\"}\n"
   ]
  },
  {
   "cell_type": "code",
   "execution_count": null,
   "metadata": {},
   "outputs": [],
   "source": [
    "#plt.figure(figsize=(9,7))\n",
    "#plot(mesh)\n",
    "#for p in slice_points:\n",
    "#    plt.scatter(p.array()[0],p.array()[1], s=20, color=\"red\")"
   ]
  },
  {
   "cell_type": "code",
   "execution_count": null,
   "metadata": {},
   "outputs": [],
   "source": [
    "for i in [0, 4, 8, 12, 16]: #range(num_steps): \n",
    "    plot_pressures_and_forces_cross_section(pressures, displacement, i, x_coords)\n",
    "    plt.suptitle(f\"t = {times[i]:.3f} s\")"
   ]
  },
  {
   "cell_type": "code",
   "execution_count": null,
   "metadata": {},
   "outputs": [],
   "source": [
    "for i in [20, 40 ,60, 80]:\n",
    "    plot_pressures_and_forces_timeslice(pressures, displacement, i, times)\n",
    "    plt.suptitle(f\"Point: ({slice_points[i].x():.3f}, {slice_points[i].y():.3f})\")"
   ]
  },
  {
   "cell_type": "code",
   "execution_count": null,
   "metadata": {},
   "outputs": [],
   "source": [
    "assemble(div(displ[0])*dx)"
   ]
  },
  {
   "cell_type": "code",
   "execution_count": null,
   "metadata": {},
   "outputs": [],
   "source": [
    "for i in [0, 4, 8, 12, 16]: #range(num_steps): \n",
    "    plt.figure(figsize=(9,7))\n",
    "    c = plot(pressure[i]/mmHg2Pa)\n",
    "    plt.colorbar(c)\n",
    "    plt.title(f\"t = {times[i]:.3f} s\")"
   ]
  },
  {
   "cell_type": "code",
   "execution_count": null,
   "metadata": {},
   "outputs": [],
   "source": [
    "# total stress at both boundaries, no flux BC for pressure\n",
    "\n",
    "boundary_conditions_u = {2:{\"Neumann\":n*p_obs},\n",
    "                         1:{\"Neumann\":n*Constant(0.0)},\n",
    "                        } \n",
    "                         \n",
    "boundary_conditions_p = { 1:{\"Neumann\":Constant(0.0)},\n",
    "                          2:{\"Neumann\":Constant(0.0)},\n",
    "                         }\n",
    "solution = solve_biot(mesh, f, g, T, num_steps, material_parameter,\n",
    "                      bm, boundary_conditions_p,\n",
    "                      bm, boundary_conditions_u,\n",
    "                      u_nullspace=u_nullspace, theta=1.0)\n",
    "solution = [s.copy() for s in solution]\n",
    "\n",
    "V = FunctionSpace(mesh, \"CG\", 1)\n",
    "displ = [s.split()[0] for s in solution]\n",
    "total_pressure = [s.split()[1] for s in solution]\n",
    "pressure = [s.split()[2] for s in solution]\n",
    "lmbda_div_u = [project(material_parameter[\"lmbda\"]*div(u), V) for u in displ]\n",
    "\n",
    "\n",
    "pressures = {\"negative_total_pressure\" : extract_cross_section(total_pressure, slice_points)/mmHg2Pa,\n",
    "             \"fluid_pressure\" : extract_cross_section(pressure, slice_points)/mmHg2Pa,\n",
    "             \"lambda_div_u\"   : extract_cross_section(lmbda_div_u, slice_points)/mmHg2Pa,}\n",
    "displacement = {\"displacement [m]\": extract_cross_section(displ, slice_points),}\n"
   ]
  },
  {
   "cell_type": "code",
   "execution_count": null,
   "metadata": {},
   "outputs": [],
   "source": [
    "for i in [0, 4, 8, 12, 16]: #range(num_steps): \n",
    "    plot_pressures_and_forces_cross_section(pressures, displacement, i, x_coords)\n",
    "    plt.suptitle(f\"t = {times[i]:.3f} s\")"
   ]
  },
  {
   "cell_type": "code",
   "execution_count": null,
   "metadata": {},
   "outputs": [],
   "source": [
    "for i in [0, 4, 8, 12, 16]: #range(num_steps): \n",
    "    plt.figure(figsize=(9,7))\n",
    "    c = plot(pressure[i])\n",
    "    plt.colorbar(c)\n",
    "    plt.title(f\"t = {times[i]:.3f} s\")"
   ]
  },
  {
   "cell_type": "code",
   "execution_count": null,
   "metadata": {},
   "outputs": [],
   "source": [
    "list_lu_solver_methods()"
   ]
  },
  {
   "cell_type": "code",
   "execution_count": null,
   "metadata": {},
   "outputs": [],
   "source": []
  }
 ],
 "metadata": {
  "kernelspec": {
   "display_name": "Python 3",
   "language": "python",
   "name": "python3"
  },
  "language_info": {
   "codemirror_mode": {
    "name": "ipython",
    "version": 3
   },
   "file_extension": ".py",
   "mimetype": "text/x-python",
   "name": "python",
   "nbconvert_exporter": "python",
   "pygments_lexer": "ipython3",
   "version": "3.8.2"
  }
 },
 "nbformat": 4,
 "nbformat_minor": 4
}
