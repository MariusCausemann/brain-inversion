{
 "cells": [
  {
   "cell_type": "code",
   "execution_count": null,
   "metadata": {},
   "outputs": [],
   "source": [
    "from collections import OrderedDict\n",
    "from fenics import *\n",
    "import matplotlib.pyplot as plt\n",
    "import numpy as np\n",
    "from fenics_adjoint import *\n",
    "import moola\n",
    "from mshr import *\n",
    "from DarcySolver import solve_darcy\n",
    "from BiotSolver import solve_biot\n",
    "from Optimization import optimize_network_source\n",
    "from PlottingHelper import (plot_pressures_cross_section, \n",
    "                            plot_pressures_and_forces_cross_section,\n",
    "                            plot_pressures_timeslice,\n",
    "                            extract_cross_section, style_dict)\n",
    "\n",
    "# time stepping\n",
    "T = 1.2           # final time\n",
    "num_steps = 12    # number of time steps\n",
    "dt = T/ num_steps\n",
    "times = np.linspace(dt, T, num_steps)\n",
    "\n",
    "# material parameter\n",
    "kappa = 15*(1e-9)**2       # permeability 15*(1e-9)**2\n",
    "visc = 0.8*1e-3     # viscocity \n",
    "K = kappa/visc      # hydraulic conductivity\n",
    "c = 2*1e-4          # storage coefficent\n",
    "alpha = 1.0         # Biot-Willis coefficient\n",
    "\n",
    "\n",
    "# Biot material parameters\n",
    "E = 1500.0          # Young modulus\n",
    "nu = 0.479         # Poisson ratio\n",
    "\n",
    "material_parameter = dict()\n",
    "material_parameter[\"c\"] = c\n",
    "material_parameter[\"K\"] = K\n",
    "material_parameter[\"lmbda\"] = nu*E/((1.0-2.0*nu)*(1.0+nu)) \n",
    "material_parameter[\"mu\"] = E/(2.0*(1.0+nu))\n",
    "material_parameter[\"alpha\"] = alpha\n",
    "mmHg2Pa = 132.32\n",
    "\n",
    "# create mesh and mark boundaries\n",
    "N = 10 # resolution\n",
    "brain_radius = 0.1 \n",
    "ventricle_radius = brain_radius/3\n",
    "brain = Circle(Point(0,0), brain_radius)\n",
    "ventricle = Circle(Point(0,0), ventricle_radius)\n",
    "brain = brain - ventricle\n",
    "mesh = Mesh(generate_mesh(brain, N))\n",
    "\n",
    "ventricle = CompiledSubDomain(\"on_boundary && (x[0]*x[0] + x[1]*x[1] < R*R*0.95)\",\n",
    "                              R =brain_radius )\n",
    "skull = CompiledSubDomain(\"on_boundary && (x[0]*x[0] + x[1]*x[1] >= R*R*0.95 )\",\n",
    "                          R = brain_radius)\n",
    "boundary_marker = MeshFunction(\"size_t\", mesh, mesh.topology().dim()-1, value=0)\n",
    "skull.mark(boundary_marker, 1)\n",
    "ventricle.mark(boundary_marker, 2) \n",
    "x_coords = np.linspace(ventricle_radius, brain_radius, 20)\n",
    "slice_points = [Point(x, 0.0) for x in x_coords]\n",
    "\n",
    "# set analytical expressions\n",
    "f = 1\n",
    "A = 1/(brain_radius - ventricle_radius)*mmHg2Pa\n",
    "p_obs = Expression(\"A*(sqrt(x[0]*x[0] + x[1]*x[1]) - R_vent)*sin(2*pi*f*t)\",\n",
    "                    A=A, f=f, t=0, R_vent=ventricle_radius, degree=2)\n",
    "p_N =  Expression(\"A*sin(2*pi*f*t)\", A=A, f=f, t=0, R_vent=ventricle_radius, degree=2)\n",
    "\n",
    "f_ana_darcy = Expression(\"- K*A/(sqrt(x[0]*x[0] + x[1]*x[1]))*sin(2*pi*f*t)\" +\n",
    "                         \"+ c*2*A*pi*f*(sqrt(x[0]*x[0] + x[1]*x[1]) - R_vent)*cos(2*pi*f*t)\",\n",
    "                         K=K, A=A, c=c, f=f, t=0, R_vent=ventricle_radius, degree=2)\n"
   ]
  },
  {
   "cell_type": "code",
   "execution_count": null,
   "metadata": {},
   "outputs": [],
   "source": []
  },
  {
   "cell_type": "code",
   "execution_count": null,
   "metadata": {},
   "outputs": [],
   "source": [
    "# Dirichlet BC\n",
    "n = FacetNormal(mesh)\n",
    "\n",
    "boundary_conditions_u = {1:{\"Dirichlet\":Constant((0.0, 0.0))},\n",
    "                        2:{\"Neumann\":-n*p_obs}}\n",
    "\n",
    "boundary_conditions_p = {1:{\"Dirichlet\":p_obs},\n",
    "                         2:{\"Dirichlet\":p_obs}}\n",
    "\n",
    "res = optimize_network_source(mesh, material_parameter, times, p_obs,\n",
    "                              boundary_marker, boundary_conditions_p,\n",
    "                              boundary_marker, boundary_conditions_u)\n",
    "opt_ctrls_d, opt_solution_d, initial_solution_d = res\n",
    "opt_biot_pressure_d = [s.split()[2] for s in opt_solution_d]\n",
    "init_biot_pressure_d = [s.split()[2] for s in initial_solution_d]"
   ]
  },
  {
   "cell_type": "code",
   "execution_count": null,
   "metadata": {},
   "outputs": [],
   "source": [
    "# Robin BC\n",
    "beta = 0.5\n",
    "boundary_conditions_u = {1:{\"Dirichlet\":Constant((0.0, 0.0))},\n",
    "                        2:{\"Neumann\":-n*p_obs}}\n",
    "\n",
    "boundary_conditions_p = {1:{\"Robin\": (beta, beta*p_obs + p_N)},\n",
    "                         2:{\"Dirichlet\":p_obs}}\n",
    "res = optimize_network_source(mesh, material_parameter, times, p_obs,\n",
    "                              boundary_marker, boundary_conditions_p,\n",
    "                              boundary_marker, boundary_conditions_u)\n",
    "\n",
    "opt_ctrls_r, opt_solution_r, initial_solution_r = res\n",
    "opt_biot_pressure_r = [s.split()[2] for s in opt_solution_r]\n"
   ]
  },
  {
   "cell_type": "code",
   "execution_count": null,
   "metadata": {},
   "outputs": [],
   "source": [
    "pressures = {\"p_init\" : extract_cross_section(init_biot_pressure_d, slice_points)/mmHg2Pa,\n",
    "             \"p_opt_dirichlet\" : extract_cross_section(opt_biot_pressure_d, slice_points)/mmHg2Pa,\n",
    "             \"p_opt_robin\" : extract_cross_section(opt_biot_pressure_r, slice_points)/mmHg2Pa,\n",
    "             \"p_obs\": extract_cross_section(p_obs, slice_points, times=times)/mmHg2Pa,\n",
    "             #\"p_ana\": extract_cross_section(ana_solution, slice_points)/mmHg2Pa\n",
    "            }\n",
    "#cdpdt = np.diff(pressures[\"p_opt_dirichlet\"],n=1, axis=0, prepend=0)/dt*c\n",
    "\n",
    "forces = {\"f_opt_dirichlet\": extract_cross_section(opt_ctrls_d, slice_points),\n",
    "          \"f_opt_robin\": extract_cross_section(opt_ctrls_r, slice_points),\n",
    "          #\"f_ana\": extract_cross_section(f_ana, slice_points, times=np.array(times) - 0.5*dt),\n",
    "          #\"c*dp_opt_robin/dt\":cdpdt\n",
    "         }\n",
    "\n",
    "style_dict[\"c*dp_opt_robin/dt\"] = {\"ls\":\":\", \"lw\":5}"
   ]
  },
  {
   "cell_type": "code",
   "execution_count": null,
   "metadata": {},
   "outputs": [],
   "source": [
    "\n",
    "for i in range(num_steps): \n",
    "    plot_pressures_and_forces_cross_section(pressures, forces, i, x_coords)\n",
    "    plt.suptitle(f\"t = {times[i]:.3f}\")"
   ]
  },
  {
   "cell_type": "code",
   "execution_count": null,
   "metadata": {},
   "outputs": [],
   "source": [
    "p_opt"
   ]
  },
  {
   "cell_type": "code",
   "execution_count": null,
   "metadata": {},
   "outputs": [],
   "source": []
  }
 ],
 "metadata": {
  "kernelspec": {
   "display_name": "Python 3",
   "language": "python",
   "name": "python3"
  },
  "language_info": {
   "codemirror_mode": {
    "name": "ipython",
    "version": 3
   },
   "file_extension": ".py",
   "mimetype": "text/x-python",
   "name": "python",
   "nbconvert_exporter": "python",
   "pygments_lexer": "ipython3",
   "version": "3.6.9"
  }
 },
 "nbformat": 4,
 "nbformat_minor": 4
}
