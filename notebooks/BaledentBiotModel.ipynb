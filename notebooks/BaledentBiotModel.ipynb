{
 "cells": [
  {
   "cell_type": "code",
   "execution_count": null,
   "metadata": {},
   "outputs": [],
   "source": [
    "from fenics import *\n",
    "import matplotlib.pyplot as plt\n",
    "import numpy as np\n",
    "from fenics_adjoint import *\n",
    "import moola\n",
    "from mshr import *\n",
    "from braininversion.DarcySolver import solve_darcy\n",
    "from braininversion.Optimization import optimize_biot_force\n",
    "from braininversion.PlottingHelper import (plot_pressures_and_forces_timeslice, \n",
    "                            plot_pressures_and_forces_cross_section,\n",
    "                            extract_cross_section, style_dict)\n",
    "\n",
    "# time stepping\n",
    "T = 1.2          # final time\n",
    "num_steps = 12    # number of time steps\n",
    "dt = T/ num_steps\n",
    "times = np.linspace(dt, T, num_steps)\n",
    "\n",
    "# material parameter\n",
    "kappa = 1e-17       # permeability 15*(1e-9)**2\n",
    "visc = 0.8*1e-3     # viscocity \n",
    "K = kappa/visc      # hydraulic conductivity\n",
    "c = 2*1e-8         # storage coefficent\n",
    "alpha = 1.0         # Biot-Willis coefficient\n",
    "\n",
    "# Biot material parameters\n",
    "E = 1500.0          # Young modulus\n",
    "nu = 0.479         # Poisson ratio\n",
    "\n",
    "material_parameter = dict()\n",
    "material_parameter[\"c\"] = c\n",
    "material_parameter[\"K\"] = K\n",
    "material_parameter[\"lmbda\"] = nu*E/((1.0-2.0*nu)*(1.0+nu)) \n",
    "material_parameter[\"mu\"] = E/(2.0*(1.0+nu))\n",
    "material_parameter[\"alpha\"] = alpha\n",
    "mmHg2Pa = 132.32\n",
    "\n",
    "# create mesh and mark boundaries\n",
    "N = 12 # resolution\n",
    "brain_radius = 0.1 \n",
    "ventricle_radius = brain_radius/3\n",
    "stem_length = brain_radius*1.4\n",
    "brain = Circle(Point(0,0), brain_radius)\n",
    "ventricle = Circle(Point(0,0), ventricle_radius)\n",
    "stem = Rectangle(Point(-brain_radius/4, - stem_length),Point(brain_radius/4, -ventricle_radius) )\n",
    "brain = brain - ventricle +stem\n",
    "mesh = Mesh(generate_mesh(brain, N))\n",
    "\n",
    "ventricle = CompiledSubDomain(\"on_boundary && (x[0]*x[0] + x[1]*x[1] < R*R*0.95)\",\n",
    "                              R =brain_radius )\n",
    "skull = CompiledSubDomain(\"on_boundary && (x[0]*x[0] + x[1]*x[1] >= R*R*0.95 )\",\n",
    "                          R = brain_radius)\n",
    "stem = CompiledSubDomain(\"on_boundary && x[1] < -R\", R=brain_radius)\n",
    "\n",
    "boundary_marker = MeshFunction(\"size_t\", mesh, mesh.topology().dim()-1, value=0)\n",
    "skull.mark(boundary_marker, 1)\n",
    "ventricle.mark(boundary_marker, 2)\n",
    "stem.mark(boundary_marker, 3)\n",
    "x_coords = np.linspace(ventricle_radius, brain_radius, 20)\n",
    "slice_points = [Point(x, 0.0) for x in x_coords]\n",
    "\n",
    "A = 2*mmHg2Pa\n",
    "f = 1\n",
    "p_obs = Expression(\"A*sin(2*pi*f*t)\", A=A, f=f, t=0, degree=2)\n"
   ]
  },
  {
   "cell_type": "code",
   "execution_count": null,
   "metadata": {},
   "outputs": [],
   "source": [
    "# Dirichlet BC\n",
    "n = FacetNormal(mesh)\n",
    "\n",
    "boundary_conditions_u = {1:{\"Neumann\":n*p_obs},  #skull\n",
    "                         2:{\"Neumann\":n*p_obs}, # ventricle\n",
    "                         3:{\"Dirichlet\":Constant((0.0, 0.0))}} # stem\n",
    "\n",
    "boundary_conditions_p = {1:{\"Neumann\":Constant(0.0)},\n",
    "                         2:{\"Neumann\":Constant(0.0)},\n",
    "                         3:{\"Neumann\":Constant(0.0)}}\n",
    "\n",
    "minimization_target = {\"dx\": { \"everywhere\": lambda x: (x - p_obs)**2}}\n",
    "\n",
    "res = optimize_biot_force(mesh, material_parameter, times, minimization_target,\n",
    "                         boundary_marker, boundary_conditions_p,\n",
    "                         boundary_marker, boundary_conditions_u,\n",
    "                         opt_solver=\"moola_bfgs\")\n",
    "opt_ctrl, opt_solution, initial_solution = res"
   ]
  },
  {
   "cell_type": "code",
   "execution_count": null,
   "metadata": {},
   "outputs": [],
   "source": [
    "p_opt = [s.split()[2] for s in opt_solution]\n",
    "pT_opt = [s.split()[1] for s in opt_solution]\n",
    "\n",
    "u_opt = [s.split()[0] for s in opt_solution]\n",
    "p_init = [s.split()[2] for s in initial_solution]\n",
    "u_init = [s.split()[0] for s in initial_solution]"
   ]
  },
  {
   "cell_type": "code",
   "execution_count": null,
   "metadata": {},
   "outputs": [],
   "source": [
    "def extract_spatial_total(solution):\n",
    "    return np.array([assemble(s*dx) for s in solution])\n",
    "\n",
    "def extract_displaced_volume(displacement):\n",
    "    mesh = displacement[0].function_space().mesh()\n",
    "    n = FacetNormal(mesh)\n",
    "    ds = Measure(\"ds\", domain=mesh)\n",
    "    return np.array([assemble(inner(u,n)*ds) for u in displacement])\n",
    "\n",
    "def extract_total_outflow(solution, K):\n",
    "    mesh = solution[0].function_space().mesh()\n",
    "    n = FacetNormal(mesh)\n",
    "    ds = Measure(\"ds\", domain=mesh)\n",
    "    return np.array([assemble(inner(K*grad(p),n)*ds) for p in solution])\n",
    "\n",
    "#total_source = extract_spatial_total(opt_ctrl)\n",
    "total_displaced = extract_displaced_volume(u_opt)\n",
    "total_diff_displaced = np.diff(total_displaced, prepend=0)\n",
    "#total_outlow = extract_total_outflow(p_opt, K)\n",
    "#dx = Measure(\"dx\", domain=mesh)\n",
    "#total_area = assemble(Constant(1.0)*dx)\n",
    "#mean_source = total_source/total_area"
   ]
  },
  {
   "cell_type": "code",
   "execution_count": null,
   "metadata": {},
   "outputs": [],
   "source": [
    "plt.figure(figsize=(9,7))\n",
    "#plt.plot(times, total_source, \".-\", label=\"total mass source\")\n",
    "plt.plot(times, total_displaced, \".-\", label=\"total displaced volume\")\n",
    "plt.plot(times, total_diff_displaced, \".-\", label=\"change of total displaced volume\")\n",
    "#plt.plot(times, total_outlow, \".-\", label=\"total outflow\")\n",
    "plt.legend()\n",
    "plt.grid()\n",
    "plt.xlabel(\"t in s\")\n",
    "plt.ylabel(\"flow in m^2/s\")"
   ]
  },
  {
   "cell_type": "code",
   "execution_count": null,
   "metadata": {},
   "outputs": [],
   "source": [
    "V = FunctionSpace(mesh, \"CG\", 1)\n",
    "displ = [s.split()[0] for s in opt_solution]\n",
    "total_pressure = [s.split()[1] for s in opt_solution]\n",
    "pressure = [s.split()[2] for s in opt_solution]\n",
    "lmbda_div_u = [project(material_parameter[\"lmbda\"]*div(u), V) for u in displ]\n",
    "\n",
    "\n",
    "#x_coords = np.linspace(0.0, 0.1, 100)\n",
    "#slice_points = [Point(x, 0.0) for x in x_coords]"
   ]
  },
  {
   "cell_type": "code",
   "execution_count": null,
   "metadata": {},
   "outputs": [],
   "source": [
    "pressures = {\"negative_total_pressure\" : extract_cross_section(total_pressure, slice_points)/mmHg2Pa,\n",
    "             \"fluid_pressure\" : extract_cross_section(pressure, slice_points)/mmHg2Pa,\n",
    "             \"lambda_div_u\"   : extract_cross_section(lmbda_div_u, slice_points)/mmHg2Pa,}\n",
    "\n",
    "\n",
    "forces = {\"displacement [m]\": extract_cross_section(displ, slice_points),\n",
    "          \"f_opt [N]\": extract_cross_section(opt_ctrl, slice_points)}\n",
    "\n",
    "style_dict[\"negative_total_pressure\"] = {\"ls\":\":\", \"lw\":3, \"color\":\"firebrick\"}\n",
    "style_dict[\"fluid_pressure\"] = {\"ls\":\":\", \"lw\":3, \"color\":\"orange\"}\n",
    "style_dict[\"displacement [m]\"] = {\"ls\":\"-.\", \"lw\":3, \"color\":\"green\"}\n",
    "style_dict[\"f_opt [N]\"] = {\"ls\":\"-.\", \"lw\":3, \"color\":\"blue\"}\n"
   ]
  },
  {
   "cell_type": "code",
   "execution_count": null,
   "metadata": {},
   "outputs": [],
   "source": [
    "for i in [2,4,6,8]: \n",
    "    plot_pressures_and_forces_cross_section(pressures, forces, i, x_coords)\n",
    "    plt.suptitle(f\"t = {times[i]:.3f} s\")"
   ]
  },
  {
   "cell_type": "code",
   "execution_count": null,
   "metadata": {},
   "outputs": [],
   "source": [
    "for i in [2,4,6,8]: \n",
    "    plot_pressures_and_forces_timeslice(pressures, forces, i, times)"
   ]
  },
  {
   "cell_type": "code",
   "execution_count": null,
   "metadata": {},
   "outputs": [],
   "source": [
    "for s in opt_solution:\n",
    "    u, pT, p = s.split()\n",
    "    plt.subplots(1,3, figsize=(15,7))\n",
    "    plt.subplot(1,3,1)\n",
    "    c = plot(u)\n",
    "    plt.colorbar(c)\n",
    "    plt.subplot(1,3,2)\n",
    "    c = plot(pT, vmax=A,vmin=-A)\n",
    "    plt.colorbar(c)\n",
    "    plt.subplot(1,3,3)\n",
    "    c = plot(p,  vmax=A,vmin=-A)\n",
    "    plt.colorbar(c)"
   ]
  },
  {
   "cell_type": "code",
   "execution_count": null,
   "metadata": {},
   "outputs": [],
   "source": []
  }
 ],
 "metadata": {
  "kernelspec": {
   "display_name": "Python 3",
   "language": "python",
   "name": "python3"
  },
  "language_info": {
   "codemirror_mode": {
    "name": "ipython",
    "version": 3
   },
   "file_extension": ".py",
   "mimetype": "text/x-python",
   "name": "python",
   "nbconvert_exporter": "python",
   "pygments_lexer": "ipython3",
   "version": "3.8.2"
  }
 },
 "nbformat": 4,
 "nbformat_minor": 4
}
