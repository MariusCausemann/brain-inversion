{
 "cells": [
  {
   "cell_type": "code",
   "execution_count": null,
   "metadata": {},
   "outputs": [],
   "source": [
    "from fenics import *\n",
    "import matplotlib.pyplot as plt\n",
    "import numpy as np\n",
    "from fenics_adjoint import *\n",
    "import moola\n",
    "from mshr import *\n",
    "from DarcySolver import solve_darcy\n",
    "from Optimization import optimize_network_source\n",
    "from PlottingHelper import (plot_pressures_and_forces_timeslice, \n",
    "                            plot_pressures_and_forces_cross_section,\n",
    "                            extract_cross_section, style_dict)\n",
    "\n",
    "# time stepping\n",
    "T = 1.2          # final time\n",
    "num_steps = 12    # number of time steps\n",
    "dt = T/ num_steps\n",
    "times = np.linspace(dt, T, num_steps)\n",
    "\n",
    "# material parameter\n",
    "kappa = 1e-17       # permeability 15*(1e-9)**2\n",
    "visc = 0.8*1e-3     # viscocity \n",
    "K = kappa/visc      # hydraulic conductivity\n",
    "c = 2*1e-8         # storage coefficent\n",
    "alpha = 1.0         # Biot-Willis coefficient\n",
    "\n",
    "# Biot material parameters\n",
    "E = 1500.0          # Young modulus\n",
    "nu = 0.79         # Poisson ratio\n",
    "\n",
    "material_parameter = dict()\n",
    "material_parameter[\"c\"] = c\n",
    "material_parameter[\"K\"] = K\n",
    "material_parameter[\"lmbda\"] = nu*E/((1.0-2.0*nu)*(1.0+nu)) \n",
    "material_parameter[\"mu\"] = E/(2.0*(1.0+nu))\n",
    "material_parameter[\"alpha\"] = alpha\n",
    "mmHg2Pa = 132.32\n",
    "\n",
    "# create mesh and mark boundaries\n",
    "N = 20 # resolution\n",
    "brain_radius = 0.1 \n",
    "ventricle_radius = brain_radius/3\n",
    "stem_length = brain_radius*1.4\n",
    "brain = Circle(Point(0,0), brain_radius)\n",
    "ventricle = Circle(Point(0,0), ventricle_radius)\n",
    "stem = Rectangle(Point(-brain_radius/4, - stem_length),Point(brain_radius/4, -ventricle_radius) )\n",
    "brain = brain - ventricle +stem\n",
    "mesh = Mesh(generate_mesh(brain, N))\n",
    "\n",
    "ventricle = CompiledSubDomain(\"on_boundary && (x[0]*x[0] + x[1]*x[1] < R*R*0.95)\",\n",
    "                              R =brain_radius )\n",
    "skull = CompiledSubDomain(\"on_boundary && (x[0]*x[0] + x[1]*x[1] >= R*R*0.95 )\",\n",
    "                          R = brain_radius)\n",
    "stem = CompiledSubDomain(\"on_boundary && x[1] < -R\", R=brain_radius)\n",
    "\n",
    "boundary_marker = MeshFunction(\"size_t\", mesh, mesh.topology().dim()-1, value=0)\n",
    "skull.mark(boundary_marker, 1)\n",
    "ventricle.mark(boundary_marker, 2)\n",
    "stem.mark(boundary_marker, 3)\n",
    "x_coords = np.linspace(ventricle_radius, brain_radius, 20)\n",
    "slice_points = [Point(x, 0.0) for x in x_coords]\n",
    "\n",
    "A = 2*mmHg2Pa\n",
    "f = 1\n",
    "p_obs = Expression(\"A*sin(2*pi*f*t)\", A=A, f=f, t=0, degree=2)\n"
   ]
  },
  {
   "cell_type": "code",
   "execution_count": null,
   "metadata": {},
   "outputs": [],
   "source": [
    "# Dirichlet BC\n",
    "n = FacetNormal(mesh)\n",
    "\n",
    "boundary_conditions_u = {1:{\"Neumann\":-n*p_obs},  #skull\n",
    "                         2:{\"Neumann\":-n*p_obs}, # ventricle\n",
    "                         3:{\"Dirichlet\":Constant((0.0, 0.0))}} # stem\n",
    "\n",
    "boundary_conditions_p = {1:{\"Neumann\":Constant(0.0)},\n",
    "                         2:{\"Neumann\":Constant(0.0)},\n",
    "                         3:{\"Dirichlet\":p_obs}}\n",
    "\n",
    "res = optimize_network_source(mesh, material_parameter, times, p_obs,\n",
    "                              boundary_marker, boundary_conditions_p,\n",
    "                              boundary_marker, boundary_conditions_u)\n",
    "opt_ctrl, opt_solution, initial_solution = res"
   ]
  },
  {
   "cell_type": "code",
   "execution_count": null,
   "metadata": {},
   "outputs": [],
   "source": [
    "p_opt = [s.split()[2] for s in opt_solution]\n",
    "u_opt = [s.split()[0] for s in opt_solution]\n",
    "p_init = [s.split()[2] for s in initial_solution]\n",
    "u_init = [s.split()[0] for s in initial_solution]"
   ]
  },
  {
   "cell_type": "code",
   "execution_count": null,
   "metadata": {},
   "outputs": [],
   "source": [
    "def extract_spatial_total(solution):\n",
    "    return np.array([assemble(s*dx) for s in solution])\n",
    "\n",
    "def extract_displaced_volume(displacement):\n",
    "    mesh = displacement[0].function_space().mesh()\n",
    "    n = FacetNormal(mesh)\n",
    "    ds = Measure(\"ds\", domain=mesh)\n",
    "    return np.array([assemble(inner(u,n)*ds) for u in displacement])\n",
    "\n",
    "def extract_total_outflow(solution, K):\n",
    "    mesh = solution[0].function_space().mesh()\n",
    "    n = FacetNormal(mesh)\n",
    "    ds = Measure(\"ds\", domain=mesh)\n",
    "    return np.array([assemble(inner(K*grad(p),n)*ds) for p in solution])\n",
    "\n",
    "total_source = extract_spatial_total(opt_ctrl)\n",
    "total_displaced = extract_displaced_volume(u_opt)\n",
    "total_diff_displaced = np.diff(total_displaced, prepend=0)\n",
    "total_outlow = extract_total_outflow(p_opt, K)\n",
    "dx = Measure(\"dx\", domain=mesh)\n",
    "total_area = assemble(Constant(1.0)*dx)\n",
    "mean_source = total_source/total_area"
   ]
  },
  {
   "cell_type": "code",
   "execution_count": null,
   "metadata": {},
   "outputs": [],
   "source": [
    "plt.figure(figsize=(9,7))\n",
    "plt.plot(times, total_source, \".-\", label=\"total mass source\")\n",
    "plt.plot(times, total_displaced, \".-\", label=\"total displaced volume\")\n",
    "plt.plot(times, total_diff_displaced, \".-\", label=\"change of total displaced volume\")\n",
    "plt.plot(times, total_outlow, \".-\", label=\"total outflow\")\n",
    "plt.legend()\n",
    "plt.grid()\n",
    "plt.xlabel(\"t in s\")\n",
    "plt.ylabel(\"flow in m^2/s\")"
   ]
  },
  {
   "cell_type": "code",
   "execution_count": null,
   "metadata": {},
   "outputs": [],
   "source": [
    "brain_volume = 1.2 *10**6 # in mm^3\n",
    "scaled_source = mean_source*brain_volume\n",
    "plt.figure(figsize=(9,7))\n",
    "plt.plot(times, scaled_source, \".-\", label=\"scaled source term\" )\n",
    "plt.xlabel(\"time in s\")\n",
    "plt.ylabel(\"flow in mm^3/s\")\n",
    "plt.grid()"
   ]
  },
  {
   "cell_type": "code",
   "execution_count": null,
   "metadata": {},
   "outputs": [],
   "source": [
    "p = p_opt[3]\n",
    "plot(p)"
   ]
  },
  {
   "cell_type": "code",
   "execution_count": null,
   "metadata": {},
   "outputs": [],
   "source": []
  },
  {
   "cell_type": "code",
   "execution_count": null,
   "metadata": {},
   "outputs": [],
   "source": []
  }
 ],
 "metadata": {
  "kernelspec": {
   "display_name": "Python 3",
   "language": "python",
   "name": "python3"
  },
  "language_info": {
   "codemirror_mode": {
    "name": "ipython",
    "version": 3
   },
   "file_extension": ".py",
   "mimetype": "text/x-python",
   "name": "python",
   "nbconvert_exporter": "python",
   "pygments_lexer": "ipython3",
   "version": "3.6.9"
  }
 },
 "nbformat": 4,
 "nbformat_minor": 4
}
