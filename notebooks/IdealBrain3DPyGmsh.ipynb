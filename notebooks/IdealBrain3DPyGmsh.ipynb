{
 "cells": [
  {
   "cell_type": "code",
   "execution_count": null,
   "metadata": {},
   "outputs": [],
   "source": [
    "import pygmsh\n",
    "import meshio\n",
    "from fenics import *"
   ]
  },
  {
   "cell_type": "code",
   "execution_count": null,
   "metadata": {},
   "outputs": [],
   "source": [
    "N = 80\n",
    "brain_radius = 0.1\n",
    "fluid_radius = brain_radius*1.2\n",
    "ventricle_radius = 0.03\n",
    "aqueduct_width = 0.005\n",
    "canal_width = 0.02\n",
    "canal_length = 0.2\n",
    "\n",
    "# subdomain ids\n",
    "fluid_id = 2\n",
    "porous_id = 1\n",
    "\n",
    "# boundary ids\n",
    "interface_id = 1\n",
    "rigid_skull_id = 2\n",
    "spinal_outlet_id = 3\n",
    "\n",
    "\n",
    "h = 1.0/N\n",
    "geom = pygmsh.opencascade.Geometry(\n",
    "  characteristic_length_min=h,\n",
    "  characteristic_length_max=h,\n",
    "  )\n",
    "\n",
    "brain = geom.add_ball((0,0,0), brain_radius)\n",
    "ventricle = geom.add_ball((0,0,0), ventricle_radius)\n",
    "aqueduct = geom.add_cylinder((0,0,0), (0,0,-brain_radius), aqueduct_width)\n",
    "brain = geom.boolean_difference([brain], [ventricle, aqueduct])\n",
    "\n",
    "spinal_canal = geom.add_cylinder((0,0,0), (0,0,-canal_length), canal_width)\n",
    "fluid = geom.add_ball((0,0,0), fluid_radius)\n",
    "fluid = geom.boolean_union([fluid, spinal_canal])\n",
    "#fluid = geom.boolean_difference([fluid], [brain])\n",
    "tot = geom.boolean_fragments([fluid], [brain])\n",
    "\n",
    "geom.add_physical(fluid, fluid_id)\n",
    "geom.add_physical(brain, porous_id)\n",
    "\n",
    "mesh = pygmsh.generate_mesh(geom)\n"
   ]
  },
  {
   "cell_type": "code",
   "execution_count": null,
   "metadata": {},
   "outputs": [],
   "source": [
    "meshio.write(f\"../meshes/ideal_brain_subd_3D_N{N}.xdmf\",\n",
    "             meshio.Mesh(points=mesh.points, cells={\"tetra\": mesh.cells_dict[\"tetra\"]},\n",
    "                                   cell_data={\"subdomains\":mesh.cell_data[\"gmsh:physical\"]}))\n"
   ]
  },
  {
   "cell_type": "code",
   "execution_count": null,
   "metadata": {},
   "outputs": [],
   "source": [
    "\n",
    "infile = XDMFFile(f\"../meshes/ideal_brain_subd_3D_N{N}.xdmf\")\n",
    "mesh = Mesh()\n",
    "infile.read(mesh)\n",
    "mf = MeshFunction(\"size_t\", mesh, 3, 0)\n",
    "infile.read(mf, \"subdomains\")\n",
    "boundaries = MeshFunction(\"size_t\", mesh, 2, 0)\n",
    "\n",
    "# set internal interface\n",
    "for f in facets(mesh):\n",
    "    domains = []\n",
    "    for c in cells(f):\n",
    "        domains.append(mf[c])\n",
    "\n",
    "    domains = list(set(domains))\n",
    "    if len(domains) > 1:\n",
    "        boundaries[f] = interface_id\n",
    "        \n",
    "# set rigid skull boundary\n",
    "rigid_skull = CompiledSubDomain(\"on_boundary\",\n",
    "                                canal_length=canal_length)\n",
    "\n",
    "rigid_skull.mark(boundaries, rigid_skull_id)\n",
    "\n",
    "# set spinal outlet \n",
    "spinal_outlet = CompiledSubDomain(\"near(x[2], - canal_length)\",\n",
    "                                canal_length=canal_length)\n",
    "spinal_outlet.mark(boundaries, spinal_outlet_id)\n",
    "\n",
    "boundaries_outfile = XDMFFile(f\"../meshes/ideal_brain_boundaries3D_N{N}.xdmf\")\n",
    "#subdomains_outfile = XDMFFile(f\"../meshes/ideal_brain_subdomains3D_N{N}.xdmf\")\n",
    "\n",
    "boundaries_outfile.write(boundaries)\n",
    "#subdomains_outfile.write(mf)\n",
    "boundaries_outfile.close()\n",
    "#subdomains_outfile.close()"
   ]
  }
 ],
 "metadata": {
  "kernelspec": {
   "display_name": "Python 3",
   "language": "python",
   "name": "python3"
  },
  "language_info": {
   "codemirror_mode": {
    "name": "ipython",
    "version": 3
   },
   "file_extension": ".py",
   "mimetype": "text/x-python",
   "name": "python",
   "nbconvert_exporter": "python",
   "pygments_lexer": "ipython3",
   "version": "3.8.2"
  }
 },
 "nbformat": 4,
 "nbformat_minor": 4
}
