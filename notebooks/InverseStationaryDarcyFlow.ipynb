{
 "cells": [
  {
   "cell_type": "code",
   "execution_count": null,
   "metadata": {},
   "outputs": [],
   "source": [
    "from dolfin import *\n",
    "from mshr import *\n",
    "import matplotlib.pyplot as plt\n",
    "import numpy as np\n",
    "import moola\n",
    "from dolfin_adjoint import *"
   ]
  },
  {
   "cell_type": "code",
   "execution_count": null,
   "metadata": {},
   "outputs": [],
   "source": [
    "N = 20 # resolution\n",
    "R = 0.1  # brain circle Radius\n",
    "ventricle_radius = R/3\n",
    "aqueduct_width = R/5\n",
    "\n",
    "brain = Circle(Point(0,0), R)\n",
    "ventricle = Circle(Point(0,0), ventricle_radius)\n",
    "aqueduct = Rectangle(Point(-aqueduct_width/2, -R), Point(aqueduct_width/2, 0))\n",
    "\n",
    "brain = brain - ventricle - aqueduct\n",
    "mesh = generate_mesh(brain, N)\n",
    "mesh = Mesh(mesh)"
   ]
  },
  {
   "cell_type": "code",
   "execution_count": null,
   "metadata": {},
   "outputs": [],
   "source": [
    "def solve_darcy(mesh, K, f, dirichlet_boundary_skull=0, dirichlet_boundary_ventricle=0):\n",
    "    V = FunctionSpace(mesh, \"CG\", 1)\n",
    "\n",
    "    u = Function(V)\n",
    "    K = Constant(K)\n",
    "    v = TestFunction(V)\n",
    "\n",
    "    F = ( inner(K*grad(u), grad(v)) - f * v) * dx\n",
    "    \n",
    "    ventricle = CompiledSubDomain(\"on_boundary && (x[0]*x[0] + x[1]*x[1] < R*R)\", R = R)\n",
    "    skull = CompiledSubDomain(\"on_boundary && (x[0]*x[0] + x[1]*x[1] >= R*R*0.99 )\", R = R)\n",
    "\n",
    "    bc_ventricle = DirichletBC(V, dirichlet_boundary_ventricle, ventricle, check_midpoint=False)\n",
    "    bc_skull = DirichletBC(V, dirichlet_boundary_skull, skull, check_midpoint=False)\n",
    "\n",
    "    bcs = [bc_ventricle, bc_skull]\n",
    "\n",
    "    solve(F==0, u, bcs)\n",
    "    return u"
   ]
  },
  {
   "cell_type": "code",
   "execution_count": null,
   "metadata": {},
   "outputs": [],
   "source": [
    "K =1e-4\n",
    "mmHg2Pa = 133.32\n",
    "\n",
    "a_cardiac = 1.5 * 7\n",
    "alpha = 1e-3\n",
    "control_space = FunctionSpace(mesh, \"CG\", 1)\n",
    "\n",
    "p_obs = Expression(\"(sqrt(x[0]*x[0] + x[1]*x[1]) -R_ventricle) * dpdz * mmHg2Pa\",\n",
    "                   dpdz = a_cardiac, mmHg2Pa=mmHg2Pa, R_ventricle=ventricle_radius,\n",
    "                   degree=2)\n",
    "\n",
    "\n",
    "f = interpolate(Expression(\"0\",  degree=1), control_space)\n",
    "p = solve_darcy(mesh, K, f, dirichlet_boundary_skull=p_obs, dirichlet_boundary_ventricle=p_obs)\n",
    "J = assemble( inner(p - p_obs, p - p_obs)*dx + alpha/2 * f**2 * dx )\n",
    "control = Control(f)\n",
    "rf = ReducedFunctional(J, control)\n",
    "\n",
    "problem = MoolaOptimizationProblem(rf)\n",
    "f_moola = moola.DolfinPrimalVector(f)\n",
    "solver = moola.BFGS(problem, f_moola, options={'jtol': 0,\n",
    "                                               'gtol': 1e-9,\n",
    "                                               'Hinit': \"default\",\n",
    "                                               'maxiter': 100,\n",
    "                                               'mem_lim': 10})\n",
    "sol = solver.solve()\n",
    "f_opt = sol['control'].data\n",
    "\n"
   ]
  },
  {
   "cell_type": "code",
   "execution_count": null,
   "metadata": {},
   "outputs": [],
   "source": [
    "p_opt = solve_darcy(mesh, K, f_opt, dirichlet_boundary_skull=p_obs,dirichlet_boundary_ventricle=p_obs)\n",
    "\n",
    "fig, axes = plt.subplots(nrows=1, ncols=3, figsize=(16,5))\n",
    "plt.subplot(1,3,1)\n",
    "c = plot(f_opt, title=\"f_opt\")\n",
    "plt.colorbar(c)\n",
    "plt.subplot(1,3,3)\n",
    "c = plot(p_opt, title=\"p_opt\")\n",
    "plt.colorbar(c)\n",
    "\n",
    "plt.subplot(1,3,2)\n",
    "c = plot(p_obs,mesh=mesh, title=\"p_obs\")\n",
    "plt.colorbar(c)\n"
   ]
  },
  {
   "cell_type": "code",
   "execution_count": null,
   "metadata": {},
   "outputs": [],
   "source": [
    "x_vals = np.linspace(0, R, 100)\n",
    "y = 0\n",
    "y_vals = np.repeat(y, 100)\n",
    "in_domain = x_vals**2 + y_vals**2 > ventricle_radius**2\n",
    "\n",
    "x_in_domain = x_vals[in_domain]\n",
    "p_vals_init = [p(Point(x,y)) for x in x_in_domain]\n",
    "p_vals_opt = [p_opt(Point(x,y)) for x in x_in_domain]\n",
    "f_vals_opt = [f_opt(Point(x,y)) for x in x_in_domain]\n"
   ]
  },
  {
   "cell_type": "code",
   "execution_count": null,
   "metadata": {},
   "outputs": [],
   "source": [
    "fig, ax = plt.subplots(figsize=(8,8))\n",
    "\n",
    "plt.plot(x_in_domain, p_vals_init, ls=\"dotted\", label=\"p_initial\")\n",
    "plt.plot(x_in_domain, p_vals_opt, \"*\",label=\"p_opt\")\n",
    "plt.ylabel(\"p in Pa\")\n",
    "plt.legend()\n",
    "plt.xlabel(\"x in m\")\n",
    "\n",
    "ax.twinx()\n",
    "plt.plot(x_in_domain, f_vals_opt, ls=\"dashed\",label=\"f_opt\", color=\"firebrick\")\n",
    "\n",
    "plt.grid()\n",
    "plt.ylabel(\"f in N\")\n",
    "plt.title(\"$K=${0}\".format(K))\n",
    "plt.legend(loc=\"lower right\")"
   ]
  },
  {
   "cell_type": "code",
   "execution_count": null,
   "metadata": {},
   "outputs": [],
   "source": [
    "# just some random force term for testing...\n",
    "f_orig = interpolate(Expression(\"100 *(x[0]+x[1])\",  degree=1), control_space)\n",
    "\n",
    "p_obs = solve_darcy(mesh, K, f_orig, dirichlet_boundary_skull=p_obs, dirichlet_boundary_ventricle=p_obs)\n",
    "\n",
    "f = interpolate(Expression(\"0\",  degree=1), control_space)\n",
    "p = solve_darcy(mesh, K, f,dirichlet_boundary_skull=p_obs, dirichlet_boundary_ventricle=p_obs)\n",
    "J = assemble( inner(p - p_obs, p - p_obs)*dx + alpha/2 * f**2 * dx )\n",
    "control = Control(f)\n",
    "rf = ReducedFunctional(J, control)\n",
    "\n",
    "problem = MoolaOptimizationProblem(rf)\n",
    "f_moola = moola.DolfinPrimalVector(f)\n",
    "solver = moola.BFGS(problem, f_moola, options={'jtol': 0,\n",
    "                                               'gtol': 1e-9,\n",
    "                                               'Hinit': \"default\",\n",
    "                                               'maxiter': 100,\n",
    "                                               'mem_lim': 10})\n",
    "sol = solver.solve()\n",
    "f_opt = sol['control'].data\n",
    "p_opt = solve_darcy(mesh, K, f_opt, dirichlet_boundary_skull=p_obs,dirichlet_boundary_ventricle=p_obs)"
   ]
  },
  {
   "cell_type": "code",
   "execution_count": null,
   "metadata": {},
   "outputs": [],
   "source": [
    "f_max = np.max([f_opt.vector().max(), f_orig.vector().max()])\n",
    "f_min = np.max([f_opt.vector().min(), f_orig.vector().min()])\n",
    "\n",
    "p_max = np.max([p_opt.vector().max(), p_obs.vector().max()])\n",
    "p_min = np.max([p_opt.vector().min(), p_obs.vector().min()])\n",
    "\n",
    "fig, axes = plt.subplots(nrows=2, ncols=2, figsize=(12,12))\n",
    "plt.sca(axes[0][1])\n",
    "plt.subplot(2,2,1)\n",
    "plot(f_opt, title=\"f_opt\", vmax = f_max, vmin=f_min)\n",
    "plt.subplot(2,2,2)\n",
    "cont = plot(f_orig, title=\"f_orig\", vmax = f_max, vmin=f_min)\n",
    "plt.subplot(2,2,3)\n",
    "plot(p_opt, title=\"p_opt\", vmax = p_max, vmin=p_min)\n",
    "plt.subplot(2,2,4)\n",
    "cont = plot(p_obs, title=\"p_obs\", vmax = p_max, vmin=p_min)"
   ]
  },
  {
   "cell_type": "code",
   "execution_count": null,
   "metadata": {},
   "outputs": [],
   "source": []
  },
  {
   "cell_type": "code",
   "execution_count": null,
   "metadata": {},
   "outputs": [],
   "source": []
  },
  {
   "cell_type": "code",
   "execution_count": null,
   "metadata": {},
   "outputs": [],
   "source": []
  }
 ],
 "metadata": {
  "kernelspec": {
   "display_name": "Python 3",
   "language": "python",
   "name": "python3"
  },
  "language_info": {
   "codemirror_mode": {
    "name": "ipython",
    "version": 3
   },
   "file_extension": ".py",
   "mimetype": "text/x-python",
   "name": "python",
   "nbconvert_exporter": "python",
   "pygments_lexer": "ipython3",
   "version": "3.6.9"
  }
 },
 "nbformat": 4,
 "nbformat_minor": 4
}
