{
 "cells": [
  {
   "cell_type": "code",
   "execution_count": null,
   "metadata": {},
   "outputs": [],
   "source": [
    "%load_ext autoreload\n",
    "%autoreload 2\n",
    "import sympy as sym\n",
    "from sympy import pi\n",
    "from sympy import init_printing\n",
    "import numpy as np\n",
    "import matplotlib.pyplot as plt\n",
    "import os\n",
    "import yaml\n",
    "from contextlib import redirect_stdout\n",
    "from braininversion.BiotStokesConvergence import (compute_temporal_mm,generate_expression,\n",
    "                                                  compute_forcing_terms,check_interface_conditions,\n",
    "                                                  boundary_id, compute_temporal_convergence, names,\n",
    "                                                  compute_order)\n",
    "T = 1\n",
    "num_time_steps = [4,8,16,32,64, 128]\n",
    "spatial_resolution = 5\n",
    "\n",
    "material_parameter = dict()\n",
    "E = 1\n",
    "nu = 0.4999\n",
    "\n",
    "u_degree = 2\n",
    "p_degree = 1\n",
    "\n",
    "material_parameter[\"c\"] = 1\n",
    "material_parameter[\"kappa\"] = 1\n",
    "material_parameter[\"lambda\"] =  10# nu*E/((1.0-2.0*nu)*(1.0+nu))\n",
    "material_parameter[\"mu_s\"] =   5# E/(2.0*(1.0+nu))\n",
    "material_parameter[\"rho_s\"] = 1\n",
    "material_parameter[\"mu_f\"] = 1\n",
    "material_parameter[\"rho_f\"] = 1\n",
    "material_parameter[\"alpha\"] = 1.0\n",
    "material_parameter[\"gamma\"] = 1.0\n",
    "material_parameter[\"lmbda\"] = material_parameter[\"lambda\"]\n",
    "\n",
    "x,y,z, t = sym.symbols(\"x, y, z, t\")\n",
    "\n",
    "interf_x = 0.0\n",
    "\n",
    "u = sym.Matrix([1,1])*sym.sin(2*pi*t)\n",
    "d, p_p, p_f, phi = compute_temporal_mm(u, p_p = sym.sin(3*pi*t))\n",
    "\n",
    "check_interface_conditions(u, p_f, d, p_p, interf_x)\n",
    "f_fluid, f_porous, g_source = compute_forcing_terms(u, p_f, d, p_p)\n",
    "\n",
    "expressions = {\"pF\":p_f, \"pP\":p_p, \"d\":d, \"u\":u, \"phi\":phi,\n",
    "              \"f_fluid\":f_fluid, \"f_porous\":f_porous, \"g_source\":g_source}\n",
    "\n",
    "for name, exp in expressions.items():\n",
    "    with open(f'../results/MMS/temporal_expressions/{name}.tex', 'w') as f:\n",
    "        with redirect_stdout(f):\n",
    "            print(sym.latex(exp))"
   ]
  },
  {
   "cell_type": "code",
   "execution_count": null,
   "metadata": {},
   "outputs": [],
   "source": [
    "L2_error, num_results_temp, delta_ts = compute_temporal_convergence(num_time_steps, T,\n",
    "                                            u, p_f, d, p_p, phi, material_parameter,\n",
    "                                            u_degree, p_degree, spatial_resolution)\n",
    "num_steps = num_time_steps[-1]\n",
    "dt = T/num_steps\n",
    "times = np.linspace(0, T, num_steps + 1)"
   ]
  },
  {
   "cell_type": "code",
   "execution_count": null,
   "metadata": {},
   "outputs": [],
   "source": [
    "L2_rates = {}\n",
    "for n in names:\n",
    "    L2_rates[n] = compute_order(L2_error[n], delta_ts).tolist()"
   ]
  },
  {
   "cell_type": "code",
   "execution_count": null,
   "metadata": {},
   "outputs": [],
   "source": [
    "plt.figure(figsize=(7,5))\n",
    "for n in names:\n",
    "    plt.loglog(1/delta_ts, L2_error[n], \"*-\", label=n)\n",
    "plt.loglog(1/delta_ts, 5e-1*delta_ts , \"-\", label=\"$O(h^1)$\")\n",
    "\n",
    "ticks = [10,20,40,80]\n",
    "plt.legend()\n",
    "plt.grid(which=\"both\")\n",
    "plt.xlabel(\"$ 1 / \\Delta t $\")\n",
    "plt.ylabel(\"L2 error\")\n",
    "plt.xticks( ticks, ticks)\n",
    "plt.tight_layout()\n",
    "plt.savefig(\"../results/MMS/temporal_conv.pdf\")"
   ]
  },
  {
   "cell_type": "code",
   "execution_count": null,
   "metadata": {},
   "outputs": [],
   "source": [
    "conv_results = {\"L2rates\":L2_rates,\n",
    "                \"T\":T,\n",
    "                \"L2error\":L2_error,\n",
    "                \"spatial_resolution\":spatial_resolution,\n",
    "                \"num_time_steps\":spatial_resolution,\n",
    "                \"material_parameter\":material_parameter}\n",
    "\n",
    "\n",
    "with open('../results/MMS/temporal_conv.yml', 'w') as f:\n",
    "    yaml.dump(conv_results, f)"
   ]
  },
  {
   "cell_type": "code",
   "execution_count": null,
   "metadata": {},
   "outputs": [],
   "source": []
  }
 ],
 "metadata": {
  "kernelspec": {
   "display_name": "Python 3",
   "language": "python",
   "name": "python3"
  },
  "language_info": {
   "codemirror_mode": {
    "name": "ipython",
    "version": 3
   },
   "file_extension": ".py",
   "mimetype": "text/x-python",
   "name": "python",
   "nbconvert_exporter": "python",
   "pygments_lexer": "ipython3",
   "version": "3.8.5"
  }
 },
 "nbformat": 4,
 "nbformat_minor": 4
}
