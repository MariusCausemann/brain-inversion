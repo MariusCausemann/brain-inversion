{
 "cells": [
  {
   "cell_type": "code",
   "execution_count": null,
   "metadata": {},
   "outputs": [],
   "source": [
    "from fenics import *\n",
    "import matplotlib.pyplot as plt\n",
    "import numpy as np\n",
    "import moola\n",
    "from SimpleBrainMesh import generate_doughnut_mesh\n",
    "from BiotSolver import solve_biot\n",
    "from fenics_adjoint import *\n",
    "from pyadjoint import ipopt\n",
    "set_log_level(30)\n",
    "\n",
    "\n",
    "T = 5            # final time\n",
    "num_steps = 50     # number of time steps\n",
    "dt = T / num_steps # time step size\n",
    "\n",
    "\n",
    "N = 20 # resolution\n",
    "brain_radius = 0.1  # brain circle Radius\n",
    "ventricle_radius = brain_radius/3\n",
    "aqueduct_width = brain_radius/5\n",
    "\n",
    "a_0 = 0.6\n",
    "a_1 = 1.5\n",
    "f_0 = 1.0/(60/15)\n",
    "f_1 = 1.0/(60/70)\n",
    "c = 7 \n",
    "\n",
    "kappa = 1.5*1e-11    # permeability 15*(1e-9)**2\n",
    "visc = 0.8*1e-3     # viscocity \n",
    "K = kappa/visc      # hydraulic conductivity\n",
    "E = 1500.0          # Young modulus\n",
    "nu = 0.49999        # Poisson ratio\n",
    "\n",
    "c = 2*1e-4  # storage coefficent\n",
    "alpha = 0.5 # Biot-Willis coefficient (change of the bulk volume due to pore pressure change)\n",
    "\n",
    "# Lame coefficients\n",
    "lmbda = nu*E/((1.0-2.0*nu)*(1.0+nu)) \n",
    "mu = E/(2.0*(1.0+nu))\n",
    "\n",
    "mmHg2Pa = 133.32\n",
    "material_parameter = dict()\n",
    "material_parameter[\"c\"] = c\n",
    "material_parameter[\"K\"] = K \n",
    "material_parameter[\"lambda\"] = lmbda\n",
    "material_parameter[\"mu\"] = mu\n",
    "material_parameter[\"alpha\"] = alpha\n",
    "\n",
    "# create mesh\n",
    "\n",
    "mesh = Mesh(generate_doughnut_mesh(brain_radius, ventricle_radius,\n",
    "                                   aqueduct_width, N))\n",
    "\n",
    "ventricle = CompiledSubDomain(\"on_boundary && (x[0]*x[0] + x[1]*x[1] < R*R*0.99)\",\n",
    "                              R = brain_radius)\n",
    "skull = CompiledSubDomain(\"on_boundary && (x[0]*x[0] + x[1]*x[1] >= R*R*0.99 )\",\n",
    "                          R = brain_radius)\n",
    "\n",
    "p_obs = Expression(\"\"\"c*mmHg2Pa*(a_0 * sin(2 *pi * f_0*t) + a_1 *sin(2*pi*f_1*t))\n",
    "                   *( sqrt( x[0]*x[0] + x[1]*x[1] ) - R_ventricle ) \"\"\",\n",
    "                    a_0=a_0, a_1=a_0, f_0=f_0, f_1=f_1, t = 0,c=c,\n",
    "                    mmHg2Pa=mmHg2Pa, R_ventricle=ventricle_radius,\n",
    "                    degree = 2)\n",
    "\n",
    "p_D_skull = p_obs\n",
    "p_D_ventricle = p_obs\n",
    "\n",
    "u_D_skull = Constant([0.0, 0.0])\n",
    "\n",
    "probe_points = [\n",
    "                Point(ventricle_radius + 0.2*(brain_radius - ventricle_radius), 0),\n",
    "                Point(ventricle_radius + 0.4*(brain_radius - ventricle_radius), 0),\n",
    "                Point(ventricle_radius + 0.6*(brain_radius - ventricle_radius), 0),\n",
    "                Point(ventricle_radius + 0.8*(brain_radius - ventricle_radius), 0)\n",
    "                ]\n",
    "\n",
    "x_coords = np.linspace(ventricle_radius, brain_radius, 1000)\n",
    "slice_points = [Point(x, 0.0) for x in x_coords]"
   ]
  },
  {
   "cell_type": "code",
   "execution_count": null,
   "metadata": {},
   "outputs": [],
   "source": [
    "results = solve_biot(mesh, material_parameter, T, num_steps, \n",
    "                     skull, ventricle,\n",
    "                     p_D_skull=p_D_skull,\n",
    "                     p_D_ventricle=p_D_ventricle,\n",
    "                     u_D_skull=u_D_skull,\n",
    "                     probe_points=probe_points,\n",
    "                     slice_points=slice_points)"
   ]
  },
  {
   "cell_type": "code",
   "execution_count": null,
   "metadata": {},
   "outputs": [],
   "source": [
    "times = [1,2,3,4,5]\n",
    "\n",
    "idx = []\n",
    "for i in range(num_steps):\n",
    "    if np.isclose(i*dt, times).any():\n",
    "        idx.append(i)\n",
    "cross_section = results[\"p_fluid_slice\"]\n",
    "plt.figure(figsize=(10,10))\n",
    "for i in idx:\n",
    "    plt.plot(x_coords, cross_section[i,:], label=\"t = {}\".format(i*dt))\n",
    "plt.legend()\n",
    "plt.grid()\n",
    "plt.xlabel(\"x in m\")\n",
    "plt.ylabel(\"p in Pa\")\n"
   ]
  },
  {
   "cell_type": "code",
   "execution_count": null,
   "metadata": {},
   "outputs": [],
   "source": []
  },
  {
   "cell_type": "code",
   "execution_count": null,
   "metadata": {},
   "outputs": [],
   "source": [
    "p_data = results[\"probe_point_p_fluid\"]\n",
    "plt.figure(figsize=(10,10))\n",
    "num_points = len(probe_points)\n",
    "for i in range(num_points):\n",
    "    plt.plot(np.linspace(0,T, num_steps), \n",
    "             p_data[:,i], \n",
    "             label=\"$P_{}$\".format(i)\n",
    "            )\n",
    "plt.xlabel(\"t in s\")\n",
    "plt.ylabel(\"p in Pa\")\n",
    "plt.grid()\n",
    "plt.legend()\n"
   ]
  },
  {
   "cell_type": "code",
   "execution_count": null,
   "metadata": {},
   "outputs": [],
   "source": [
    "plt.figure(figsize=(8,8))\n",
    "cont = plot(mesh)\n",
    "for i, point in enumerate(probe_points):\n",
    "    plt.scatter(point.array()[0], point.array()[1],\n",
    "                marker=\".\", s= 300)\n",
    "    plt.annotate( \"$P_{}$\".format(i), point.array()[0:2], size=20)"
   ]
  },
  {
   "cell_type": "code",
   "execution_count": null,
   "metadata": {},
   "outputs": [],
   "source": []
  },
  {
   "cell_type": "code",
   "execution_count": null,
   "metadata": {},
   "outputs": [],
   "source": []
  },
  {
   "cell_type": "code",
   "execution_count": null,
   "metadata": {},
   "outputs": [],
   "source": []
  },
  {
   "cell_type": "code",
   "execution_count": null,
   "metadata": {},
   "outputs": [],
   "source": [
    "\n"
   ]
  },
  {
   "cell_type": "code",
   "execution_count": null,
   "metadata": {},
   "outputs": [],
   "source": []
  },
  {
   "cell_type": "code",
   "execution_count": null,
   "metadata": {},
   "outputs": [],
   "source": []
  }
 ],
 "metadata": {
  "kernelspec": {
   "display_name": "Python 3",
   "language": "python",
   "name": "python3"
  },
  "language_info": {
   "codemirror_mode": {
    "name": "ipython",
    "version": 3
   },
   "file_extension": ".py",
   "mimetype": "text/x-python",
   "name": "python",
   "nbconvert_exporter": "python",
   "pygments_lexer": "ipython3",
   "version": "3.6.9"
  }
 },
 "nbformat": 4,
 "nbformat_minor": 4
}
