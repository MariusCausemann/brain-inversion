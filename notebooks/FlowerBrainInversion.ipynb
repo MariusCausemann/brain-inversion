{
 "cells": [
  {
   "cell_type": "markdown",
   "metadata": {},
   "source": [
    "Source reconstruction problem with given boundary data ($ICP_V$ and $ICP_{SAS}$) and smooth pressure assumption. Minimization problem:\n",
    "\n",
    "$$\n",
    "\\min_{g} J(g) = \\frac{\\gamma_1}{2} \\int_0^T \\int_{\\Gamma_V}(p(x,t) - ICP_V(x,t))^2 ds \\, dt \\\\\n",
    "+ \\frac{\\gamma_2}{2} \\int_0^T \\int_{\\Gamma_{SAS}}(p(x,t) - ICP_{SAS}(x,t))^2 ds \\, dt \\\\\n",
    "+ \\frac{\\gamma_3}{2} \\int_0^T \\int_{\\Omega} (\\Delta p(x,t))^2 ds \\, dt\n",
    "$$\n",
    "\n",
    "subject to the Darcy equation with Neumann boundary conditions and inital data:\n",
    "\n",
    "\n",
    "$$\n",
    "\\begin{aligned}\n",
    "c \\frac{\\partial p}{\\partial t} + K \\Delta p &= g \\quad \\text{ in } \\Omega \\times (0,T) \\\\\n",
    "K \\nabla p \\cdot n &= 0 \\quad  \\text{ on } (\\Gamma_V \\cup \\Gamma_{SAS}) \\times (0,T)  \\\\\n",
    "p &= 0 \\quad \\text { in } \\Omega \\times \\{0 \\}\n",
    "\\end{aligned}\n",
    "$$\n",
    "\n",
    "Since we can not directly compute the laplacian of the first order Lagrange solution of the pressure, we replace $\\Delta p$  it with:\n",
    "\n",
    "$$\n",
    "\\sum_E \\int_E [ \\nabla p] ds\n",
    "$$\n",
    "\n",
    "where $[\\cdot]$ denotes the jump term on internal facets $E$. Now, we can solve the optimization problem by dolfin-adjoint and some gradient based optimization algorithm (e.g. L-BFGS, Newton-CG, ..)\n"
   ]
  },
  {
   "cell_type": "code",
   "execution_count": null,
   "metadata": {},
   "outputs": [],
   "source": [
    "%load_ext autoreload\n",
    "%autoreload 2\n",
    "from braininversion.meshes import generate_flower_mesh, generate_doughnut_mesh\n",
    "from fenics import *\n",
    "import matplotlib.pyplot as plt\n",
    "import numpy as np\n",
    "from fenics_adjoint import *\n",
    "from braininversion.DarcySolver import solve_darcy\n",
    "from braininversion.Optimization import optimize_darcy_source, compute_minimization_target, update_expression_time\n",
    "from braininversion.PlottingHelper import (plot_pressures_and_forces_timeslice, \n",
    "                            plot_pressures_and_forces_cross_section,\n",
    "                            extract_cross_section, style_dict)\n",
    "from braininversion.reconstructByLaplaceSolve import(solve_laplace_for_all_timesteps,\n",
    "                                     compute_sources_from_pressures,\n",
    "                                     solve_laplace)"
   ]
  },
  {
   "cell_type": "code",
   "execution_count": null,
   "metadata": {},
   "outputs": [],
   "source": [
    "# time stepping\n",
    "T = 1.2           # final time\n",
    "num_steps = 10    # number of time steps\n",
    "dt = T/ num_steps\n",
    "times = np.linspace(dt, T, num_steps)\n",
    "\n",
    "# material parameter\n",
    "kappa = 1e-17 # permeability 15*(1e-9)**2\n",
    "visc = 0.8*1e-3     # viscocity \n",
    "K = kappa/visc      # hydraulic conductivity\n",
    "c = 2*1e-4          # storage coefficient\n",
    "mmHg2Pa = 132.32\n",
    "material_parameter = {\"K\":K, \"c\":c}\n",
    "\n",
    "brain_radius = 0.1\n",
    "ventricle_radius = brain_radius/4\n",
    "n_petals = 8\n",
    "N = 10\n",
    "mesh, boundary_marker = generate_flower_mesh(brain_radius, n_petals, N)\n",
    "\n",
    "f = 1\n",
    "A = 2*mmHg2Pa\n",
    "p_skull = Expression(\"A*sin(2*pi*f*t)\", A=A,f=f,t=0,degree=2)\n",
    "#p_ventricle = Expression(\"A*sin(2*pi*f*t)\", A=A*0.8,f=f,t=0,degree=2)\n",
    "p_ventricle = Constant(0.0)\n",
    "\n",
    "x_coords = np.linspace(0*brain_radius, 1.2*brain_radius, 100)\n",
    "slice_points = [Point(x, 0.0) for x in x_coords]\n",
    "\n",
    "boundary_conditions = {1:{\"Neumann\":Constant(0.0)}, 2:{\"Neumann\":Constant(0.0)}}\n",
    "\n",
    "alpha = 1e-5\n",
    "def laplace(p):\n",
    "    mesh = p.function_space().mesh()\n",
    "    n = FacetNormal(mesh)\n",
    "    return alpha*jump(grad(p), n)**2\n",
    "\n",
    "    \n",
    "minimization_target = {\"ds\": { 1: lambda x: (x - p_ventricle)**2,\n",
    "                              2: lambda x: (x - p_skull)**2},\n",
    "                       \"dS\":{\"everywhere\":laplace}}\n",
    "\n",
    "time_dep_expr = [p_skull, p_ventricle]"
   ]
  },
  {
   "cell_type": "code",
   "execution_count": null,
   "metadata": {},
   "outputs": [],
   "source": [
    "plt.figure(figsize=(9,7))\n",
    "plot(mesh)\n",
    "for p in slice_points:\n",
    "    plt.scatter(p.array()[0],p.array()[1], s=20, color=\"red\")"
   ]
  },
  {
   "cell_type": "code",
   "execution_count": null,
   "metadata": {},
   "outputs": [],
   "source": [
    "# optimize Flower Mesh\n",
    "\n",
    "# compute constant controls\n",
    "res = optimize_darcy_source(mesh, material_parameter, times, minimization_target,\n",
    "                            boundary_marker, boundary_conditions,\n",
    "                            time_dep_expr=time_dep_expr, opt_solver=\"scipy\",\n",
    "                            control_args=\"constant\"\n",
    "                            )\n",
    "\n",
    "opt_ctrls, opt_solution, initial_solution = res\n",
    "\n",
    "# compute controls\n",
    "res = optimize_darcy_source(mesh, material_parameter, times, minimization_target,\n",
    "                            boundary_marker, boundary_conditions,\n",
    "                            time_dep_expr=time_dep_expr,\n",
    "                            opt_solver=\"moola_NewtonCG\",\n",
    "                            optimization_parameters={\"jtol\":1e-2,\n",
    "                                                     \"maxiter\":100,\n",
    "                                                     #\"mem_lim\":10\n",
    "                                                    },\n",
    "                            #control_args=[\"DG\", 0],\n",
    "                            initial_guess=opt_ctrls)\n",
    "\n",
    "opt_ctrls, opt_solution, initial_solution = res"
   ]
  },
  {
   "cell_type": "markdown",
   "metadata": {},
   "source": [
    "***Problem: Very slow convergence of iterative gradient descent methods!***\n",
    "(slow propagation of information in the domain, only very few points have a nonzero gradient...)\n",
    "\n",
    "***Shortcut: Compute optimal pressure:***\n",
    "\n",
    "Assume that there extists an optimal pressure $p_{opt}$, such that:\n",
    "\n",
    "$$\n",
    "\\begin{aligned}\n",
    "K \\Delta p_{opt} &= 0 \\quad \\quad &&\\text{ in } \\Omega \\times (0,T) \\\\\n",
    " p_{opt} &= ICP \\quad &&\\text{ on } (\\Gamma_V \\cup \\Gamma_{SAS}) \\times (0,T)\n",
    "\\end{aligned}\n",
    "$$\n",
    "\n",
    "Then the corresponding source $g_{opt}$ can easily be computed:\n",
    "\n",
    "$$\n",
    "g_{opt} = c \\frac{\\partial p_{opt}}{\\partial t} + \\underbrace{K \\Delta p}_{= 0} =  c \\frac{\\partial p_{opt}}{\\partial t}\n",
    "$$\n",
    "\n",
    "and $g_{opt}$ minimizes the functional. \\\n",
    "**Note:** The same simplification probably also delivers good results for different regularization terms, since $K\\Delta p$ is usually very small!"
   ]
  },
  {
   "cell_type": "code",
   "execution_count": null,
   "metadata": {},
   "outputs": [],
   "source": [
    "laplace_bc = {1:{\"Dirichlet\":p_ventricle}, 2:{\"Dirichlet\":p_skull}}\n",
    "         \n",
    "laplace_pressures = solve_laplace_for_all_timesteps(mesh, boundary_marker, laplace_bc, \n",
    "                                                   times, time_dep_expr)\n",
    "\n",
    "laplace_sources = compute_sources_from_pressures(laplace_pressures, c, dt)\n",
    "\n",
    "laplace_solution = solve_darcy(mesh, laplace_sources, T, num_steps, K,\n",
    "                              boundary_marker, boundary_conditions,\n",
    "                              c=c)\n",
    "laplace_solution = [s.copy() for s in laplace_solution]"
   ]
  },
  {
   "cell_type": "code",
   "execution_count": null,
   "metadata": {},
   "outputs": [],
   "source": [
    "pressures = {\"p_opt_const\" : extract_cross_section(initial_solution, slice_points)/mmHg2Pa,\n",
    "             \"p_opt\" : extract_cross_section(opt_solution, slice_points)/mmHg2Pa,\n",
    "             \"p_laplace\":extract_cross_section(laplace_pressures, slice_points)/mmHg2Pa,}\n",
    "\n",
    "forces = {\"g_opt\": extract_cross_section(opt_ctrls, slice_points),\n",
    "          \"g_laplace\": extract_cross_section(laplace_sources, slice_points),\n",
    "         }\n",
    "\n",
    "style_dict[\"p_laplace\"] = {\"ls\":\":\", \"lw\":3, \"color\":\"firebrick\"}\n",
    "style_dict[\"f_laplace\"] = {\"ls\":\":\", \"lw\":3, \"color\":\"firebrick\"}\n",
    "style_dict[\"g_opt\"] = {\"ls\":\"-.\", \"lw\":3, \"color\":\"green\"}\n",
    "style_dict[\"g_opt\"] = {\"ls\":\"-.\", \"lw\":3, \"color\":\"green\"}"
   ]
  },
  {
   "cell_type": "code",
   "execution_count": null,
   "metadata": {},
   "outputs": [],
   "source": [
    "for i in [2,4,6,8]: \n",
    "    plot_pressures_and_forces_cross_section(pressures, forces, i, x_coords)\n",
    "    plt.suptitle(f\"t = {times[i]:.3f} s\")"
   ]
  },
  {
   "cell_type": "code",
   "execution_count": null,
   "metadata": {},
   "outputs": [],
   "source": [
    "for i in [40, 60 ,80]:\n",
    "    plot_pressures_and_forces_timeslice(pressures, forces, i, times)\n",
    "    plt.suptitle(f\"Point: ({slice_points[i].x():.3f}, {slice_points[i].y():.3f})\")"
   ]
  },
  {
   "cell_type": "markdown",
   "metadata": {},
   "source": [
    "***Open Questions:***\n",
    "* Implications of laplacian regularization term?\n",
    "* Improvement of convergenve of the optimization problem (Preconditioning)"
   ]
  },
  {
   "cell_type": "code",
   "execution_count": null,
   "metadata": {},
   "outputs": [],
   "source": []
  }
 ],
 "metadata": {
  "kernelspec": {
   "display_name": "Python 3",
   "language": "python",
   "name": "python3"
  },
  "language_info": {
   "codemirror_mode": {
    "name": "ipython",
    "version": 3
   },
   "file_extension": ".py",
   "mimetype": "text/x-python",
   "name": "python",
   "nbconvert_exporter": "python",
   "pygments_lexer": "ipython3",
   "version": "3.8.2"
  }
 },
 "nbformat": 4,
 "nbformat_minor": 4
}
