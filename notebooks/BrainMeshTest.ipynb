{
 "cells": [
  {
   "cell_type": "code",
   "execution_count": null,
   "metadata": {},
   "outputs": [],
   "source": [
    "from fenics import *\n",
    "from multiphenics import *"
   ]
  },
  {
   "cell_type": "code",
   "execution_count": null,
   "metadata": {},
   "outputs": [],
   "source": [
    "subdomains_infile = \"../meshes/BrainWeb_Subject54_reduced.xdmf\"\n",
    "boundary_infile = \"../meshes/BrainWeb_Subject54_boundaries.xdmf\"\n",
    "\n",
    "# subdomain ids\n",
    "fluid_id = 2\n",
    "porous_id = 1\n",
    "\n",
    "# boundary ids\n",
    "interface_id = 1\n",
    "rigid_skull_id = 2\n",
    "spinal_outlet_id = 3\n",
    "fixed_stem_id = 4\n",
    "\n",
    "infile = XDMFFile(subdomains_infile)\n",
    "mesh = Mesh()\n",
    "infile.read(mesh)\n",
    "gdim = mesh.geometric_dimension()\n",
    "subdomain_marker = MeshFunction(\"size_t\", mesh, gdim, 0)\n",
    "infile.read(subdomain_marker)\n",
    "infile.close()\n",
    "\n",
    "infile = XDMFFile(boundary_infile)\n",
    "boundary_marker =  MeshFunction(\"size_t\", mesh, gdim - 1, 0)\n",
    "infile.read(boundary_marker)\n",
    "infile.close()"
   ]
  },
  {
   "cell_type": "code",
   "execution_count": null,
   "metadata": {},
   "outputs": [],
   "source": [
    "dxF = Measure(\"dx\", domain=mesh, subdomain_data=subdomain_marker, subdomain_id=fluid_id)\n",
    "dxP = Measure(\"dx\", domain=mesh, subdomain_data=subdomain_marker, subdomain_id=porous_id)\n",
    "dxD = Measure(\"dx\", domain=mesh, subdomain_data=subdomain_marker)\n",
    "dS = Measure(\"dS\", domain=mesh, subdomain_data=boundary_marker)\n",
    "ds = Measure(\"ds\", domain=mesh, subdomain_data=boundary_marker)\n",
    "ds_Sig = dS(interface_id)"
   ]
  },
  {
   "cell_type": "code",
   "execution_count": null,
   "metadata": {},
   "outputs": [],
   "source": [
    "total_cfd_vol = assemble(1.0*dxF)\n",
    "total_parenchyma_vol = assemble(1.0*dxP)\n",
    "print(f\"total_cfd_vol: {total_cfd_vol*1e3} l\")\n",
    "print(f\"total_parenchyma_vol: {total_parenchyma_vol*1e3} l\")"
   ]
  },
  {
   "cell_type": "code",
   "execution_count": null,
   "metadata": {},
   "outputs": [],
   "source": [
    "total_intf_area = assemble(1.0*ds_Sig)\n",
    "total_outer_area = assemble(1.0*ds(rigid_skull_id))\n",
    "total_spinal_outlet_area = assemble(1.0*ds(spinal_outlet_id))\n",
    "total_fixed_stem_area = assemble(1.0*ds(fixed_stem_id))\n",
    "\n",
    "print(f\"total_intf_area: {total_intf_area}\")\n",
    "print(f\"total_outer_area: {total_outer_area}\")\n",
    "print(f\"total_spinal_outlet_area: {total_spinal_outlet_area}\")\n",
    "print(f\"total_fixed_stem_area: {total_fixed_stem_area}\")\n"
   ]
  },
  {
   "cell_type": "code",
   "execution_count": null,
   "metadata": {},
   "outputs": [],
   "source": [
    "def generate_subdomain_restriction(mesh, subdomains, subdomain_id):\n",
    "    D = mesh.topology().dim()\n",
    "    # Initialize empty restriction\n",
    "    restriction = MeshRestriction(mesh, None)\n",
    "    for d in range(D + 1):\n",
    "        mesh_function_d = MeshFunction(\"bool\", mesh, d)\n",
    "        mesh_function_d.set_all(False)\n",
    "        restriction.append(mesh_function_d)\n",
    "    # Mark restriction mesh functions based on subdomain id\n",
    "    for c in cells(mesh):\n",
    "        if subdomains[c] == subdomain_id:\n",
    "            restriction[D][c] = True\n",
    "            for d in range(D):\n",
    "                for e in entities(c, d):\n",
    "                    restriction[d][e] = True\n",
    "    # Return\n",
    "    return restriction"
   ]
  },
  {
   "cell_type": "code",
   "execution_count": null,
   "metadata": {},
   "outputs": [],
   "source": [
    "fluidrestriction = generate_subdomain_restriction(mesh, subdomain_marker, fluid_id)\n",
    "porousrestriction = generate_subdomain_restriction(mesh, subdomain_marker, porous_id)\n",
    "\n",
    "V = VectorFunctionSpace(mesh, \"CG\", 2)\n",
    "W = FunctionSpace(mesh, \"CG\", 1)\n",
    "\n"
   ]
  },
  {
   "cell_type": "code",
   "execution_count": null,
   "metadata": {},
   "outputs": [],
   "source": [
    "mesh.topology().dim()"
   ]
  },
  {
   "cell_type": "code",
   "execution_count": null,
   "metadata": {},
   "outputs": [],
   "source": [
    "H = BlockFunctionSpace([V,W ], restrict=[fluidrestriction, porousrestriction])"
   ]
  },
  {
   "cell_type": "code",
   "execution_count": null,
   "metadata": {},
   "outputs": [],
   "source": [
    "H.dim()"
   ]
  },
  {
   "cell_type": "code",
   "execution_count": null,
   "metadata": {},
   "outputs": [],
   "source": []
  }
 ],
 "metadata": {
  "kernelspec": {
   "display_name": "Python 3",
   "language": "python",
   "name": "python3"
  },
  "language_info": {
   "codemirror_mode": {
    "name": "ipython",
    "version": 3
   },
   "file_extension": ".py",
   "mimetype": "text/x-python",
   "name": "python",
   "nbconvert_exporter": "python",
   "pygments_lexer": "ipython3",
   "version": "3.8.2"
  }
 },
 "nbformat": 4,
 "nbformat_minor": 4
}
