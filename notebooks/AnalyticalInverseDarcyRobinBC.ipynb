{
 "cells": [
  {
   "cell_type": "code",
   "execution_count": null,
   "metadata": {},
   "outputs": [],
   "source": [
    "from fenics import *\n",
    "import matplotlib.pyplot as plt\n",
    "import numpy as np\n",
    "from fenics_adjoint import *\n",
    "import moola\n",
    "from mshr import *\n",
    "from braininversion.DarcySolver import solve_darcy\n",
    "from pyadjoint import ipopt\n",
    "\n",
    "from  braininversion.PlottingHelper import (plot_pressures_and_forces_timeslice, \n",
    "                                    plot_pressures_and_forces_cross_section,\n",
    "                                    extract_cross_section, style_dict)\n",
    "\n",
    "# time stepping\n",
    "T = 1.2           # final time\n",
    "num_steps = 12    # number of time steps\n",
    "dt = T/ num_steps\n",
    "times = np.linspace(dt, T, num_steps)\n",
    "\n",
    "# material parameter\n",
    "kappa = 1e-17 # permeability 15*(1e-9)**2\n",
    "visc = 0.8*1e-3     # viscocity \n",
    "K = kappa/visc      # hydraulic conductivity\n",
    "c = 2*1e-4          # storage coefficient\n",
    "mmHg2Pa = 132.32\n",
    "\n",
    "# create mesh and mark boundaries\n",
    "N = 5 # resolution\n",
    "brain_radius = 0.1 \n",
    "ventricle_radius = brain_radius/3\n",
    "brain = Circle(Point(0,0), brain_radius)\n",
    "ventricle = Circle(Point(0,0), ventricle_radius)\n",
    "brain = brain - ventricle\n",
    "mesh = Mesh(generate_mesh(brain, N))\n",
    "\n",
    "ventricle = CompiledSubDomain(\"on_boundary && (x[0]*x[0] + x[1]*x[1] < R*R*0.95)\",\n",
    "                              R =brain_radius )\n",
    "skull = CompiledSubDomain(\"on_boundary && (x[0]*x[0] + x[1]*x[1] >= R*R*0.95 )\",\n",
    "                          R = brain_radius)\n",
    "boundary_marker = MeshFunction(\"size_t\", mesh, mesh.topology().dim()-1, value=0)\n",
    "skull.mark(boundary_marker, 1)\n",
    "ventricle.mark(boundary_marker, 2)\n",
    "x_coords = np.linspace(ventricle_radius, brain_radius, 20)\n",
    "slice_points = [Point(x, 0.0) for x in x_coords]\n",
    "\n",
    "# set analytical expressions\n",
    "f = 1\n",
    "A = 10/(brain_radius - ventricle_radius)*mmHg2Pa\n",
    "p_obs = Expression(\"A*(sqrt(x[0]*x[0] + x[1]*x[1]) - R_vent)*sin(2*pi*f*t)\",\n",
    "                    A=A, f=f, t=0, R_vent=ventricle_radius, degree=2)\n",
    "\n",
    "f_ana = Expression(\"- K*A/(sqrt(x[0]*x[0] + x[1]*x[1]))*sin(2*pi*f*t)\" +\n",
    "                   \"+ 2*c*A*pi*f*(sqrt(x[0]*x[0] + x[1]*x[1]) - R_vent)*cos(2*pi*f*t)\",\n",
    "                    K=K, A=A,c=c, f=f, t=0, R_vent=ventricle_radius, degree=2)\n",
    "\n",
    "p_N =  Expression(\"A*sin(2*pi*f*t)\", A=A, f=f, t=0, R_vent=ventricle_radius, degree=2)"
   ]
  },
  {
   "cell_type": "code",
   "execution_count": null,
   "metadata": {},
   "outputs": [],
   "source": [
    "def optimize_force(K, p_obs, boundary_marker, boundary_conditions):\n",
    "    control_space = FunctionSpace(mesh, \"CG\", 1)\n",
    "    ctrls = [Function(control_space,\n",
    "                  name=\"control\") for i in range(num_steps)]\n",
    "\n",
    "    control = [Control(c) for c in ctrls]\n",
    "\n",
    "    solution = solve_darcy(mesh, ctrls, T, num_steps, K,\n",
    "                          boundary_marker, boundary_conditions,\n",
    "                          c=c, p_initial=p_obs, degree=1, theta=0.5)\n",
    "    initial_solution = []\n",
    "    J = 0\n",
    "    dS = Measure(\"dS\", domain=mesh)\n",
    "    n = FacetNormal(mesh)\n",
    "    h = CellDiameter(mesh)\n",
    "    h_avg = (h('+') + h('-'))/2.0\n",
    "    for i,p in enumerate(solution):\n",
    "        p_obs.t = times[i]\n",
    "        #J += assemble((p_obs - p)**2*dx)\n",
    "        #J += assemble(jump(grad(p), n)**2*dS )\n",
    "        J+= assemble(1.0/h_avg*jump(grad(p), n)**2*dS ) # +assemble(div(grad(p))**2*dx)\n",
    "        initial_solution.append(p.copy())\n",
    "        \n",
    "    rf = ReducedFunctional(J, control)\n",
    "    problem = MoolaOptimizationProblem(rf)\n",
    "    f_moola = moola.DolfinPrimalVectorSet(\n",
    "        [moola.DolfinPrimalVector(c, inner_product=\"L2\") for c in ctrls])\n",
    "    \n",
    "    solver = moola.BFGS(problem, f_moola, options={'jtol': 1e-12,\n",
    "                                                   'gtol': 1e-9,\n",
    "                                                   'Hinit': \"default\",\n",
    "                                                   'maxiter': 50,\n",
    "                                                   'mem_lim': 100})\n",
    "    sol = solver.solve()\n",
    "    opt_ctrls = sol['control'].data\n",
    "    #problem = MinimizationProblem(rf)\n",
    "\n",
    "    #solver = IPOPTSolver(problem, parameters={'maximum_iterations': 50})\n",
    "    #opt_ctrls = solver.solve()\n",
    "\n",
    "    opt_solution = solve_darcy(mesh, opt_ctrls, T, num_steps, K,\n",
    "                              boundary_marker, boundary_conditions,\n",
    "                              c=c, p_initial=p_obs, degree=1, theta=0.5)\n",
    "    opt_solution = [s.copy() for s in opt_solution]\n",
    "    \n",
    "    return opt_ctrls, opt_solution, initial_solution"
   ]
  },
  {
   "cell_type": "code",
   "execution_count": null,
   "metadata": {},
   "outputs": [],
   "source": [
    "# Optimize with Dirichlet bc\n",
    "dirichlet_boundary_conditions = {1:{\"Dirichlet\":p_obs}, 2:{\"Dirichlet\":p_obs}}\n",
    "\n",
    "%time res = optimize_force(K, p_obs, boundary_marker, dirichlet_boundary_conditions)\n",
    "diri_opt_ctrls, diri_opt_solution, initial_solution = res"
   ]
  },
  {
   "cell_type": "code",
   "execution_count": null,
   "metadata": {},
   "outputs": [],
   "source": [
    "# Optimize with Robin bc at skull\n",
    "beta = 0.5\n",
    "robin_boundary_conditions = { #1:{\"Robin\": (beta, beta*p_obs + p_N)},\n",
    "                               1:{\"Neumann\": p_N},\n",
    "                              2:{\"Dirichlet\":p_obs}}\n",
    "%time res = optimize_force(K, p_obs, boundary_marker, robin_boundary_conditions)\n",
    "robin_opt_ctrls, robin_opt_solution,initial_solution = res"
   ]
  },
  {
   "cell_type": "code",
   "execution_count": null,
   "metadata": {},
   "outputs": [],
   "source": [
    "# compute pressure from analytical force\n",
    "ana_solution = solve_darcy(mesh, f_ana, T, num_steps, K,\n",
    "                          boundary_marker, dirichlet_boundary_conditions,\n",
    "                          c=c, p_initial=p_obs, degree=1, theta=0.5)\n",
    "ana_solution = [s.copy() for s in ana_solution]"
   ]
  },
  {
   "cell_type": "code",
   "execution_count": null,
   "metadata": {},
   "outputs": [],
   "source": [
    "pressures = {\"p_init\" : extract_cross_section(initial_solution, slice_points)/mmHg2Pa,\n",
    "             \"p_opt_dirichlet\" : extract_cross_section(diri_opt_solution, slice_points)/mmHg2Pa,\n",
    "             \"p_opt_robin\" : extract_cross_section(robin_opt_solution, slice_points)/mmHg2Pa,\n",
    "             #\"p_obs\": extract_cross_section(p_obs, slice_points, times=times)/mmHg2Pa,\n",
    "             \"p_ana\": extract_cross_section(ana_solution, slice_points)/mmHg2Pa\n",
    "            }\n",
    "#p_opt_robin = extract_cross_section(robin_opt_solution, slice_points)\n",
    "#cdpdt = np.diff(p_opt_robin,n=1, axis=0, prepend=0)/dt*c\n",
    "\n",
    "forces = {\"f_opt_dirichlet\": extract_cross_section(diri_opt_ctrls, slice_points),\n",
    "          \"f_opt_robin\": extract_cross_section(robin_opt_ctrls, slice_points),\n",
    "          \"f_ana\": extract_cross_section(f_ana, slice_points, times=np.array(times) - 0.5*dt),\n",
    "          #\"c*dp_opt_robin/dt\":cdpdt\n",
    "         }\n",
    "\n",
    "style_dict[\"c*dp_opt_robin/dt\"] = {\"ls\":\":\", \"lw\":5}"
   ]
  },
  {
   "cell_type": "code",
   "execution_count": null,
   "metadata": {},
   "outputs": [],
   "source": [
    "%load_ext autoreload\n",
    "%autoreload\n",
    "from PlottingHelper import  plot_pressures_and_forces_cross_section\n",
    "for i in range(num_steps): \n",
    "    plot_pressures_and_forces_cross_section(pressures, forces, i, x_coords)\n",
    "    plt.suptitle(f\"t = {times[i]:.3f} s\")"
   ]
  },
  {
   "cell_type": "code",
   "execution_count": null,
   "metadata": {},
   "outputs": [],
   "source": [
    "for i in [2, 10,18]:\n",
    "    plot_pressures_and_forces_timeslice(pressures, forces, i, times)\n",
    "    plt.suptitle(f\"Point: ({slice_points[i].x():.3f}, {slice_points[i].y():.3f})\")"
   ]
  },
  {
   "cell_type": "code",
   "execution_count": null,
   "metadata": {},
   "outputs": [],
   "source": []
  },
  {
   "cell_type": "code",
   "execution_count": null,
   "metadata": {},
   "outputs": [],
   "source": []
  },
  {
   "cell_type": "code",
   "execution_count": null,
   "metadata": {},
   "outputs": [],
   "source": []
  }
 ],
 "metadata": {
  "kernelspec": {
   "display_name": "Python 3",
   "language": "python",
   "name": "python3"
  },
  "language_info": {
   "codemirror_mode": {
    "name": "ipython",
    "version": 3
   },
   "file_extension": ".py",
   "mimetype": "text/x-python",
   "name": "python",
   "nbconvert_exporter": "python",
   "pygments_lexer": "ipython3",
   "version": "3.8.2"
  }
 },
 "nbformat": 4,
 "nbformat_minor": 4
}
