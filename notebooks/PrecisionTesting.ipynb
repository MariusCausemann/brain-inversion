{
 "cells": [
  {
   "cell_type": "code",
   "execution_count": null,
   "metadata": {},
   "outputs": [],
   "source": [
    "from dolfin import *\n",
    "parameters[\"form_compiler\"][\"precision\"] = 10\n",
    "mesh = UnitSquareMesh(16, 16)\n",
    "small = 0.28e-15\n",
    "c = small\n",
    "M = (1.0 - c/small)*dx(mesh)\n",
    "M = ( (1.0 + c)*dx(mesh))\n",
    "#res = c* assemble(M)\n",
    "print(assemble(1*dx(mesh))) \n",
    "print(1/small*assemble(small*dx(mesh)))\n"
   ]
  },
  {
   "cell_type": "code",
   "execution_count": null,
   "metadata": {},
   "outputs": [],
   "source": [
    "import matplotlib.pyplot as plt\n",
    "import numpy as np\n",
    "parameters[\"form_compiler\"][\"precision\"] = 10\n",
    "\n",
    "solutions = []\n",
    "K_values = np.array([1, 1e-5, 1e-10])*pi\n",
    "\n",
    "for i, k_val in enumerate(K_values):\n",
    "    #parameters[\"form_compiler\"][\"precision\"] = i\n",
    "    print(i)\n",
    "    K = k_val\n",
    "    V = FunctionSpace(mesh, \"CG\", 1)\n",
    "    u = TrialFunction(V)\n",
    "    v = TestFunction(V)\n",
    "    f = Constant(1.0)\n",
    "    bc = DirichletBC(V, 0.0, \"on_boundary\")\n",
    "    a = K*inner(grad(u), grad(v))*dx\n",
    "    L = f*v*dx\n",
    "\n",
    "    u = Function(V)\n",
    "    solve(a==L, u, bc, solver_parameters={\"linear_solver\":\"cg\"})\n",
    "    solutions.append(u)\n",
    "\n",
    "sol_mag = [assemble(u*dx) for u in solutions]\n",
    "plt.semilogy(sol_mag)"
   ]
  },
  {
   "cell_type": "code",
   "execution_count": null,
   "metadata": {},
   "outputs": [],
   "source": []
  },
  {
   "cell_type": "code",
   "execution_count": null,
   "metadata": {},
   "outputs": [],
   "source": []
  }
 ],
 "metadata": {
  "kernelspec": {
   "display_name": "Python 3",
   "language": "python",
   "name": "python3"
  },
  "language_info": {
   "codemirror_mode": {
    "name": "ipython",
    "version": 3
   },
   "file_extension": ".py",
   "mimetype": "text/x-python",
   "name": "python",
   "nbconvert_exporter": "python",
   "pygments_lexer": "ipython3",
   "version": "3.6.9"
  }
 },
 "nbformat": 4,
 "nbformat_minor": 4
}
