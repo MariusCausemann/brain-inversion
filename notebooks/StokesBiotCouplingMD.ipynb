{
 "cells": [
  {
   "cell_type": "code",
   "execution_count": null,
   "metadata": {},
   "outputs": [],
   "source": [
    "from dolfin import *\n",
    "import matplotlib.pyplot as plt\n",
    "\n",
    "def eps(u):\n",
    "    #return sym(nabla_grad(u))\n",
    "    return 0.5*(nabla_grad(u) + nabla_grad(u).T)\n",
    "\n",
    "I = Identity(2)\n",
    "\n",
    "u_degree = 3\n",
    "p_degree = 2\n",
    "\n",
    "n = 20\n",
    "ratio = 4.0\n",
    "mid = 2.0\n",
    "mesh = RectangleMesh(Point(0.0), Point(ratio, 1.0), int(n*ratio), n)\n",
    "\n",
    "fluidmarker = MeshFunction(\"size_t\", mesh, mesh.topology().dim(), 0)\n",
    "fluid = CompiledSubDomain(\"x[0] <= mid + DOLFIN_EPS\", mid=mid)\n",
    "fluid.mark(fluidmarker, 1)\n",
    "\n",
    "porousmarker = MeshFunction(\"size_t\", mesh, mesh.topology().dim(), 0)\n",
    "porous = CompiledSubDomain(\"x[0] >= mid - DOLFIN_EPS\", mid=mid)\n",
    "porous.mark(porousmarker, 1)\n",
    "\n",
    "bottom = CompiledSubDomain(\"on_boundary && near(x[1], 0.0)\")\n",
    "top = CompiledSubDomain(\"on_boundary && near(x[1], 1.0)\")\n",
    "left = CompiledSubDomain(\"on_boundary && near(x[0], 0.0)\")\n",
    "right = CompiledSubDomain(\"on_boundary && near(x[0], end)\", end=ratio)\n",
    "interface = CompiledSubDomain(\"near(x[0], mid, DOLFIN_EPS)\", mid=mid)\n",
    "\n",
    "\n",
    "boundary_int = MeshFunction(\"size_t\", mesh, 1, 0)\n",
    "marker_all = MeshFunction(\"size_t\", mesh, 2, 0)\n",
    "interface.mark(boundary_int, 1)\n",
    "\n",
    "mesh_int = MeshView.create(boundary_int, 1)\n",
    "mesh_all = MeshView.create(marker_all, 0)\n",
    "\n",
    "porousmesh = MeshView.create(porousmarker, 1)\n",
    "fluidmesh = MeshView.create(fluidmarker, 1)\n",
    "\n",
    "boundary_intF = MeshFunction(\"size_t\", fluidmesh, 1, 0)\n",
    "boundary_intP = MeshFunction(\"size_t\", porousmesh, 1, 0)\n",
    "\n",
    "interface.mark(boundary_intF, 1)\n",
    "interface.mark(boundary_intP, 1)\n",
    "\n",
    "V = VectorElement(\"CG\", mesh.ufl_cell(), u_degree)\n",
    "W = FiniteElement(\"CG\", mesh.ufl_cell(), p_degree)\n",
    "\n",
    "# setup mixed space for porous region\n",
    "VWWElement = MixedElement([V, W, W])\n",
    "VWW = FunctionSpace(porousmesh, VWWElement)\n",
    "\n",
    "# setup mixed space for fluid region\n",
    "VWElement = MixedElement([V, W])\n",
    "VW = FunctionSpace(fluidmesh, VWElement)\n",
    "\n",
    "# setup mixed region function space\n",
    "VWWVW = MixedFunctionSpace(VW, VWW)\n",
    "\n",
    "# define trial functions\n",
    "u_pF, d_pP_phi = TrialFunctions(VWWVW)\n",
    "u, pF = split(u_pF)\n",
    "d, pP, phi = split(d_pP_phi)\n",
    "\n",
    "# define test functions\n",
    "v_qF, w_qP_psi = TestFunctions(VWWVW)\n",
    "v, qF = split(v_qF)\n",
    "w, qP, psi = split(w_qP_psi)\n",
    "\n",
    "# define constants\n",
    "\n",
    "E = 1e5             # Young modulus\n",
    "nu = 0.4             # Poisson ratio\n",
    "\n",
    "A = 1.0\n",
    "rho_s = Constant(1)\n",
    "mu_s = Constant(E/(2.0*(1.0+nu)))\n",
    "mu_s = Constant(1)\n",
    "\n",
    "rho_f = Constant(1)\n",
    "mu_f = Constant(1)\n",
    "\n",
    "lmbda = Constant(nu*E/((1.0-2.0*nu)*(1.0+nu)))\n",
    "lmbda = Constant(1)\n",
    "alpha = Constant(1.0)\n",
    "kappa = Constant(1)\n",
    "\n",
    "#C = Constant(1.0)\n",
    "gamma = Constant(0.3)\n",
    "\n",
    "# define sources and forces\n",
    "\n",
    "g = Constant([0.0, 0.0])\n",
    "f = Constant([0.0, 0.0])\n",
    "\n",
    "\n",
    "# define Measures\n",
    "dxF = Measure(\"dx\", domain=VWWVW.sub_space(0).mesh())\n",
    "dxP = Measure(\"dx\", domain=VWWVW.sub_space(1).mesh())\n",
    "\n",
    "ds_Sig = Measure(\"dx\", domain=mesh_int)\n",
    "ds_SigF = Measure(\"ds\", domain=fluidmesh, subdomain_data=boundary_intF)(1)\n",
    "ds_SigP = Measure(\"ds\", domain=porousmesh, subdomain_data=boundary_intP)(1)\n",
    "\n",
    "n = Constant([1.0, 0.0])\n",
    "t = Constant([0.0, 1.0])\n",
    "\n",
    "# define forms\n",
    "def a_F(u,v):\n",
    "    return 2*mu_f*inner(eps(u), eps(v))*dxF + (gamma*mu_f/sqrt(kappa))*inner(u, t)*inner(v,t)*ds_SigF\n",
    "    #return mu_f*inner((nabla_grad(u)), (nabla_grad(v)))*dxF + (gamma*mu_f/sqrt(kappa))*inner(u, t)*inner(v,t)*ds_SigF\n",
    "            \n",
    "def c_F(u,w,v):\n",
    "    return rho_f * dot(dot(u, nabla_grad(w)), v)*dxF\n",
    "\n",
    "def b_1_F(v, qF):\n",
    "    return - qF*div(v)*dxF\n",
    "\n",
    "def b_2_Sig(v, qP, ds):\n",
    "    return qP*inner(v, n)*ds\n",
    "\n",
    "def b_3_Sig(v, d, ds):\n",
    "    return - ((gamma*mu_f/sqrt(kappa))*inner(v,t)*inner(d, t)*ds)\n",
    "\n",
    "def b_4_Sig(w,qP, ds):\n",
    "    return -qP * dot(w,n)*ds\n",
    "\n",
    "def a_1_P(d, w):\n",
    "    return 2.0*mu_s*inner(eps(d), eps(w))*dxP\n",
    "\n",
    "def b_1_P(w, psi):\n",
    "    return - psi*div(w)*dxP\n",
    "\n",
    "def a_2_P(pP,qP):\n",
    "    return (kappa/mu_f) *inner(grad(pP), grad(qP))*dxP\n",
    "\n",
    "def b_2_P(psi, qP):\n",
    "    return (alpha/lmbda)*psi*qP*dxP\n",
    "\n",
    "def a_3_P(phi, psi):\n",
    "    return (1.0/lmbda)*phi*psi*dxP\n",
    "\n",
    "def F_F(v):\n",
    "    return rho_f *dot(g, v)*dxF\n",
    "\n",
    "def F_P(w):\n",
    "    return rho_s*inner(f, w)*dxP\n",
    "\n",
    "def G(qP):\n",
    "    return rho_f*inner(g, grad(qP))*dxP  - rho_f*inner(g, n)*qP*ds_SigP \n",
    "\n",
    "# define system:\n",
    "\n",
    "a1 = a_F(u,v) + b_1_F(v, pF) #+ c_F(u,u,v)\n",
    "\n",
    "a2 = b_1_F(u, qF)\n",
    "\n",
    "a3 = a_1_P(d,w) + b_1_P(w, phi) + b_4_Sig(w,pP, ds_SigP)\n",
    "\n",
    "a4 = a_2_P(pP, qP)\n",
    "\n",
    "a5 = b_1_P(d, psi) + b_2_P(psi, pP) - a_3_P(phi, psi)\n",
    "\n",
    "coupling = True\n",
    "if coupling:\n",
    "    \n",
    "    a1 += b_2_Sig(v, pP, ds_Sig)\n",
    "    a3 += b_3_Sig(u, w, ds_Sig)\n",
    "    a4 -= b_2_Sig(u, qP, ds_Sig)\n",
    "\n",
    "a = a1 + a2 +  a3 + a4 + a5\n",
    "\n",
    "L =  F_F(v) + F_P(w) + G(qP)\n",
    "\n",
    "F = a -L\n",
    "\n",
    "# define boundary conditions (fluid left and porous right)\n",
    "\n",
    "\n",
    "#inflow = DirichletBC(VW.sub(0), Expression([\"A*( -(2*x[1] - 1)*(2*x[1] - 1) + 1.0)\", \"0.0\"],A=A, degree=2), left)\n",
    "inflow = DirichletBC(VW.sub(0), Expression((\"A*sin(x[1]*pi)\", \"0.0\"),A=A, degree=2), left)\n",
    "#inflow = DirichletBC(VW.sub(1), Constant(10.0), left)\n",
    "outflow = DirichletBC(VW.sub(1), Constant(0.0), interface)\n",
    "no_slip_top = DirichletBC(VW.sub(0), Constant([0.0, 0.0]), top)\n",
    "no_slip_bottom = DirichletBC(VW.sub(0), Constant([0.0, 0.0]), bottom)\n",
    "\n",
    "fluid_bcs = [no_slip_bottom, no_slip_top, inflow]\n",
    "\n",
    "\n",
    "outflow_por = DirichletBC(VWW.sub(1), Constant(0.0), right)\n",
    "inflow_por = DirichletBC(VWW.sub(1), Constant(10.0), interface)\n",
    "\n",
    "fix_top = DirichletBC(VWW.sub(0), Constant([0.0, 0.0]), top)\n",
    "fix_bottom = DirichletBC(VWW.sub(0), Constant([0.0, 0.0]), bottom)\n",
    "fix_right = DirichletBC(VWW.sub(0), Constant([0.0, 0.0]), right)\n",
    "\n",
    "#fix_interf = DirichletBC(VWW.sub(0), Constant([0.0, 0.0]), interface)\n",
    "\n",
    "\n",
    "porous_bcs = [fix_bottom, fix_top,fix_right, outflow_por]#, inflow_por]\n",
    "bcs = fluid_bcs + porous_bcs\n",
    "sol = Function(VWWVW)\n",
    "solve(a==L, sol,bcs=bcs,\n",
    "      solver_parameters={\"linear_solver\":\"direct\"})\n"
   ]
  },
  {
   "cell_type": "code",
   "execution_count": null,
   "metadata": {},
   "outputs": [],
   "source": [
    "u_pF, d_pP_phi = sol.split(True)\n",
    "u, pF = u_pF.split(True)\n",
    "d, pP, phi = d_pP_phi.split(True)\n",
    "names = [\"velocity u\", \"fluid pressure pF\", \"displacement d\",\n",
    "         \"fluid pressure in porous domain pP\", \"total pressure phi\",\n",
    "        \"darcy flow\"]\n",
    "funcs = [u, pF, d, pP, phi, project(-kappa*grad(pP))]\n",
    "[f.rename(names[i], \"\") for i,f in enumerate(funcs)]"
   ]
  },
  {
   "cell_type": "code",
   "execution_count": null,
   "metadata": {},
   "outputs": [],
   "source": [
    "# check interface conditions\n",
    "\n",
    "# continuity of normal flux:\n",
    "\n",
    "normal_flux_L = assemble(dot(u,n)*ds_Sig)\n",
    "normal_flux_R = assemble((kappa/mu_f)* dot(-grad(pP),n)*ds_SigP)\n",
    "\n",
    "print(f\"normal fluxes: {normal_flux_L}, {normal_flux_R}\")"
   ]
  },
  {
   "cell_type": "code",
   "execution_count": null,
   "metadata": {},
   "outputs": [],
   "source": [
    "# momentum conservation_\n",
    "mom_con_L0 = assemble(((2*mu_f*eps(u) - pF*I)*n)[0]*ds_SigF)\n",
    "mom_con_L1 = assemble(((2*mu_f*eps(u) - pF*I)*n)[1]*ds_SigF)\n",
    "\n",
    "mom_con_R0 = assemble(((2*mu_s*eps(d) - phi*I)* n)[0]*ds_SigP)\n",
    "mom_con_R1 = assemble(((2*mu_s*eps(d) - phi*I)* n)[1]*ds_SigP)\n",
    "\n",
    "print(f\"mom con 0: {mom_con_L0}, {mom_con_R0}\")\n",
    "print(f\"mom con 1: {mom_con_L1}, {mom_con_R1}\")"
   ]
  },
  {
   "cell_type": "code",
   "execution_count": null,
   "metadata": {},
   "outputs": [],
   "source": [
    "# fluid normal stresses\n",
    "fns_L = assemble(- dot(n, (2*mu_f*eps(u) - pF*I)*n)*ds_Sig)\n",
    "fns_R = assemble(pP*ds_Sig)\n",
    "print(f\"fluid normal stresses: {fns_L}, {fns_R}\")"
   ]
  },
  {
   "cell_type": "code",
   "execution_count": null,
   "metadata": {},
   "outputs": [],
   "source": [
    "for i, func in enumerate(funcs):\n",
    "    plt.figure(figsize=(12,6))\n",
    "    c = plot(func)\n",
    "    plt.title(func.name())\n",
    "    plt.colorbar(c)"
   ]
  },
  {
   "cell_type": "code",
   "execution_count": null,
   "metadata": {},
   "outputs": [],
   "source": [
    "assemble(pP*ds_Sig)"
   ]
  },
  {
   "cell_type": "code",
   "execution_count": null,
   "metadata": {},
   "outputs": [],
   "source": [
    "assemble(pP*ds_SigP)"
   ]
  },
  {
   "cell_type": "code",
   "execution_count": null,
   "metadata": {},
   "outputs": [],
   "source": [
    "assemble(pF*ds_Sig)"
   ]
  },
  {
   "cell_type": "code",
   "execution_count": null,
   "metadata": {},
   "outputs": [],
   "source": [
    "assemble(pF*ds_SigF)"
   ]
  },
  {
   "cell_type": "code",
   "execution_count": null,
   "metadata": {},
   "outputs": [],
   "source": [
    "assemble(u[0]*ds_Sig)"
   ]
  },
  {
   "cell_type": "code",
   "execution_count": null,
   "metadata": {},
   "outputs": [],
   "source": [
    "assemble(u[0]*ds_SigF)"
   ]
  },
  {
   "cell_type": "code",
   "execution_count": null,
   "metadata": {},
   "outputs": [],
   "source": [
    "assemble(d[0]*ds_Sig)"
   ]
  },
  {
   "cell_type": "code",
   "execution_count": null,
   "metadata": {},
   "outputs": [],
   "source": [
    "assemble(d[0]*ds_SigP)"
   ]
  },
  {
   "cell_type": "code",
   "execution_count": null,
   "metadata": {},
   "outputs": [],
   "source": [
    "print(assemble(inner(grad(pP),n)*ds_Sig))\n",
    "print(assemble(inner(grad(pP),n)*ds_SigP))\n",
    "print(assemble(inner(grad(pP),n)*ds_SigF))\n"
   ]
  },
  {
   "cell_type": "code",
   "execution_count": null,
   "metadata": {},
   "outputs": [],
   "source": [
    "print(assemble(pP*ds_Sig))\n",
    "print(assemble(pP*ds_SigF))\n",
    "print(assemble(pP*ds_SigP))"
   ]
  },
  {
   "cell_type": "code",
   "execution_count": null,
   "metadata": {},
   "outputs": [],
   "source": [
    "print(assemble(pF*ds_Sig))\n",
    "print(assemble(pF*ds_SigF))\n",
    "print(assemble(pF*ds_SigP))"
   ]
  },
  {
   "cell_type": "code",
   "execution_count": null,
   "metadata": {},
   "outputs": [],
   "source": [
    "print(assemble(inner(grad(pF),n)*ds_Sig))\n",
    "print(assemble(inner(grad(pF),n)*ds_SigP))\n",
    "print(assemble(inner(grad(pF),n)*ds_SigF))\n"
   ]
  },
  {
   "cell_type": "code",
   "execution_count": null,
   "metadata": {},
   "outputs": [],
   "source": [
    "plt.figure(figsize=(8,8))\n",
    "c = plot(grad(pP))\n",
    "plt.colorbar(c)"
   ]
  },
  {
   "cell_type": "code",
   "execution_count": null,
   "metadata": {},
   "outputs": [],
   "source": [
    "plot(mesh_int)"
   ]
  },
  {
   "cell_type": "code",
   "execution_count": null,
   "metadata": {},
   "outputs": [],
   "source": [
    "mesh_int.num_vertices()"
   ]
  },
  {
   "cell_type": "code",
   "execution_count": null,
   "metadata": {},
   "outputs": [],
   "source": []
  }
 ],
 "metadata": {
  "kernelspec": {
   "display_name": "Python 3",
   "language": "python",
   "name": "python3"
  },
  "language_info": {
   "codemirror_mode": {
    "name": "ipython",
    "version": 3
   },
   "file_extension": ".py",
   "mimetype": "text/x-python",
   "name": "python",
   "nbconvert_exporter": "python",
   "pygments_lexer": "ipython3",
   "version": "3.6.9"
  }
 },
 "nbformat": 4,
 "nbformat_minor": 4
}
