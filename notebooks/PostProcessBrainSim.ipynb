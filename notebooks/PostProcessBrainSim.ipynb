{
 "cells": [
  {
   "cell_type": "code",
   "execution_count": null,
   "metadata": {},
   "outputs": [],
   "source": [
    "from fenics import *\n",
    "import numpy as np\n",
    "from braininversion.IOHandling import (read_mesh_from_h5, write_to_xdmf, \n",
    "                                       xdmf_to_unstructuredGrid, read_xdmf_timeseries)\n",
    "from braininversion.PlottingHelper import (plot_pressures_and_forces_timeslice, \n",
    "                                           plot_pressures_and_forces_cross_section,\n",
    "                                           extract_cross_section, style_dict)\n",
    "import matplotlib.pyplot as plt\n",
    "import yaml\n"
   ]
  },
  {
   "cell_type": "code",
   "execution_count": null,
   "metadata": {},
   "outputs": [],
   "source": [
    "mesh_name = \"ideal_brain_3D_N50\"\n",
    "T = 0.2\n",
    "num_steps = 5\n",
    "sim_name = f\"{mesh_name}_{T}_{num_steps}\"\n",
    "config_file_path = f\"../results/{sim_name}/{sim_name}_config.yml\"\n",
    "sim_file = f\"../results/{sim_name}/{sim_name}_checkp.xdmf\"\n",
    "mesh_file = f\"../meshes/{mesh_name}/{mesh_name}.xdmf\"\n",
    "boundary_file = f\"../meshes/{mesh_name}/{mesh_name}_boundaries.xdmf\"\n",
    "\n",
    "\n",
    "with open(config_file_path) as conf_file:\n",
    "    config = yaml.load(conf_file, Loader=yaml.FullLoader)\n",
    "\n",
    "mesh_dir = config[\"mesh_dir_name\"]\n",
    "mesh_config_path = f\"../meshes/{mesh_dir}/{mesh_dir}_config.yml\"\n",
    "with open(mesh_config_path) as conf_file:\n",
    "    mesh_config = yaml.load(conf_file, Loader=yaml.FullLoader)\n"
   ]
  },
  {
   "cell_type": "code",
   "execution_count": null,
   "metadata": {},
   "outputs": [],
   "source": [
    "ventricle_probe = [Point(mesh_config[\"ventricle_probe\"])]\n",
    "sas_probe = [Point(mesh_config[\"sas_probe\"])]\n",
    "parenchyma_probe = [Point(mesh_config[\"parenchyma_probe\"])]\n",
    "\n",
    "mmHg2Pa = 132.32\n",
    "spinal_outlet_id = 3\n",
    "\n",
    "\n",
    "dt = T/num_steps\n",
    "times = np.linspace(dt, T, num_steps)\n",
    "infile_mesh = XDMFFile(mesh_file)\n",
    "mesh = Mesh()\n",
    "infile_mesh.read(mesh)\n",
    "gdim = mesh.geometric_dimension()\n",
    "\n",
    "boundary_marker = MeshFunction(\"size_t\", mesh, gdim - 1, 0)\n",
    "boundary_infile = XDMFFile(boundary_file)\n",
    "boundary_infile.read(boundary_marker)\n",
    "boundary_infile.close()"
   ]
  },
  {
   "cell_type": "code",
   "execution_count": null,
   "metadata": {},
   "outputs": [],
   "source": [
    "V = VectorFunctionSpace(mesh, \"CG\", 1)\n",
    "W = FunctionSpace(mesh, \"CG\", 1)\n",
    "names = {\"pF\":W, \"pP\":W, \"phi\":W,\n",
    "         \"d\":V, \"u\":V\n",
    "        }\n",
    "infile_results = XDMFFile(sim_file)\n",
    "results = {n:[] for n in names}\n",
    "for n, space in names.items():\n",
    "    for i in range(num_steps):\n",
    "        f = Function(space)\n",
    "        infile_results.read_checkpoint(f, n, i)\n",
    "        results[n].append(f)"
   ]
  },
  {
   "cell_type": "code",
   "execution_count": null,
   "metadata": {},
   "outputs": [],
   "source": [
    "pP_series = results[\"pP\"]\n",
    "pF_series = results[\"pF\"]\n",
    "phi_series = results[\"phi\"]\n",
    "\n",
    "pF_sas = extract_cross_section(pF_series, sas_probe).flatten()/mmHg2Pa\n",
    "pF_ventricle = extract_cross_section(pF_series, ventricle_probe).flatten()/mmHg2Pa\n",
    "pP_parenchyma = extract_cross_section(pP_series, parenchyma_probe).flatten()/mmHg2Pa\n",
    "phi_parenchyma = extract_cross_section(phi_series, parenchyma_probe).flatten()/mmHg2Pa\n",
    "\n",
    "\n",
    "plt.figure(figsize=(10,8))\n",
    "plt.plot(times, pF_ventricle, label=\"ventricle\")\n",
    "plt.plot(times, pP_parenchyma, label=\"parenchyma fluid\")\n",
    "plt.plot(times, phi_parenchyma, label=\"parenchyma tot\")\n",
    "plt.plot(times, pF_sas, label=\"SAS\")\n",
    "\n",
    "plt.legend()\n",
    "plt.grid()\n",
    "plt.xlabel(\"t [s]\")\n",
    "plt.ylabel(\"p in mmHg\")"
   ]
  },
  {
   "cell_type": "code",
   "execution_count": null,
   "metadata": {},
   "outputs": [],
   "source": [
    "# compute outflow into spinal coord \n",
    "\n",
    "ds_outflow = Measure(\"ds\", domain=mesh, subdomain_data=boundary_marker, subdomain_id=spinal_outlet_id)\n",
    "n = FacetNormal(mesh)\n",
    "\n",
    "m3tomL = 1e6\n",
    "outflow = np.array([assemble(dot(u,n)*ds_outflow) for u in results[\"u\"]])\n",
    "plt.figure(figsize=(10,8))\n",
    "plt.plot(times, outflow/dt*m3tomL, label=\"outflow into spinal coord\")\n",
    "plt.legend()\n",
    "plt.grid()\n",
    "plt.xlabel(\"time in s\")\n",
    "plt.ylabel(\"flowrate in mL/ s\")"
   ]
  },
  {
   "cell_type": "code",
   "execution_count": null,
   "metadata": {},
   "outputs": [],
   "source": [
    "from pathlib import Path\n",
    "import pyvista as pv"
   ]
  },
  {
   "cell_type": "code",
   "execution_count": null,
   "metadata": {},
   "outputs": [],
   "source": [
    "sim_file = f\"../results/{sim_name}/{sim_name}.xdmf\"\n",
    "\n",
    "grid = xdmf_to_unstructuredGrid(sim_file, idx=[0,1])\n"
   ]
  },
  {
   "cell_type": "code",
   "execution_count": null,
   "metadata": {},
   "outputs": [],
   "source": [
    "slices = grid.slice_orthogonal()\n",
    "p = pv.Plotter()\n",
    "p.add_mesh(slices,cmap=\"coolwarm\")\n",
    "p.show()"
   ]
  },
  {
   "cell_type": "code",
   "execution_count": null,
   "metadata": {},
   "outputs": [],
   "source": [
    "clipped_data = grid.clip(normal=[0,1,0])\n",
    "p = pv.PlotterITK()\n",
    "p.add_mesh(clipped_data)\n",
    "p.show()"
   ]
  },
  {
   "cell_type": "code",
   "execution_count": null,
   "metadata": {},
   "outputs": [],
   "source": []
  },
  {
   "cell_type": "code",
   "execution_count": null,
   "metadata": {},
   "outputs": [],
   "source": [
    "interpolate?"
   ]
  },
  {
   "cell_type": "code",
   "execution_count": null,
   "metadata": {},
   "outputs": [],
   "source": []
  }
 ],
 "metadata": {
  "kernelspec": {
   "display_name": "Python 3",
   "language": "python",
   "name": "python3"
  },
  "language_info": {
   "codemirror_mode": {
    "name": "ipython",
    "version": 3
   },
   "file_extension": ".py",
   "mimetype": "text/x-python",
   "name": "python",
   "nbconvert_exporter": "python",
   "pygments_lexer": "ipython3",
   "version": "3.8.2"
  }
 },
 "nbformat": 4,
 "nbformat_minor": 4
}
