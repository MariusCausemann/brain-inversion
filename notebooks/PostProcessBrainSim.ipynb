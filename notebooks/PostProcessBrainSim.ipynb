{
 "cells": [
  {
   "cell_type": "code",
   "execution_count": null,
   "metadata": {},
   "outputs": [],
   "source": [
    "ls ../meshes"
   ]
  },
  {
   "cell_type": "code",
   "execution_count": null,
   "metadata": {},
   "outputs": [],
   "source": [
    "from fenics import *\n",
    "from multiphenics import *\n",
    "import numpy as np\n",
    "from braininversion.IOHandling import (read_mesh_from_h5, write_to_xdmf, \n",
    "                                       xdmf_to_unstructuredGrid, read_xdmf_timeseries)\n",
    "from braininversion.PlottingHelper import (plot_pressures_and_forces_timeslice, \n",
    "                                           plot_pressures_and_forces_cross_section,\n",
    "                                           extract_cross_section, style_dict)\n",
    "import matplotlib.pyplot as plt\n",
    "import yaml\n",
    "import pyvista as pv\n",
    "from pathlib import Path\n"
   ]
  },
  {
   "cell_type": "code",
   "execution_count": null,
   "metadata": {},
   "outputs": [],
   "source": [
    "try:\n",
    "    mesh_file = snakemake.input[\"subdomain_file\"]\n",
    "    sim_file = snakemake.input[\"sim_results\"]\n",
    "    sim_config_file = snakemake.input[\"sim_config_file\"]\n",
    "except NameError:\n",
    "    mesh = \"ideal_brain_3D_N160\"\n",
    "    sim_name = \"IdealizedBrain3DBrainSim\"\n",
    "    mesh_file = f\"../meshes/{mesh}/{mesh}.xdmf\"\n",
    "    sim_file = f\"../results/{mesh}_{sim_name}/results.xdmf\"\n",
    "    sim_config_file = f\"../results/{mesh}_{sim_name}/config.yml\"\n",
    "\n",
    "\n",
    "mesh_name = f\"{Path(mesh_file).parent}/{Path(mesh_file).stem}\"\n",
    "mesh_config_file = f\"{mesh_name}_config.yml\"\n",
    "\n",
    "boundary_file = f\"{mesh_name}_boundaries.xdmf\"\n",
    "label_boundary_file = f\"{mesh_name}_label_boundaries.xdmf\"\n",
    "label_file = f\"{mesh_name}_labels.xdmf\"\n",
    "\n",
    "sim_file_old = f\"../results/{mesh}_{sim_name}/results_old.xdmf\"\n",
    "\n",
    "\n",
    "with open(sim_config_file) as conf_file:\n",
    "    sim_config = yaml.load(conf_file, Loader=yaml.FullLoader)\n",
    "    \n",
    "with open(mesh_config_file) as conf_file:\n",
    "    mesh_config = yaml.load(conf_file, Loader=yaml.FullLoader)\n",
    "\n",
    "T = sim_config[\"T\"]\n",
    "num_steps = sim_config[\"num_steps\"]\n",
    "# subdomain ids\n",
    "fluid_id = 2\n",
    "porous_id = 1\n",
    "\n",
    "# boundary ids\n",
    "interface_id = 1\n",
    "rigid_skull_id = 2\n",
    "spinal_outlet_id = 3\n",
    "fixed_stem_id = 4\n",
    "\n",
    "\n",
    "mmHg2Pa = 132.32\n",
    "v_order = 2"
   ]
  },
  {
   "cell_type": "code",
   "execution_count": null,
   "metadata": {},
   "outputs": [],
   "source": [
    "dt = T/num_steps\n",
    "times = np.linspace(0, T, num_steps + 1)\n",
    "infile_mesh = XDMFFile(mesh_file)\n",
    "mesh = Mesh()\n",
    "infile_mesh.read(mesh)\n",
    "gdim = mesh.geometric_dimension()\n",
    "subdomain_marker = MeshFunction(\"size_t\", mesh, gdim)\n",
    "infile_mesh.read(subdomain_marker)#, \"subdomains\")\n",
    "label_marker = MeshFunction(\"size_t\", mesh, gdim)\n",
    "infile_label = XDMFFile(label_file)\n",
    "infile_label.read(label_marker)#, \"subdomains\")\n",
    "\n",
    "\n",
    "boundary_marker = MeshFunction(\"size_t\", mesh, gdim - 1, 0)\n",
    "boundary_infile = XDMFFile(boundary_file)\n",
    "boundary_infile.read(boundary_marker)\n",
    "boundary_infile.close()\n",
    "\n",
    "label_boundary_marker = MeshFunction(\"size_t\", mesh, gdim - 1, 0)\n",
    "label_boundary_infile = XDMFFile(label_boundary_file)\n",
    "label_boundary_infile.read(label_boundary_marker)\n",
    "label_boundary_infile.close()"
   ]
  },
  {
   "cell_type": "code",
   "execution_count": null,
   "metadata": {},
   "outputs": [],
   "source": [
    "mesh_config"
   ]
  },
  {
   "cell_type": "code",
   "execution_count": null,
   "metadata": {},
   "outputs": [],
   "source": [
    "class subdomainFilter(UserExpression):\n",
    "    def __init__(self, subdomain_marker, subdomain_id, **kwargs):\n",
    "        self.marker = subdomain_marker\n",
    "        self.domain_id = subdomain_id\n",
    "        super().__init__(**kwargs)\n",
    "\n",
    "\n",
    "    def eval_cell(self, values, x, cell):\n",
    "            if self.marker[cell.index] == self.domain_id:\n",
    "                values[0] = 1\n",
    "            else:\n",
    "                values[0] = np.nan\n",
    "\n",
    "fluid_filter = subdomainFilter(subdomain_marker, fluid_id, degree=0)\n",
    "por_filter = subdomainFilter(subdomain_marker, porous_id, degree=0)\n",
    "\n",
    "DG = FunctionSpace(mesh, \"DG\", 0)\n",
    "fluid_filter = interpolate(fluid_filter, DG)\n",
    "fluid_filter.set_allow_extrapolation(True)\n",
    "por_filter = interpolate(por_filter, DG)\n",
    "por_filter.set_allow_extrapolation(True)"
   ]
  },
  {
   "cell_type": "code",
   "execution_count": null,
   "metadata": {},
   "outputs": [],
   "source": [
    "V = VectorFunctionSpace(mesh, \"CG\", v_order)\n",
    "\n",
    "W = FunctionSpace(mesh, \"CG\", 1)\n",
    "\n",
    "names = {\"pF\":W, \"pP\":W, \"phi\":W,\"d\":V,\"u\":V}\n",
    "\n",
    "#names = {\"pF\":W_fluid, \"pP\":W_por, \"phi\":W_por,\"d\":V_por,\"u\":V_fluid}\n",
    "domains = {\"pF\":\"fluid\", \"pP\":\"porous\", \"phi\":\"porous\",\n",
    "         \"d\":\"porous\", \"u\":\"fluid\"}\n",
    "\n",
    "infile = XDMFFile(sim_file)"
   ]
  },
  {
   "cell_type": "code",
   "execution_count": null,
   "metadata": {},
   "outputs": [],
   "source": []
  },
  {
   "cell_type": "code",
   "execution_count": null,
   "metadata": {},
   "outputs": [],
   "source": [
    "results = {n:[] for n in names}\n",
    "for n, space in names.items():\n",
    "    for i in range(num_steps + 1):\n",
    "        f = Function(space)\n",
    "        if domains[n] == \"fluid\":\n",
    "            infile.read_checkpoint(f, n, i)\n",
    "        elif domains[n] == \"porous\":\n",
    "            infile.read_checkpoint(f, n, i)\n",
    "        else:\n",
    "            print(\"error!\")\n",
    "        results[n].append(f)\n",
    "\n",
    "infile.close()\n"
   ]
  },
  {
   "cell_type": "code",
   "execution_count": null,
   "metadata": {},
   "outputs": [],
   "source": [
    "pP_series = results[\"pP\"]\n",
    "pF_series = results[\"pF\"]\n",
    "phi_series = results[\"phi\"]\n",
    "\n",
    "probe_points_by_region = mesh_config[\"probes\"]\n",
    "regions = [\"parenchyma\", \"sas\", \"ventricular_system\"]\n",
    "\n",
    "regions_to_pressure_type = {\"parenchyma\":phi_series,\n",
    "                            \"sas\":pF_series,\n",
    "                            \"ventricular_system\": pF_series}\n",
    "\n",
    "plt.figure(figsize=(10,8))\n",
    "\n",
    "for r in regions:\n",
    "    for name, point in probe_points_by_region[r].items():\n",
    "        data = extract_cross_section(regions_to_pressure_type[r], [Point(point)]).flatten()/mmHg2Pa\n",
    "        plt.plot(times, data, label=name)\n",
    "plt.legend()\n",
    "plt.grid()\n",
    "plt.xlabel(\"t [s]\")\n",
    "plt.ylabel(\"p in mmHg\")"
   ]
  },
  {
   "cell_type": "code",
   "execution_count": null,
   "metadata": {},
   "outputs": [],
   "source": [
    "# compute pressure gradient\n",
    "ventr_point = probe_points_by_region[\"ventricular_system\"][\"ventricle\"]\n",
    "sas_point = probe_points_by_region[\"sas\"][\"sas\"]\n",
    "ventr_data = extract_cross_section(pF_series, [Point(ventr_point)]).flatten()/mmHg2Pa\n",
    "sas_data = extract_cross_section(pF_series, [Point(sas_point)]).flatten()/mmHg2Pa\n",
    "\n",
    "dist = np.array(ventr_point) - np.array(sas_point)\n",
    "dist = np.linalg.norm(dist)\n",
    "diff = ventr_data - sas_data\n",
    "grad = diff/dist\n",
    "plt.figure(figsize=(10,8))\n",
    "plt.plot(times, grad , label=\"ventricle\")\n",
    "\n",
    "plt.legend()\n",
    "plt.grid()\n",
    "plt.xlabel(\"t [s]\")\n",
    "plt.ylabel(\"pressure grad in mmHg/m\")"
   ]
  },
  {
   "cell_type": "code",
   "execution_count": null,
   "metadata": {},
   "outputs": [],
   "source": [
    "# plot cross section through the domain\n",
    "x_coords = np.linspace(0.0, 0.12, 1000)\n",
    "if gdim==2:\n",
    "    cross_points = [Point(x, 0) for x in x_coords]\n",
    "elif gdim==3:\n",
    "    cross_points = [Point(x, 0, 0) for x in x_coords]\n",
    "\n",
    "pF_cross = extract_cross_section(pF_series, cross_points, filter_function=fluid_filter)/mmHg2Pa\n",
    "pP_cross = extract_cross_section(pP_series, cross_points, filter_function=por_filter)/mmHg2Pa\n",
    "phi_cross = extract_cross_section(phi_series, cross_points, filter_function=por_filter)/mmHg2Pa\n",
    "\n",
    "\n",
    "for i in np.arange(1, num_steps, 5):\n",
    "    plt.figure(figsize=(10,8))\n",
    "    plt.plot(x_coords, pF_cross[i,:], \".-\",label=\"fluid pressure\")\n",
    "    plt.plot(x_coords, pP_cross[i,:], \".-\", label=\"porous fluid pressure\")\n",
    "    plt.plot(x_coords, phi_cross[i,:], \".-\", label=\"total pressure\")\n",
    "\n",
    "    plt.legend()\n",
    "    plt.grid()\n",
    "    plt.title(f\"t = {(i)*dt:.3f}\")\n",
    "    plt.xlabel(\"x in m\")\n",
    "    plt.ylabel(\"p in mmHg\")"
   ]
  },
  {
   "cell_type": "code",
   "execution_count": null,
   "metadata": {},
   "outputs": [],
   "source": [
    "# compute outflow into spinal coord \n",
    "ds_outflow = Measure(\"ds\", domain=mesh, subdomain_data=boundary_marker, subdomain_id=spinal_outlet_id)\n",
    "n = FacetNormal(mesh)\n",
    "\n",
    "m3tomL = 1e6\n",
    "outflow = np.array([assemble(dot(u,n)*ds_outflow) for u in results[\"u\"]])\n",
    "plt.figure(figsize=(10,8))\n",
    "plt.plot(times, outflow*m3tomL, label=\"outflow into spinal coord\")\n",
    "plt.legend()\n",
    "plt.grid()\n",
    "plt.xlabel(\"time in s\")\n",
    "plt.ylabel(\"flowrate in mL/ s\")"
   ]
  },
  {
   "cell_type": "code",
   "execution_count": null,
   "metadata": {},
   "outputs": [],
   "source": [
    "cum_outflow = np.cumsum(outflow)*dt\n",
    "plt.figure(figsize=(10,8))\n",
    "plt.plot(times, cum_outflow*m3tomL, label=\"cumulative outflow into spinal coord\")\n",
    "plt.legend()\n",
    "plt.grid()\n",
    "plt.xlabel(\"time in s\")\n",
    "plt.ylabel(\"V in mL\")"
   ]
  },
  {
   "cell_type": "code",
   "execution_count": null,
   "metadata": {},
   "outputs": [],
   "source": [
    "# compute transitional flow in and out of parenchyma\n",
    "[u.set_allow_extrapolation(True) for u in results[\"u\"]]\n",
    "ds_interf = Measure(\"dS\", domain=mesh, subdomain_data=boundary_marker, subdomain_id=interface_id)\n",
    "dx = Measure(\"dx\", domain=mesh, subdomain_data=subdomain_marker)\n",
    "transitional_flow = np.array([assemble(dot(u(\"-\"), n(\"-\"))*ds_interf + Constant(0.0)*dx) for u in results[\"u\"]])\n",
    "plt.figure(figsize=(10,8))\n",
    "plt.plot(times, transitional_flow*m3tomL, label=\"outflow into spinal coord\")\n",
    "plt.legend()\n",
    "plt.grid()\n",
    "plt.xlabel(\"time in s\")\n",
    "plt.ylabel(\"flowrate in mL/ s\")"
   ]
  }
 ],
 "metadata": {
  "kernelspec": {
   "display_name": "Python 3",
   "language": "python",
   "name": "python3"
  },
  "language_info": {
   "codemirror_mode": {
    "name": "ipython",
    "version": 3
   },
   "file_extension": ".py",
   "mimetype": "text/x-python",
   "name": "python",
   "nbconvert_exporter": "python",
   "pygments_lexer": "ipython3",
   "version": "3.8.5"
  }
 },
 "nbformat": 4,
 "nbformat_minor": 4
}
