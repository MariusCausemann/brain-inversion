{
 "cells": [
  {
   "cell_type": "code",
   "execution_count": null,
   "metadata": {},
   "outputs": [],
   "source": [
    "from fenics import *\n",
    "import numpy as np\n",
    "from braininversion.IOHandling import (read_mesh_from_h5, write_to_xdmf, \n",
    "                                       xdmf_to_unstructuredGrid, read_xdmf_timeseries)\n",
    "from braininversion.PlottingHelper import (plot_pressures_and_forces_timeslice, \n",
    "                                           plot_pressures_and_forces_cross_section,\n",
    "                                           extract_cross_section, style_dict)\n",
    "import matplotlib.pyplot as plt\n",
    "import yaml\n",
    "import pyvista as pv\n"
   ]
  },
  {
   "cell_type": "code",
   "execution_count": null,
   "metadata": {},
   "outputs": [],
   "source": [
    "mesh_name = \"ideal_brain_2D_N100\"\n",
    "T = 2.0\n",
    "num_steps = 80\n",
    "# subdomain ids\n",
    "fluid_id = 2\n",
    "porous_id = 1\n",
    "\n",
    "# boundary ids\n",
    "interface_id = 1\n",
    "rigid_skull_id = 2\n",
    "spinal_outlet_id = 3\n",
    "fixed_stem_id = 4\n",
    "\n",
    "v_order = 2\n",
    "sim_name = f\"{mesh_name}_{T}_{num_steps}\"\n",
    "config_file_path = f\"../results/{sim_name}/{sim_name}_config.yml\"\n",
    "sim_file = f\"../results/{sim_name}/{sim_name}_checkp.xdmf\"\n",
    "sim_file_fluid = f\"../results/{sim_name}/{sim_name}_fluid.xdmf\"\n",
    "sim_file_porous = f\"../results/{sim_name}/{sim_name}_por.xdmf\"\n",
    "\n",
    "mesh_file = f\"../meshes/{mesh_name}/{mesh_name}.xdmf\"\n",
    "boundary_file = f\"../meshes/{mesh_name}/{mesh_name}_boundaries.xdmf\"\n",
    "\n",
    "\n",
    "with open(config_file_path) as conf_file:\n",
    "    config = yaml.load(conf_file, Loader=yaml.FullLoader)\n",
    "\n",
    "mesh_dir = config[\"mesh_dir_name\"]\n",
    "mesh_config_path = f\"../meshes/{mesh_dir}/{mesh_dir}_config.yml\"\n",
    "with open(mesh_config_path) as conf_file:\n",
    "    mesh_config = yaml.load(conf_file, Loader=yaml.FullLoader)\n"
   ]
  },
  {
   "cell_type": "code",
   "execution_count": null,
   "metadata": {},
   "outputs": [],
   "source": [
    "ventricle_probe = [Point(mesh_config[\"ventricle_probe\"])]\n",
    "sas_probe = [Point(mesh_config[\"sas_probe\"])]\n",
    "parenchyma_probe = [Point(mesh_config[\"parenchyma_probe\"])]\n",
    "\n",
    "mmHg2Pa = 132.32\n",
    "spinal_outlet_id = 3\n",
    "\n",
    "\n",
    "dt = T/num_steps\n",
    "times = np.linspace(dt, T, num_steps)\n",
    "infile_mesh = XDMFFile(mesh_file)\n",
    "mesh = Mesh()\n",
    "infile_mesh.read(mesh)\n",
    "gdim = mesh.geometric_dimension()\n",
    "subdomain_marker = MeshFunction(\"size_t\", mesh, gdim)\n",
    "infile_mesh.read(subdomain_marker, \"subdomains\")\n",
    "\n",
    "boundary_marker = MeshFunction(\"size_t\", mesh, gdim - 1, 0)\n",
    "boundary_infile = XDMFFile(boundary_file)\n",
    "boundary_infile.read(boundary_marker)\n",
    "boundary_infile.close()\n",
    "fluid_submesh = SubMesh(mesh, subdomain_marker, fluid_id)\n",
    "por_submesh = SubMesh(mesh, subdomain_marker, porous_id)"
   ]
  },
  {
   "cell_type": "code",
   "execution_count": null,
   "metadata": {},
   "outputs": [],
   "source": [
    "V = VectorFunctionSpace(mesh, \"CG\", v_order)\n",
    "V_por = VectorFunctionSpace(por_submesh, \"CG\", v_order)\n",
    "V_fluid = VectorFunctionSpace(fluid_submesh, \"CG\", v_order)\n",
    "\n",
    "W = FunctionSpace(mesh, \"CG\", 1)\n",
    "W_por = FunctionSpace(por_submesh, \"CG\", 1)\n",
    "W_fluid = FunctionSpace(fluid_submesh, \"CG\", 1)\n",
    "\n",
    "names = {\"pF\":W, \"pP\":W, \"phi\":W,\n",
    "         \"d\":V, \"u\":V}\n",
    "domains = {\"pF\":\"fluid\", \"pP\":\"porous\", \"phi\":\"porous\",\n",
    "         \"d\":\"porous\", \"u\":\"fluid\"}\n",
    "infile_results = XDMFFile(sim_file)\n",
    "results = {n:[] for n in names}\n",
    "for n, space in names.items():\n",
    "    for i in range(num_steps):\n",
    "        f = Function(space)\n",
    "        infile_results.read_checkpoint(f, n, i)\n",
    "        results[n].append(f)\n",
    "\n",
    "        \n",
    "outfile_por = XDMFFile(sim_file_porous)\n",
    "outfile_fluid = XDMFFile(sim_file_fluid)\n",
    "\n",
    "for name, timesteps in results.items():\n",
    "    if domains[name] == \"fluid\":\n",
    "        for i in range(num_steps):\n",
    "            if isinstance(timesteps[0].ufl_element(), VectorElement):\n",
    "                restricted_func = interpolate(timesteps[i], V_fluid)\n",
    "            else:\n",
    "                restricted_func = interpolate(timesteps[i], W_fluid)\n",
    "            restricted_func.rename(name, \"\")\n",
    "            timesteps[i] = restricted_func\n",
    "            outfile_fluid.write(restricted_func, (i+1)*dt)\n",
    "    if domains[name] == \"porous\":\n",
    "        for i in range(num_steps):\n",
    "            if isinstance(timesteps[0].ufl_element(), VectorElement):\n",
    "                restricted_func = interpolate(timesteps[i], V_por)\n",
    "            else:\n",
    "                restricted_func = interpolate(timesteps[i], W_por)\n",
    "            restricted_func.rename(name, \"\")\n",
    "            timesteps[i] = restricted_func\n",
    "            outfile_por.write(restricted_func, (i+1)*dt)\n",
    "        \n",
    "outfile_fluid.close()\n",
    "outfile_por.close()"
   ]
  },
  {
   "cell_type": "code",
   "execution_count": null,
   "metadata": {},
   "outputs": [],
   "source": [
    "# plot pressure evolution at different probe points\n",
    "pP_series = results[\"pP\"]\n",
    "pF_series = results[\"pF\"]\n",
    "phi_series = results[\"phi\"]\n",
    "\n",
    "pF_sas = extract_cross_section(pF_series, sas_probe).flatten()/mmHg2Pa\n",
    "pF_ventricle = extract_cross_section(pF_series, ventricle_probe).flatten()/mmHg2Pa\n",
    "pP_parenchyma = extract_cross_section(pP_series, parenchyma_probe).flatten()/mmHg2Pa\n",
    "phi_parenchyma = extract_cross_section(phi_series, parenchyma_probe).flatten()/mmHg2Pa\n",
    "\n",
    "plt.figure(figsize=(10,8))\n",
    "plt.plot(times, pF_ventricle, label=\"ventricle\")\n",
    "plt.plot(times, pP_parenchyma, label=\"parenchyma fluid\")\n",
    "plt.plot(times, phi_parenchyma, label=\"parenchyma tot\")\n",
    "plt.plot(times, pF_sas, label=\"SAS\")\n",
    "\n",
    "plt.legend()\n",
    "plt.grid()\n",
    "plt.xlabel(\"t [s]\")\n",
    "plt.ylabel(\"p in mmHg\")"
   ]
  },
  {
   "cell_type": "code",
   "execution_count": null,
   "metadata": {},
   "outputs": [],
   "source": [
    "parenchyma_probe[0].array()"
   ]
  },
  {
   "cell_type": "code",
   "execution_count": null,
   "metadata": {},
   "outputs": [],
   "source": [
    "# plot cross section through the domain\n",
    "x_coords = np.linspace(0.0, 0.12, 100)\n",
    "if gdim==2:\n",
    "    cross_points = [Point(x, 0) for x in x_coords]\n",
    "elif gdim==3:\n",
    "    cross_points = [Point(x, 0, 0) for x in x_coords]\n",
    "\n",
    "pF_cross = extract_cross_section(pF_series, cross_points)/mmHg2Pa\n",
    "pP_cross = extract_cross_section(pP_series, cross_points)/mmHg2Pa\n",
    "phi_cross = extract_cross_section(phi_series, cross_points)/mmHg2Pa\n",
    "\n",
    "\n",
    "for i in [0,10,20,30,40,50,60,70]:\n",
    "    plt.figure(figsize=(10,8))\n",
    "    plt.plot(x_coords, pF_cross[i,:], \".-\",label=\"fluid pressure\")\n",
    "    plt.plot(x_coords, pP_cross[i,:], \".-\", label=\"porous fluid pressure\")\n",
    "    plt.plot(x_coords, phi_cross[i,:], \".-\", label=\"total pressure\")\n",
    "\n",
    "    plt.legend()\n",
    "    plt.grid()\n",
    "    plt.title(f\"t = {(i+1)*dt:.3f}\")\n",
    "    plt.xlabel(\"x in m\")\n",
    "    plt.ylabel(\"p in mmHg\")"
   ]
  },
  {
   "cell_type": "code",
   "execution_count": null,
   "metadata": {},
   "outputs": [],
   "source": [
    "# compute outflow into spinal coord \n",
    "\n",
    "ds_outflow = Measure(\"ds\", domain=mesh, subdomain_data=boundary_marker, subdomain_id=spinal_outlet_id)\n",
    "n = FacetNormal(mesh)\n",
    "\n",
    "m3tomL = 1e6\n",
    "outflow = np.array([assemble(dot(u,n)*ds_outflow) for u in results[\"u\"]])\n",
    "plt.figure(figsize=(10,8))\n",
    "plt.plot(times, outflow*m3tomL, label=\"outflow into spinal coord\")\n",
    "plt.legend()\n",
    "plt.grid()\n",
    "plt.xlabel(\"time in s\")\n",
    "plt.ylabel(\"flowrate in mL/ s\")"
   ]
  },
  {
   "cell_type": "code",
   "execution_count": null,
   "metadata": {},
   "outputs": [],
   "source": [
    "# compute transitional flow in and out of parenchyma\n",
    "[u.set_allow_extrapolation(True) for u in results[\"u\"]]\n",
    "ds_interf = Measure(\"dS\", domain=mesh, subdomain_data=boundary_marker, subdomain_id=interface_id)\n",
    "dx = Measure(\"dx\", domain=mesh, subdomain_data=subdomain_marker)\n",
    "transitional_flow = np.array([assemble(dot(u(\"-\"), n(\"-\"))*ds_interf + Constant(0.0)*dx) for u in results[\"u\"]])\n",
    "plt.figure(figsize=(10,8))\n",
    "plt.plot(times, transitional_flow*m3tomL, label=\"outflow into spinal coord\")\n",
    "plt.legend()\n",
    "plt.grid()\n",
    "plt.xlabel(\"time in s\")\n",
    "plt.ylabel(\"flowrate in mL/ s\")"
   ]
  },
  {
   "cell_type": "code",
   "execution_count": null,
   "metadata": {},
   "outputs": [],
   "source": [
    "if gdim==3:\n",
    "\n",
    "    grid_por = xdmf_to_unstructuredGrid(sim_file_porous, idx=[0])\n",
    "    grid_fluid = xdmf_to_unstructuredGrid(sim_file_fluid, idx=[0,1])\n"
   ]
  },
  {
   "cell_type": "code",
   "execution_count": null,
   "metadata": {},
   "outputs": [],
   "source": [
    "slices = grid_por.slice_orthogonal()\n",
    "p = pv.Plotter()\n",
    "p.add_mesh(slices,cmap=\"coolwarm\")\n",
    "p.show()"
   ]
  },
  {
   "cell_type": "code",
   "execution_count": null,
   "metadata": {},
   "outputs": [],
   "source": [
    "clipped_data_por = grid_por.clip(normal=[0,1,0])\n",
    "clipped_data_fluid = grid_fluid.clip(normal=[0,1,0])\n",
    "\n",
    "p = pv.PlotterITK()\n",
    "p.add_mesh(grid_por)\n"
   ]
  },
  {
   "cell_type": "code",
   "execution_count": null,
   "metadata": {},
   "outputs": [],
   "source": [
    "p.show()"
   ]
  },
  {
   "cell_type": "code",
   "execution_count": null,
   "metadata": {},
   "outputs": [],
   "source": [
    "mesh"
   ]
  },
  {
   "cell_type": "code",
   "execution_count": null,
   "metadata": {},
   "outputs": [],
   "source": [
    "fluid_submesh"
   ]
  },
  {
   "cell_type": "code",
   "execution_count": null,
   "metadata": {},
   "outputs": [],
   "source": [
    "por_submesh"
   ]
  },
  {
   "cell_type": "code",
   "execution_count": null,
   "metadata": {},
   "outputs": [],
   "source": []
  }
 ],
 "metadata": {
  "kernelspec": {
   "display_name": "Python 3",
   "language": "python",
   "name": "python3"
  },
  "language_info": {
   "codemirror_mode": {
    "name": "ipython",
    "version": 3
   },
   "file_extension": ".py",
   "mimetype": "text/x-python",
   "name": "python",
   "nbconvert_exporter": "python",
   "pygments_lexer": "ipython3",
   "version": "3.8.2"
  }
 },
 "nbformat": 4,
 "nbformat_minor": 4
}
