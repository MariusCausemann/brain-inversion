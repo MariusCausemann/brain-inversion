{
 "cells": [
  {
   "cell_type": "code",
   "execution_count": null,
   "metadata": {},
   "outputs": [],
   "source": [
    "from BiotSolver import solve_biot\n",
    "from fenics import *\n",
    "from mshr import *\n",
    "from SimpleBrainMesh import generate_doughnut_mesh\n",
    "import matplotlib.pyplot as plt\n",
    "import numpy as np\n",
    "from fenics_adjoint import *\n",
    "\n",
    "\n",
    "T = 1.2            # final time\n",
    "num_steps = 24     # number of time steps\n",
    "dt = T / num_steps # time step size\n",
    "\n",
    "\n",
    "kappa = 15*1e-12     # permeability 15*(1e-9)**2\n",
    "visc = 0.8*1e-3          # viscocity \n",
    "K = Constant(kappa/visc) # hydraulic conductivity\n",
    "E = 1500.0 # Young modulus\n",
    "nu = 0.49999 # Poisson ratio\n",
    "\n",
    "c = 2*1e-4  # storage coefficent\n",
    "alpha = 0.5 # Biot-Willis coefficient (change of the bulk volume due to pore pressure change)\n",
    "\n",
    "\n",
    "# Lame coefficients\n",
    "lmbda = nu*E/((1.0-2.0*nu)*(1.0+nu)) \n",
    "mu = E/(2.0*(1.0+nu))\n",
    "\n",
    "mmHg2Pa = 133.32\n",
    "material_parameter = dict()\n",
    "material_parameter[\"c\"] = c\n",
    "material_parameter[\"K\"] = K \n",
    "material_parameter[\"lambda\"] = lmbda\n",
    "material_parameter[\"mu\"] = mu\n",
    "material_parameter[\"alpha\"] = alpha\n",
    "\n",
    "\n",
    "# create mesh\n",
    "size = 0.1\n",
    "N = 15\n",
    "mesh = RectangleMesh(Point(0.0, 0.0), Point(size, size), N, N)\n",
    "\n",
    "\n",
    "ventricle = CompiledSubDomain(\"on_boundary && near(x[0], 0.0)\")\n",
    "skull = CompiledSubDomain(\"on_boundary && near(x[0], size)\", size=size)\n",
    "\n",
    "p_D_skull = Constant(0.0)\n",
    "p_D_ventricle = Expression(\"a*sin(2*pi*f*( t + d) )\", t=0, f=1, a=5*mmHg2Pa, d=0.0, degree=2)\n",
    "#p_D_ventricle = Constant(1.0)\n",
    "u_D_skull = Constant([0.0, 0.0])\n",
    "\n",
    "probe_points = [\n",
    "                Point(0.0, 0.5*size),\n",
    "                Point(0.2*size, 0.5*size),\n",
    "                Point(0.4*size, 0.5*size),\n",
    "                ]\n",
    "\n",
    "y = 0.5*size\n",
    "x_coords = np.linspace(0.0, size, 1000)\n",
    "slice_points = [Point(x,y) for x in x_coords]"
   ]
  },
  {
   "cell_type": "code",
   "execution_count": null,
   "metadata": {},
   "outputs": [],
   "source": [
    "results = solve_biot(mesh, material_parameter, T, num_steps,\n",
    "                     skull, ventricle, \n",
    "                     p_D_skull=p_D_skull,\n",
    "                     p_D_ventricle=p_D_ventricle,\n",
    "                     u_D_skull=u_D_skull,\n",
    "                     probe_points=probe_points,\n",
    "                     slice_points=slice_points)"
   ]
  },
  {
   "cell_type": "code",
   "execution_count": null,
   "metadata": {},
   "outputs": [],
   "source": [
    "times = [ 0.2, 0.4, 0.6, 0.8, 1.0]\n",
    "\n",
    "idx = []\n",
    "for i in range(num_steps):\n",
    "    if np.isclose((i +1)*dt, times).any():\n",
    "        idx.append(i)\n",
    "cross_section = results[\"p_fluid_slice\"]\n",
    "plt.figure(figsize=(10,10))\n",
    "for i in idx:\n",
    "    plt.plot(x_coords, cross_section[i,:], label=\"t = {}\".format((i +1)*dt))\n",
    "plt.legend()\n",
    "plt.grid()\n",
    "plt.xlabel(\"x in m\")\n",
    "plt.ylabel(\"p in Pa\")\n"
   ]
  },
  {
   "cell_type": "code",
   "execution_count": null,
   "metadata": {},
   "outputs": [],
   "source": [
    "p_data = results[\"probe_point_p_fluid\"]\n",
    "plt.figure(figsize=(10,10))\n",
    "num_points = len(probe_points)\n",
    "for i in range(num_points):\n",
    "    plt.plot(np.linspace(0,T, num_steps), \n",
    "             p_data[:,i], \n",
    "             label=\"$P_{}$\".format(i)\n",
    "            )\n",
    "plt.xlabel(\"t in s\")\n",
    "plt.ylabel(\"p in Pa\")\n",
    "plt.grid()\n",
    "plt.legend()\n"
   ]
  },
  {
   "cell_type": "code",
   "execution_count": null,
   "metadata": {},
   "outputs": [],
   "source": [
    "plt.figure(figsize=(8,8))\n",
    "cont = plot(mesh)\n",
    "for i, point in enumerate(probe_points):\n",
    "    plt.scatter(point.array()[0], point.array()[1],\n",
    "                marker=\".\", s= 300)\n",
    "    plt.annotate( \"$P_{}$\".format(i), point.array()[0:2], size=20)"
   ]
  },
  {
   "cell_type": "code",
   "execution_count": null,
   "metadata": {},
   "outputs": [],
   "source": []
  }
 ],
 "metadata": {
  "kernelspec": {
   "display_name": "Python 3",
   "language": "python",
   "name": "python3"
  },
  "language_info": {
   "codemirror_mode": {
    "name": "ipython",
    "version": 3
   },
   "file_extension": ".py",
   "mimetype": "text/x-python",
   "name": "python",
   "nbconvert_exporter": "python",
   "pygments_lexer": "ipython3",
   "version": "3.6.9"
  }
 },
 "nbformat": 4,
 "nbformat_minor": 4
}
