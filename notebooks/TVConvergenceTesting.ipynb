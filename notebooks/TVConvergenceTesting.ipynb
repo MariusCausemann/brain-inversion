{
 "cells": [
  {
   "cell_type": "code",
   "execution_count": null,
   "metadata": {},
   "outputs": [],
   "source": [
    "from fenics import *\n",
    "from fenics_adjoint import *\n",
    "import matplotlib.pyplot as plt\n",
    "\n",
    "N = 20\n",
    "alpha = 1.0\n",
    "beta = 1.0\n",
    "c1 = 0\n",
    "c2 = 1\n",
    "\n",
    "\n",
    "iteration_count = 0\n",
    "iteration_plots = [1,2,3,4,5, 10, 20, 25, 30, 40, 50, 80, 100, 110, 120, 150, 200, 250, 300]\n",
    "\n",
    "def setup(N):\n",
    "    mesh = Mesh(UnitIntervalMesh(N))\n",
    "    V = FunctionSpace(mesh, \"CG\", 1)\n",
    "    f = Function(V)\n",
    "    dS = Measure(\"dS\", domain=mesh)\n",
    "    bm = MeshFunction(\"size_t\", mesh, 0)\n",
    "    bm.array()[0] = 1\n",
    "    bm.array()[-1] = 2\n",
    "    ds = Measure(\"ds\", domain=mesh, subdomain_data=bm)\n",
    "    n = FacetNormal(mesh)\n",
    "    J1 = assemble(((f - c1)**2*ds(1) + (f - c2)**2*ds(2)))\n",
    "    J2 = assemble(jump(grad(f), n)**2*dS)\n",
    "    #J2 = assemble((inner(grad(f), grad(f)))*dx)\n",
    "    J = alpha*J1 + beta*J2\n",
    "    return J, f\n",
    "    \n",
    "def derivative_cb(j, dj, m):\n",
    "    global iteration_count\n",
    "    if iteration_count in iteration_plots:\n",
    "        plt.figure()\n",
    "        plot(m, \"-.\")\n",
    "        plt.title(f\"iteration {iteration_count}\")\n",
    "        plt.grid()\n",
    "    iteration_count += 1\n",
    "    \n",
    "J,f = setup(N)\n",
    "\n",
    "reduced_functional = ReducedFunctional(J, Control(f), derivative_cb_post = derivative_cb)\n",
    "\n",
    "f_opt = minimize(reduced_functional, method = 'BFGS', options = {'disp': True})\n"
   ]
  },
  {
   "cell_type": "code",
   "execution_count": null,
   "metadata": {},
   "outputs": [],
   "source": [
    "print_optimization_methods()"
   ]
  },
  {
   "cell_type": "code",
   "execution_count": null,
   "metadata": {},
   "outputs": [],
   "source": [
    "for N in [10, 50]:\n",
    "    print(\"==========================================\")\n",
    "    print(f\"            N = {N}                      \")\n",
    "    print(\"==========================================\")\n",
    "    for method in [\"BFGS\", \"CG\", \"Newton-CG\",\"SLSQP\" ]:\n",
    "        print(f\"Using {method}:\")\n",
    "        J,f = setup(N)\n",
    "        reduced_functional = ReducedFunctional(J, Control(f), derivative_cb_post = derivative_cb)\n",
    "        f_opt = minimize(reduced_functional, method = method, options = {'disp': True})\n"
   ]
  },
  {
   "cell_type": "code",
   "execution_count": null,
   "metadata": {},
   "outputs": [],
   "source": [
    "minimize?"
   ]
  },
  {
   "cell_type": "code",
   "execution_count": null,
   "metadata": {},
   "outputs": [],
   "source": []
  }
 ],
 "metadata": {
  "kernelspec": {
   "display_name": "Python 3",
   "language": "python",
   "name": "python3"
  },
  "language_info": {
   "codemirror_mode": {
    "name": "ipython",
    "version": 3
   },
   "file_extension": ".py",
   "mimetype": "text/x-python",
   "name": "python",
   "nbconvert_exporter": "python",
   "pygments_lexer": "ipython3",
   "version": "3.8.5"
  }
 },
 "nbformat": 4,
 "nbformat_minor": 4
}
