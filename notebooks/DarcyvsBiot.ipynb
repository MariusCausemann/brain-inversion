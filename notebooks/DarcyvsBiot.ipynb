{
 "cells": [
  {
   "cell_type": "code",
   "execution_count": null,
   "metadata": {},
   "outputs": [],
   "source": [
    "from collections import OrderedDict\n",
    "from fenics import *\n",
    "import matplotlib.pyplot as plt\n",
    "import numpy as np\n",
    "from fenics_adjoint import *\n",
    "import moola\n",
    "from mshr import *\n",
    "from DarcySolver import solve_darcy\n",
    "from BiotSolver import solve_biot\n",
    "from PlottingHelper import (plot_pressures_cross_section, \n",
    "                            plot_pressures_timeslice,\n",
    "                            extract_cross_section, style_dict)\n",
    "\n",
    "# time stepping\n",
    "T = 1.2           # final time\n",
    "num_steps = 12    # number of time steps\n",
    "dt = T/ num_steps\n",
    "times = np.linspace(dt, T, num_steps)\n",
    "\n",
    "# material parameter\n",
    "kappa = 1e-17       # permeability\n",
    "visc = 0.8*1e-3     # viscocity \n",
    "K = kappa/visc      # hydraulic conductivity\n",
    "c = 2*1e-4  # storage coefficent\n",
    "alpha = 1.0  # Biot-Willis coefficient\n",
    "\n",
    "\n",
    "# Biot material parameters\n",
    "E = 1500.0          # Young modulus\n",
    "nu = 0.479         # Poisson ratio\n",
    "\n",
    "material_parameter = dict()\n",
    "material_parameter[\"c\"] = c\n",
    "material_parameter[\"K\"] = K\n",
    "material_parameter[\"lmbda\"] = nu*E/((1.0-2.0*nu)*(1.0+nu)) \n",
    "material_parameter[\"mu\"] = E/(2.0*(1.0+nu))\n",
    "material_parameter[\"alpha\"] = alpha\n",
    "mmHg2Pa = 132.32\n",
    "\n",
    "# create mesh and mark boundaries\n",
    "N = 10 # resolution\n",
    "brain_radius = 0.1 \n",
    "ventricle_radius = brain_radius/3\n",
    "brain = Circle(Point(0,0), brain_radius)\n",
    "ventricle = Circle(Point(0,0), ventricle_radius)\n",
    "brain = brain - ventricle\n",
    "mesh = Mesh(generate_mesh(brain, N))\n",
    "\n",
    "ventricle = CompiledSubDomain(\"on_boundary && (x[0]*x[0] + x[1]*x[1] < R*R*0.95)\",\n",
    "                              R =brain_radius )\n",
    "skull = CompiledSubDomain(\"on_boundary && (x[0]*x[0] + x[1]*x[1] >= R*R*0.95 )\",\n",
    "                          R = brain_radius)\n",
    "boundary_marker = MeshFunction(\"size_t\", mesh, mesh.topology().dim()-1, value=0)\n",
    "skull.mark(boundary_marker, 1)\n",
    "ventricle.mark(boundary_marker, 2)\n",
    "x_coords = np.linspace(ventricle_radius, brain_radius, 20)\n",
    "slice_points = [Point(x, 0.0) for x in x_coords]\n",
    "\n",
    "# set analytical expressions\n",
    "f = 1\n",
    "A = 1/(brain_radius - ventricle_radius)*mmHg2Pa\n",
    "p_obs = Expression(\"A*(sqrt(x[0]*x[0] + x[1]*x[1]) - R_vent)*sin(2*pi*f*t)\",\n",
    "                    A=A, f=f, t=0, R_vent=ventricle_radius, degree=2)\n",
    "\n",
    "f_ana = Expression(\"- K*A/(sqrt(x[0]*x[0] + x[1]*x[1]))*sin(2*pi*f*t)\" +\n",
    "                   \"+ c*2*A*pi*f*(sqrt(x[0]*x[0] + x[1]*x[1]) - R_vent)*cos(2*pi*f*t)\",\n",
    "                    K=K, A=A, c=c, f=f, t=0, R_vent=ventricle_radius, degree=2)\n"
   ]
  },
  {
   "cell_type": "code",
   "execution_count": null,
   "metadata": {},
   "outputs": [],
   "source": [
    "# compute darcy flow\n",
    "boundary_conditions_p = {1:{\"Dirichlet\":p_obs},\n",
    "                         2:{\"Dirichlet\":p_obs}}\n",
    "darcy_solution = solve_darcy(mesh, f_ana, T, num_steps, K,\n",
    "                             boundary_marker, boundary_conditions_p,\n",
    "                             c=c, p_initial=p_obs)\n",
    "darcy_solution = [s.copy() for s in darcy_solution]"
   ]
  },
  {
   "cell_type": "code",
   "execution_count": null,
   "metadata": {},
   "outputs": [],
   "source": [
    "# compute biot flow\n",
    "f = Constant((0.0,0.0))\n",
    "n = FacetNormal(mesh)\n",
    "boundary_conditions_u = {1:{\"Dirichlet\":Constant((0.0, 0.0))},\n",
    "                         2:{\"Neumann\": -p_obs*n}\n",
    "                        }\n",
    "\n",
    "\n",
    "biot_solution = solve_biot(mesh, f, f_ana, T, num_steps, material_parameter,\n",
    "                           boundary_marker, boundary_conditions_p,\n",
    "                           boundary_marker, boundary_conditions_u)\n",
    "biot_solution = [s.copy() for s in biot_solution]\n",
    "biot_pressure_solution = [s.split()[2] for s in biot_solution]"
   ]
  },
  {
   "cell_type": "code",
   "execution_count": null,
   "metadata": {},
   "outputs": [],
   "source": [
    "darcy_slice = extract_cross_section(darcy_solution, slice_points)/mmHg2Pa\n",
    "biot_slice = extract_cross_section(biot_pressure_solution, slice_points)/mmHg2Pa\n",
    "\n",
    "pressures = {\"biot\":biot_slice,\n",
    "             \"darcy\":darcy_slice}\n",
    "style_dict[\"biot\"]= {\"marker\":\"*\"}"
   ]
  },
  {
   "cell_type": "code",
   "execution_count": null,
   "metadata": {},
   "outputs": [],
   "source": [
    "for i in [1,5,10]:\n",
    "    plot_pressures_cross_section(pressures, i, x_coords)\n",
    "    plt.title(f\"t={times[i]:.3f} s\")"
   ]
  },
  {
   "cell_type": "code",
   "execution_count": null,
   "metadata": {},
   "outputs": [],
   "source": [
    "for i in [2,6,12,16]:\n",
    "    plot_pressures_timeslice(pressures, i, times)\n",
    "    plt.title(f\"Point: ({slice_points[i].x():.3f}, {slice_points[i].y():.3f})\")"
   ]
  },
  {
   "cell_type": "code",
   "execution_count": null,
   "metadata": {},
   "outputs": [],
   "source": [
    "p = biot_pressure_solution[0]\n",
    "plot(p)"
   ]
  },
  {
   "cell_type": "code",
   "execution_count": null,
   "metadata": {},
   "outputs": [],
   "source": [
    "assemble(div(grad(p))*dx)"
   ]
  },
  {
   "cell_type": "code",
   "execution_count": null,
   "metadata": {},
   "outputs": [],
   "source": []
  }
 ],
 "metadata": {
  "kernelspec": {
   "display_name": "Python 3",
   "language": "python",
   "name": "python3"
  },
  "language_info": {
   "codemirror_mode": {
    "name": "ipython",
    "version": 3
   },
   "file_extension": ".py",
   "mimetype": "text/x-python",
   "name": "python",
   "nbconvert_exporter": "python",
   "pygments_lexer": "ipython3",
   "version": "3.6.9"
  }
 },
 "nbformat": 4,
 "nbformat_minor": 4
}
